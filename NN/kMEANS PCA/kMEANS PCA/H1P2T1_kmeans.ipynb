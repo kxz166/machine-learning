{
  "nbformat": 4,
  "nbformat_minor": 0,
  "metadata": {
    "colab": {
      "name": "H1P2T1_kmeans.ipynb",
      "provenance": [],
      "collapsed_sections": [],
      "toc_visible": true
    },
    "kernelspec": {
      "display_name": "Python 3",
      "language": "python",
      "name": "python3"
    },
    "language_info": {
      "codemirror_mode": {
        "name": "ipython",
        "version": 3
      },
      "file_extension": ".py",
      "mimetype": "text/x-python",
      "name": "python",
      "nbconvert_exporter": "python",
      "pygments_lexer": "ipython3",
      "version": "3.7.5"
    }
  },
  "cells": [
    {
      "cell_type": "markdown",
      "metadata": {
        "id": "nL9rQGIhbbQB",
        "colab_type": "text"
      },
      "source": [
        "## Homework 1 Part 2 Task 1:  K-means Clustering"
      ]
    },
    {
      "cell_type": "markdown",
      "metadata": {
        "id": "Au3JH05WbbQG",
        "colab_type": "text"
      },
      "source": [
        "You will apply k-means clustering to analyze housing data <br>\n",
        "In general, to do clustering, we need <br>\n",
        "(1) feature vectors of objects <br>\n",
        "(2) a distance measure (or a similarity measure) <br>\n",
        "The result may vary if you change (1) and/or (2) <br>\n",
        "In standard k-means, L2 norm based distance measure is used. <br>\n",
        "Thus, k-means clustering result depends on (1) <br>\n",
        "In this task, you will select different sets of feature components for clustering with different goals. <br>\n",
        "Also, you will see the randomness of k-means clustering. <br>\n",
        "You need to read through the instructions until you see \"your work begins here\" <br>\n",
        "This is a guided-task: <br>\n",
        "You may see the output of a code cell and then figure out the code in that cell. <br>\n",
        "In each code cell, there are instructions to help you. <br>\n",
        "This is a very efficient and effective way to learn how to program with sk-learn <br>\n",
        "Because k-means is somewhat random, your results may be different from those provided in the file."
      ]
    },
    {
      "cell_type": "markdown",
      "metadata": {
        "id": "_bO0xROPbbQJ",
        "colab_type": "text"
      },
      "source": [
        "#### First, we load the dataset\n",
        "It is a table. Each row contains the information of an area in the state of california. Thus, an area in the state of california is an object in this application; a row is the \"raw\" feature vector of an object. Other names of a row: a data point, a data sample, an instance, an observation."
      ]
    },
    {
      "cell_type": "code",
      "metadata": {
        "colab_type": "code",
        "id": "M4T044lP4YdH",
        "outputId": "7286a719-b9b2-4ded-d7cc-0d0086fbfadb",
        "scrolled": false,
        "colab": {
          "base_uri": "https://localhost:8080/",
          "height": 215
        }
      },
      "source": [
        "#we need to import the package pandas to read data files\n",
        "#we give it a new name 'pd', easy to remember and use\n",
        "import pandas as pd\n",
        "#the table is in the file housing.csv\n",
        "housing = pd.read_csv(\"housing.csv\")\n",
        "#use head function to show the first five rows\n",
        "housing.head()"
      ],
      "execution_count": 26,
      "outputs": [
        {
          "output_type": "execute_result",
          "data": {
            "text/html": [
              "<div>\n",
              "<style scoped>\n",
              "    .dataframe tbody tr th:only-of-type {\n",
              "        vertical-align: middle;\n",
              "    }\n",
              "\n",
              "    .dataframe tbody tr th {\n",
              "        vertical-align: top;\n",
              "    }\n",
              "\n",
              "    .dataframe thead th {\n",
              "        text-align: right;\n",
              "    }\n",
              "</style>\n",
              "<table border=\"1\" class=\"dataframe\">\n",
              "  <thead>\n",
              "    <tr style=\"text-align: right;\">\n",
              "      <th></th>\n",
              "      <th>longitude</th>\n",
              "      <th>latitude</th>\n",
              "      <th>housing_median_age</th>\n",
              "      <th>total_rooms</th>\n",
              "      <th>total_bedrooms</th>\n",
              "      <th>population</th>\n",
              "      <th>households</th>\n",
              "      <th>median_income</th>\n",
              "      <th>median_house_value</th>\n",
              "      <th>ocean_proximity</th>\n",
              "    </tr>\n",
              "  </thead>\n",
              "  <tbody>\n",
              "    <tr>\n",
              "      <th>0</th>\n",
              "      <td>-122.23</td>\n",
              "      <td>37.88</td>\n",
              "      <td>41.0</td>\n",
              "      <td>880.0</td>\n",
              "      <td>129.0</td>\n",
              "      <td>322.0</td>\n",
              "      <td>126.0</td>\n",
              "      <td>8.3252</td>\n",
              "      <td>452600.0</td>\n",
              "      <td>NEAR BAY</td>\n",
              "    </tr>\n",
              "    <tr>\n",
              "      <th>1</th>\n",
              "      <td>-122.22</td>\n",
              "      <td>37.86</td>\n",
              "      <td>21.0</td>\n",
              "      <td>7099.0</td>\n",
              "      <td>1106.0</td>\n",
              "      <td>2401.0</td>\n",
              "      <td>1138.0</td>\n",
              "      <td>8.3014</td>\n",
              "      <td>358500.0</td>\n",
              "      <td>NEAR BAY</td>\n",
              "    </tr>\n",
              "    <tr>\n",
              "      <th>2</th>\n",
              "      <td>-122.24</td>\n",
              "      <td>37.85</td>\n",
              "      <td>52.0</td>\n",
              "      <td>1467.0</td>\n",
              "      <td>190.0</td>\n",
              "      <td>496.0</td>\n",
              "      <td>177.0</td>\n",
              "      <td>7.2574</td>\n",
              "      <td>352100.0</td>\n",
              "      <td>NEAR BAY</td>\n",
              "    </tr>\n",
              "    <tr>\n",
              "      <th>3</th>\n",
              "      <td>-122.25</td>\n",
              "      <td>37.85</td>\n",
              "      <td>52.0</td>\n",
              "      <td>1274.0</td>\n",
              "      <td>235.0</td>\n",
              "      <td>558.0</td>\n",
              "      <td>219.0</td>\n",
              "      <td>5.6431</td>\n",
              "      <td>341300.0</td>\n",
              "      <td>NEAR BAY</td>\n",
              "    </tr>\n",
              "    <tr>\n",
              "      <th>4</th>\n",
              "      <td>-122.25</td>\n",
              "      <td>37.85</td>\n",
              "      <td>52.0</td>\n",
              "      <td>1627.0</td>\n",
              "      <td>280.0</td>\n",
              "      <td>565.0</td>\n",
              "      <td>259.0</td>\n",
              "      <td>3.8462</td>\n",
              "      <td>342200.0</td>\n",
              "      <td>NEAR BAY</td>\n",
              "    </tr>\n",
              "  </tbody>\n",
              "</table>\n",
              "</div>"
            ],
            "text/plain": [
              "   longitude  latitude  ...  median_house_value  ocean_proximity\n",
              "0    -122.23     37.88  ...            452600.0         NEAR BAY\n",
              "1    -122.22     37.86  ...            358500.0         NEAR BAY\n",
              "2    -122.24     37.85  ...            352100.0         NEAR BAY\n",
              "3    -122.25     37.85  ...            341300.0         NEAR BAY\n",
              "4    -122.25     37.85  ...            342200.0         NEAR BAY\n",
              "\n",
              "[5 rows x 10 columns]"
            ]
          },
          "metadata": {
            "tags": []
          },
          "execution_count": 26
        }
      ]
    },
    {
      "cell_type": "code",
      "metadata": {
        "id": "jQnF-Y16bbQS",
        "colab_type": "code",
        "outputId": "543ac321-d609-450e-d48c-51ed2b55096d",
        "colab": {
          "base_uri": "https://localhost:8080/",
          "height": 34
        }
      },
      "source": [
        "# type of variable 'housing' is pandas DataFrame\n",
        "# it is realy important to know types of variables\n",
        "# because functions only work with specific types of variables.\n",
        "type(housing)"
      ],
      "execution_count": 27,
      "outputs": [
        {
          "output_type": "execute_result",
          "data": {
            "text/plain": [
              "pandas.core.frame.DataFrame"
            ]
          },
          "metadata": {
            "tags": []
          },
          "execution_count": 27
        }
      ]
    },
    {
      "cell_type": "code",
      "metadata": {
        "colab_type": "code",
        "id": "25y-btYG4m7J",
        "outputId": "30f0e364-425f-4d8f-a0f0-79f788588877",
        "colab": {
          "base_uri": "https://localhost:8080/",
          "height": 269
        }
      },
      "source": [
        "# get the general information of the DataFrame\n",
        "housing.info()"
      ],
      "execution_count": 28,
      "outputs": [
        {
          "output_type": "stream",
          "text": [
            "<class 'pandas.core.frame.DataFrame'>\n",
            "RangeIndex: 20640 entries, 0 to 20639\n",
            "Data columns (total 10 columns):\n",
            "longitude             20640 non-null float64\n",
            "latitude              20640 non-null float64\n",
            "housing_median_age    20640 non-null float64\n",
            "total_rooms           20640 non-null float64\n",
            "total_bedrooms        20433 non-null float64\n",
            "population            20640 non-null float64\n",
            "households            20640 non-null float64\n",
            "median_income         20640 non-null float64\n",
            "median_house_value    20640 non-null float64\n",
            "ocean_proximity       20640 non-null object\n",
            "dtypes: float64(9), object(1)\n",
            "memory usage: 1.6+ MB\n"
          ],
          "name": "stdout"
        }
      ]
    },
    {
      "cell_type": "code",
      "metadata": {
        "id": "xuLA1dLmbbQb",
        "colab_type": "code",
        "outputId": "6714031f-54be-4c48-88a1-8ec62977ba29",
        "colab": {
          "base_uri": "https://localhost:8080/",
          "height": 202
        }
      },
      "source": [
        "# get some statistics\n",
        "print(housing.describe())"
      ],
      "execution_count": 29,
      "outputs": [
        {
          "output_type": "stream",
          "text": [
            "          longitude      latitude  ...  median_income  median_house_value\n",
            "count  20640.000000  20640.000000  ...   20640.000000        20640.000000\n",
            "mean    -119.569704     35.631861  ...       3.870671       206855.816909\n",
            "std        2.003532      2.135952  ...       1.899822       115395.615874\n",
            "min     -124.350000     32.540000  ...       0.499900        14999.000000\n",
            "25%     -121.800000     33.930000  ...       2.563400       119600.000000\n",
            "50%     -118.490000     34.260000  ...       3.534800       179700.000000\n",
            "75%     -118.010000     37.710000  ...       4.743250       264725.000000\n",
            "max     -114.310000     41.950000  ...      15.000100       500001.000000\n",
            "\n",
            "[8 rows x 9 columns]\n"
          ],
          "name": "stdout"
        }
      ]
    },
    {
      "cell_type": "code",
      "metadata": {
        "id": "amz-tFsibbQg",
        "colab_type": "code",
        "outputId": "380904be-3f5c-4495-8f06-9599ef59c62b",
        "colab": {
          "base_uri": "https://localhost:8080/",
          "height": 202
        }
      },
      "source": [
        "#check to see if there is nan in the table\n",
        "#nan indicates missing value\n",
        "#do not worry, in this task, we will not use total_bedrooms\n",
        "housing.isnull().sum()"
      ],
      "execution_count": 30,
      "outputs": [
        {
          "output_type": "execute_result",
          "data": {
            "text/plain": [
              "longitude               0\n",
              "latitude                0\n",
              "housing_median_age      0\n",
              "total_rooms             0\n",
              "total_bedrooms        207\n",
              "population              0\n",
              "households              0\n",
              "median_income           0\n",
              "median_house_value      0\n",
              "ocean_proximity         0\n",
              "dtype: int64"
            ]
          },
          "metadata": {
            "tags": []
          },
          "execution_count": 30
        }
      ]
    },
    {
      "cell_type": "code",
      "metadata": {
        "scrolled": true,
        "id": "NgMdGT2YbbQk",
        "colab_type": "code",
        "outputId": "9e45296f-ff4e-4136-e57d-5f0684510859",
        "colab": {
          "base_uri": "https://localhost:8080/",
          "height": 218
        }
      },
      "source": [
        "# get one column of the DataFrame\n",
        "housing['ocean_proximity']"
      ],
      "execution_count": 31,
      "outputs": [
        {
          "output_type": "execute_result",
          "data": {
            "text/plain": [
              "0        NEAR BAY\n",
              "1        NEAR BAY\n",
              "2        NEAR BAY\n",
              "3        NEAR BAY\n",
              "4        NEAR BAY\n",
              "           ...   \n",
              "20635      INLAND\n",
              "20636      INLAND\n",
              "20637      INLAND\n",
              "20638      INLAND\n",
              "20639      INLAND\n",
              "Name: ocean_proximity, Length: 20640, dtype: object"
            ]
          },
          "metadata": {
            "tags": []
          },
          "execution_count": 31
        }
      ]
    },
    {
      "cell_type": "code",
      "metadata": {
        "id": "pIb2bfYybbQn",
        "colab_type": "code",
        "outputId": "ac5020c2-77ed-45d5-f242-3319bcb12d6a",
        "colab": {
          "base_uri": "https://localhost:8080/",
          "height": 195
        }
      },
      "source": [
        "# get two columns of the DataFrame\n",
        "table1=housing[['longitude', 'latitude']]\n",
        "table1.head()"
      ],
      "execution_count": 32,
      "outputs": [
        {
          "output_type": "execute_result",
          "data": {
            "text/html": [
              "<div>\n",
              "<style scoped>\n",
              "    .dataframe tbody tr th:only-of-type {\n",
              "        vertical-align: middle;\n",
              "    }\n",
              "\n",
              "    .dataframe tbody tr th {\n",
              "        vertical-align: top;\n",
              "    }\n",
              "\n",
              "    .dataframe thead th {\n",
              "        text-align: right;\n",
              "    }\n",
              "</style>\n",
              "<table border=\"1\" class=\"dataframe\">\n",
              "  <thead>\n",
              "    <tr style=\"text-align: right;\">\n",
              "      <th></th>\n",
              "      <th>longitude</th>\n",
              "      <th>latitude</th>\n",
              "    </tr>\n",
              "  </thead>\n",
              "  <tbody>\n",
              "    <tr>\n",
              "      <th>0</th>\n",
              "      <td>-122.23</td>\n",
              "      <td>37.88</td>\n",
              "    </tr>\n",
              "    <tr>\n",
              "      <th>1</th>\n",
              "      <td>-122.22</td>\n",
              "      <td>37.86</td>\n",
              "    </tr>\n",
              "    <tr>\n",
              "      <th>2</th>\n",
              "      <td>-122.24</td>\n",
              "      <td>37.85</td>\n",
              "    </tr>\n",
              "    <tr>\n",
              "      <th>3</th>\n",
              "      <td>-122.25</td>\n",
              "      <td>37.85</td>\n",
              "    </tr>\n",
              "    <tr>\n",
              "      <th>4</th>\n",
              "      <td>-122.25</td>\n",
              "      <td>37.85</td>\n",
              "    </tr>\n",
              "  </tbody>\n",
              "</table>\n",
              "</div>"
            ],
            "text/plain": [
              "   longitude  latitude\n",
              "0    -122.23     37.88\n",
              "1    -122.22     37.86\n",
              "2    -122.24     37.85\n",
              "3    -122.25     37.85\n",
              "4    -122.25     37.85"
            ]
          },
          "metadata": {
            "tags": []
          },
          "execution_count": 32
        }
      ]
    },
    {
      "cell_type": "code",
      "metadata": {
        "id": "_YiBnfWfbbQp",
        "colab_type": "code",
        "outputId": "a8f88355-63be-4ead-fa0b-b29497ea27f5",
        "colab": {
          "base_uri": "https://localhost:8080/",
          "height": 34
        }
      },
      "source": [
        "type(table1)"
      ],
      "execution_count": 33,
      "outputs": [
        {
          "output_type": "execute_result",
          "data": {
            "text/plain": [
              "pandas.core.frame.DataFrame"
            ]
          },
          "metadata": {
            "tags": []
          },
          "execution_count": 33
        }
      ]
    },
    {
      "cell_type": "code",
      "metadata": {
        "id": "gQcCyDQkbbQu",
        "colab_type": "code",
        "outputId": "dc14ff42-dfc9-4985-d229-baacaa8e18d5",
        "colab": {
          "base_uri": "https://localhost:8080/",
          "height": 34
        }
      },
      "source": [
        "# type of table1 is DataFrame\n",
        "# functions in sk-learn may not work well with DataFrame\n",
        "# often, we need to convert DataFrame to numpy array\n",
        "table1=table1.values\n",
        "type(table1)"
      ],
      "execution_count": 34,
      "outputs": [
        {
          "output_type": "execute_result",
          "data": {
            "text/plain": [
              "numpy.ndarray"
            ]
          },
          "metadata": {
            "tags": []
          },
          "execution_count": 34
        }
      ]
    },
    {
      "cell_type": "code",
      "metadata": {
        "id": "QcznANnAbbQy",
        "colab_type": "code",
        "outputId": "d5cfaa46-ea81-450f-8fbb-d7b2e61fe743",
        "colab": {
          "base_uri": "https://localhost:8080/",
          "height": 34
        }
      },
      "source": [
        "# it is a 2D array\n",
        "table1.shape"
      ],
      "execution_count": 35,
      "outputs": [
        {
          "output_type": "execute_result",
          "data": {
            "text/plain": [
              "(20640, 2)"
            ]
          },
          "metadata": {
            "tags": []
          },
          "execution_count": 35
        }
      ]
    },
    {
      "cell_type": "code",
      "metadata": {
        "id": "MDqdZJ7JbbQ0",
        "colab_type": "code",
        "outputId": "e049727f-88be-4c11-f6a2-d9e8e107a3c0",
        "colab": {
          "base_uri": "https://localhost:8080/",
          "height": 34
        }
      },
      "source": [
        "# get an element at row-i and column-j of table1\n",
        "i=1; j=0\n",
        "table1[i,j]"
      ],
      "execution_count": 36,
      "outputs": [
        {
          "output_type": "execute_result",
          "data": {
            "text/plain": [
              "-122.22"
            ]
          },
          "metadata": {
            "tags": []
          },
          "execution_count": 36
        }
      ]
    },
    {
      "cell_type": "code",
      "metadata": {
        "id": "VAa7w8aYbbQ3",
        "colab_type": "code",
        "outputId": "096fe2e2-0ee9-4a80-894e-b4bdf70b3a70",
        "colab": {
          "base_uri": "https://localhost:8080/",
          "height": 34
        }
      },
      "source": [
        "# get row-0 from table1\n",
        "table1[0,:]"
      ],
      "execution_count": 37,
      "outputs": [
        {
          "output_type": "execute_result",
          "data": {
            "text/plain": [
              "array([-122.23,   37.88])"
            ]
          },
          "metadata": {
            "tags": []
          },
          "execution_count": 37
        }
      ]
    },
    {
      "cell_type": "code",
      "metadata": {
        "id": "WVEv8yQqbbQ6",
        "colab_type": "code",
        "outputId": "c08f9dd9-cb97-4419-d93d-5f01ce206b37",
        "colab": {
          "base_uri": "https://localhost:8080/",
          "height": 34
        }
      },
      "source": [
        "# get column-0 from table1\n",
        "table1[:,0]"
      ],
      "execution_count": 38,
      "outputs": [
        {
          "output_type": "execute_result",
          "data": {
            "text/plain": [
              "array([-122.23, -122.22, -122.24, ..., -121.22, -121.32, -121.24])"
            ]
          },
          "metadata": {
            "tags": []
          },
          "execution_count": 38
        }
      ]
    },
    {
      "cell_type": "markdown",
      "metadata": {
        "id": "KcfrZRq4bbQ-",
        "colab_type": "text"
      },
      "source": [
        "For more information about numpy array, see the lecture notes"
      ]
    },
    {
      "cell_type": "code",
      "metadata": {
        "colab_type": "code",
        "id": "-ZdewuoH4523",
        "outputId": "cd727ff1-0e0d-462b-a86c-f4e768418b6a",
        "colab": {
          "base_uri": "https://localhost:8080/",
          "height": 499
        }
      },
      "source": [
        "# show the histograms: one histogram corresponds to one column\n",
        "%matplotlib inline\n",
        "import matplotlib.pyplot as plt\n",
        "housing.hist(bins=50, figsize=(11,8))\n",
        "plt.show()"
      ],
      "execution_count": 39,
      "outputs": [
        {
          "output_type": "display_data",
          "data": {
            "image/png": "[encoded data removed]",
            "text/plain": [
              "<Figure size 792x576 with 9 Axes>"
            ]
          },
          "metadata": {
            "tags": []
          }
        }
      ]
    },
    {
      "cell_type": "code",
      "metadata": {
        "colab_type": "code",
        "id": "_T2X-rlu5IOm",
        "outputId": "15387067-6b78-4e9f-b5f3-2bcab0c32691",
        "colab": {
          "base_uri": "https://localhost:8080/",
          "height": 282
        }
      },
      "source": [
        "#show the histogram of a column\n",
        "housing[\"median_income\"].hist()"
      ],
      "execution_count": 40,
      "outputs": [
        {
          "output_type": "execute_result",
          "data": {
            "text/plain": [
              "<matplotlib.axes._subplots.AxesSubplot at 0x7fbdddd35780>"
            ]
          },
          "metadata": {
            "tags": []
          },
          "execution_count": 40
        },
        {
          "output_type": "display_data",
          "data": {
            "image/png": "[encoded data removed]",
            "text/plain": [
              "<Figure size 432x288 with 1 Axes>"
            ]
          },
          "metadata": {
            "tags": []
          }
        }
      ]
    },
    {
      "cell_type": "markdown",
      "metadata": {
        "id": "Yi4G3WJmbbRG",
        "colab_type": "text"
      },
      "source": [
        "### visualize the data points using pandas buil-in funciton plot"
      ]
    },
    {
      "cell_type": "code",
      "metadata": {
        "id": "7it5ztLmbbRH",
        "colab_type": "code",
        "outputId": "8f705510-d9a8-4ff0-cfb9-6fd6c88cd0c4",
        "colab": {
          "base_uri": "https://localhost:8080/",
          "height": 432
        }
      },
      "source": [
        "#each dot represents an area\n",
        "#the color of a dot shows the median_income in that area\n",
        "#the size of a dot shows the population in that area\n",
        "housing.plot(kind=\"scatter\", x=\"longitude\", y=\"latitude\",\n",
        "    s=housing['population']/100, label=\"population\",\n",
        "    c=\"median_income\", cmap=plt.get_cmap(\"jet\"),\n",
        "    colorbar=True, alpha=0.4, figsize=(10,7),\n",
        ")\n",
        "plt.legend()"
      ],
      "execution_count": 41,
      "outputs": [
        {
          "output_type": "execute_result",
          "data": {
            "text/plain": [
              "<matplotlib.legend.Legend at 0x7fbdddeaf3c8>"
            ]
          },
          "metadata": {
            "tags": []
          },
          "execution_count": 41
        },
        {
          "output_type": "display_data",
          "data": {
            "image/png": "[encoded data removed]",
            "text/plain": [
              "<Figure size 720x504 with 2 Axes>"
            ]
          },
          "metadata": {
            "tags": []
          }
        }
      ]
    },
    {
      "cell_type": "markdown",
      "metadata": {
        "id": "jcCRSj0abbRK",
        "colab_type": "text"
      },
      "source": [
        "### visualize the data points on the map of california using matplotlib"
      ]
    },
    {
      "cell_type": "code",
      "metadata": {
        "id": "9tskDiaPbbRL",
        "colab_type": "code",
        "outputId": "9b4490ec-6821-4eb8-aebf-c197715cea80",
        "colab": {
          "base_uri": "https://localhost:8080/",
          "height": 303
        }
      },
      "source": [
        "# the map is an image,'california.png'\n",
        "# we need the function imread from the module io of the package skimage\n",
        "from skimage.io import imread\n",
        "#load the map\n",
        "california_img=imread('california.png')\n",
        "#show the map\n",
        "plt.imshow(california_img, extent=[-124.55, -113.80, 32.45, 42.05], alpha=0.5)\n",
        "#show the data points\n",
        "#set the size of the dots by s=1\n",
        "#set the color of the dots by color = 'b' - blue\n",
        "#make the dots to be somewhat transparent by alpha=0.4\n",
        "plt.scatter(x=housing['longitude'], y=housing['latitude'], \n",
        "            color='b',  marker='.', s=1, alpha=0.4)\n",
        "#add labels to x-axis and y-axis and set fontsize\n",
        "plt.ylabel(\"Latitude\", fontsize=14)\n",
        "plt.xlabel(\"Longitude\", fontsize=14)"
      ],
      "execution_count": 42,
      "outputs": [
        {
          "output_type": "execute_result",
          "data": {
            "text/plain": [
              "Text(0.5, 0, 'Longitude')"
            ]
          },
          "metadata": {
            "tags": []
          },
          "execution_count": 42
        },
        {
          "output_type": "display_data",
          "data": {
            "image/png": "[encoded data removed]",
            "text/plain": [
              "<Figure size 432x288 with 1 Axes>"
            ]
          },
          "metadata": {
            "tags": []
          }
        }
      ]
    },
    {
      "cell_type": "markdown",
      "metadata": {
        "id": "Hl4mXFAHbbRP",
        "colab_type": "text"
      },
      "source": [
        "#### Handle the categorical variable \"ocean_proximity\"\n",
        "Many machine learning algorithms only accept numerical data (numbers) not categorical data (category names). Thus, we need to convert categorical data into numerical data. <br>\n",
        "In our table, we have a categorical variable \"ocean_proximity\". We apply one-hot encoding method (https://en.wikipedia.org/wiki/One-hot) to use numbers to represent different \"ocean_proximity\", which can be easily done by Pandas."
      ]
    },
    {
      "cell_type": "code",
      "metadata": {
        "id": "GigjnVxYbbRQ",
        "colab_type": "code",
        "outputId": "19c5b8a2-0874-4927-ddc4-3828ce14c22f",
        "colab": {
          "base_uri": "https://localhost:8080/",
          "height": 232
        }
      },
      "source": [
        "housing=pd.get_dummies(housing)\n",
        "housing.head()"
      ],
      "execution_count": 43,
      "outputs": [
        {
          "output_type": "execute_result",
          "data": {
            "text/html": [
              "<div>\n",
              "<style scoped>\n",
              "    .dataframe tbody tr th:only-of-type {\n",
              "        vertical-align: middle;\n",
              "    }\n",
              "\n",
              "    .dataframe tbody tr th {\n",
              "        vertical-align: top;\n",
              "    }\n",
              "\n",
              "    .dataframe thead th {\n",
              "        text-align: right;\n",
              "    }\n",
              "</style>\n",
              "<table border=\"1\" class=\"dataframe\">\n",
              "  <thead>\n",
              "    <tr style=\"text-align: right;\">\n",
              "      <th></th>\n",
              "      <th>longitude</th>\n",
              "      <th>latitude</th>\n",
              "      <th>housing_median_age</th>\n",
              "      <th>total_rooms</th>\n",
              "      <th>total_bedrooms</th>\n",
              "      <th>population</th>\n",
              "      <th>households</th>\n",
              "      <th>median_income</th>\n",
              "      <th>median_house_value</th>\n",
              "      <th>ocean_proximity_&lt;1H OCEAN</th>\n",
              "      <th>ocean_proximity_INLAND</th>\n",
              "      <th>ocean_proximity_ISLAND</th>\n",
              "      <th>ocean_proximity_NEAR BAY</th>\n",
              "      <th>ocean_proximity_NEAR OCEAN</th>\n",
              "    </tr>\n",
              "  </thead>\n",
              "  <tbody>\n",
              "    <tr>\n",
              "      <th>0</th>\n",
              "      <td>-122.23</td>\n",
              "      <td>37.88</td>\n",
              "      <td>41.0</td>\n",
              "      <td>880.0</td>\n",
              "      <td>129.0</td>\n",
              "      <td>322.0</td>\n",
              "      <td>126.0</td>\n",
              "      <td>8.3252</td>\n",
              "      <td>452600.0</td>\n",
              "      <td>0</td>\n",
              "      <td>0</td>\n",
              "      <td>0</td>\n",
              "      <td>1</td>\n",
              "      <td>0</td>\n",
              "    </tr>\n",
              "    <tr>\n",
              "      <th>1</th>\n",
              "      <td>-122.22</td>\n",
              "      <td>37.86</td>\n",
              "      <td>21.0</td>\n",
              "      <td>7099.0</td>\n",
              "      <td>1106.0</td>\n",
              "      <td>2401.0</td>\n",
              "      <td>1138.0</td>\n",
              "      <td>8.3014</td>\n",
              "      <td>358500.0</td>\n",
              "      <td>0</td>\n",
              "      <td>0</td>\n",
              "      <td>0</td>\n",
              "      <td>1</td>\n",
              "      <td>0</td>\n",
              "    </tr>\n",
              "    <tr>\n",
              "      <th>2</th>\n",
              "      <td>-122.24</td>\n",
              "      <td>37.85</td>\n",
              "      <td>52.0</td>\n",
              "      <td>1467.0</td>\n",
              "      <td>190.0</td>\n",
              "      <td>496.0</td>\n",
              "      <td>177.0</td>\n",
              "      <td>7.2574</td>\n",
              "      <td>352100.0</td>\n",
              "      <td>0</td>\n",
              "      <td>0</td>\n",
              "      <td>0</td>\n",
              "      <td>1</td>\n",
              "      <td>0</td>\n",
              "    </tr>\n",
              "    <tr>\n",
              "      <th>3</th>\n",
              "      <td>-122.25</td>\n",
              "      <td>37.85</td>\n",
              "      <td>52.0</td>\n",
              "      <td>1274.0</td>\n",
              "      <td>235.0</td>\n",
              "      <td>558.0</td>\n",
              "      <td>219.0</td>\n",
              "      <td>5.6431</td>\n",
              "      <td>341300.0</td>\n",
              "      <td>0</td>\n",
              "      <td>0</td>\n",
              "      <td>0</td>\n",
              "      <td>1</td>\n",
              "      <td>0</td>\n",
              "    </tr>\n",
              "    <tr>\n",
              "      <th>4</th>\n",
              "      <td>-122.25</td>\n",
              "      <td>37.85</td>\n",
              "      <td>52.0</td>\n",
              "      <td>1627.0</td>\n",
              "      <td>280.0</td>\n",
              "      <td>565.0</td>\n",
              "      <td>259.0</td>\n",
              "      <td>3.8462</td>\n",
              "      <td>342200.0</td>\n",
              "      <td>0</td>\n",
              "      <td>0</td>\n",
              "      <td>0</td>\n",
              "      <td>1</td>\n",
              "      <td>0</td>\n",
              "    </tr>\n",
              "  </tbody>\n",
              "</table>\n",
              "</div>"
            ],
            "text/plain": [
              "   longitude  latitude  ...  ocean_proximity_NEAR BAY  ocean_proximity_NEAR OCEAN\n",
              "0    -122.23     37.88  ...                         1                           0\n",
              "1    -122.22     37.86  ...                         1                           0\n",
              "2    -122.24     37.85  ...                         1                           0\n",
              "3    -122.25     37.85  ...                         1                           0\n",
              "4    -122.25     37.85  ...                         1                           0\n",
              "\n",
              "[5 rows x 14 columns]"
            ]
          },
          "metadata": {
            "tags": []
          },
          "execution_count": 43
        }
      ]
    },
    {
      "cell_type": "markdown",
      "metadata": {
        "id": "A1G2UNkybbRT",
        "colab_type": "text"
      },
      "source": [
        "In the new \"housing\" table, we see five new columns <br>\n",
        "(1) ocean_proximity_<1H OCEAN <br>\n",
        "(2) ocean_proximity_INLAND <br>\n",
        "(3) ocean_proximity_ISLAND <br>\n",
        "(4) ocean_proximity_NEAR BAY <br>\n",
        "(5) ocean_proximity_NEAR OCEAN <br>\n",
        "These columns are filled with 1s and 0s by the one-hot encoding method. <br>\n",
        "If 'ocean_proximity' is 'NEAR BAY' in the original table, then in the new table, 'ocean_proximity_NEAR BAY' is 1 and the other variables are 0s."
      ]
    },
    {
      "cell_type": "markdown",
      "metadata": {
        "id": "iDW817c9bbRU",
        "colab_type": "text"
      },
      "source": [
        "## Your work begins here\n",
        "complete the following 3 sub-tasks <br>\n",
        "1. cluster the data points based on locations to find out spatial clusters\n",
        "2. cluster the data points to find out where high/low income people live\n",
        "3. run k-means several times for sub-task-2 to see if the result is stable or not."
      ]
    },
    {
      "cell_type": "markdown",
      "metadata": {
        "id": "M44xQNbHbbRV",
        "colab_type": "text"
      },
      "source": [
        "### 1. cluster the data points based on locations\n",
        "location features: longitude, latitude, ocean_proximity <br>\n",
        "you may need to covert pandas DataFrame to numpy array <br>\n",
        "you need to normalize the features (e.g. MinMaxScaler in sk-learn): see the lecture notes for why you need to do this."
      ]
    },
    {
      "cell_type": "code",
      "metadata": {
        "id": "8JmmzCFGbbRV",
        "colab_type": "code",
        "colab": {}
      },
      "source": [
        "#get a new table by selecting columns related to location\n",
        "#assume the name of the new table is data1\n"
      ],
      "execution_count": 0,
      "outputs": []
    },
    {
      "cell_type": "code",
      "metadata": {
        "colab_type": "code",
        "outputId": "cf5f3ee5-d106-4afb-f211-be2aa5694a3b",
        "id": "w81dWlIBjTJo",
        "colab": {
          "base_uri": "https://localhost:8080/",
          "height": 212
        }
      },
      "source": [
        "\n",
        "data1=housing[['longitude', 'latitude', 'ocean_proximity_<1H OCEAN' , 'ocean_proximity_INLAND' ,'ocean_proximity_ISLAND' ,\t'ocean_proximity_NEAR BAY' ,\t'ocean_proximity_NEAR OCEAN']]\n",
        "data1.head()"
      ],
      "execution_count": 44,
      "outputs": [
        {
          "output_type": "execute_result",
          "data": {
            "text/html": [
              "<div>\n",
              "<style scoped>\n",
              "    .dataframe tbody tr th:only-of-type {\n",
              "        vertical-align: middle;\n",
              "    }\n",
              "\n",
              "    .dataframe tbody tr th {\n",
              "        vertical-align: top;\n",
              "    }\n",
              "\n",
              "    .dataframe thead th {\n",
              "        text-align: right;\n",
              "    }\n",
              "</style>\n",
              "<table border=\"1\" class=\"dataframe\">\n",
              "  <thead>\n",
              "    <tr style=\"text-align: right;\">\n",
              "      <th></th>\n",
              "      <th>longitude</th>\n",
              "      <th>latitude</th>\n",
              "      <th>ocean_proximity_&lt;1H OCEAN</th>\n",
              "      <th>ocean_proximity_INLAND</th>\n",
              "      <th>ocean_proximity_ISLAND</th>\n",
              "      <th>ocean_proximity_NEAR BAY</th>\n",
              "      <th>ocean_proximity_NEAR OCEAN</th>\n",
              "    </tr>\n",
              "  </thead>\n",
              "  <tbody>\n",
              "    <tr>\n",
              "      <th>0</th>\n",
              "      <td>-122.23</td>\n",
              "      <td>37.88</td>\n",
              "      <td>0</td>\n",
              "      <td>0</td>\n",
              "      <td>0</td>\n",
              "      <td>1</td>\n",
              "      <td>0</td>\n",
              "    </tr>\n",
              "    <tr>\n",
              "      <th>1</th>\n",
              "      <td>-122.22</td>\n",
              "      <td>37.86</td>\n",
              "      <td>0</td>\n",
              "      <td>0</td>\n",
              "      <td>0</td>\n",
              "      <td>1</td>\n",
              "      <td>0</td>\n",
              "    </tr>\n",
              "    <tr>\n",
              "      <th>2</th>\n",
              "      <td>-122.24</td>\n",
              "      <td>37.85</td>\n",
              "      <td>0</td>\n",
              "      <td>0</td>\n",
              "      <td>0</td>\n",
              "      <td>1</td>\n",
              "      <td>0</td>\n",
              "    </tr>\n",
              "    <tr>\n",
              "      <th>3</th>\n",
              "      <td>-122.25</td>\n",
              "      <td>37.85</td>\n",
              "      <td>0</td>\n",
              "      <td>0</td>\n",
              "      <td>0</td>\n",
              "      <td>1</td>\n",
              "      <td>0</td>\n",
              "    </tr>\n",
              "    <tr>\n",
              "      <th>4</th>\n",
              "      <td>-122.25</td>\n",
              "      <td>37.85</td>\n",
              "      <td>0</td>\n",
              "      <td>0</td>\n",
              "      <td>0</td>\n",
              "      <td>1</td>\n",
              "      <td>0</td>\n",
              "    </tr>\n",
              "  </tbody>\n",
              "</table>\n",
              "</div>"
            ],
            "text/plain": [
              "   longitude  latitude  ...  ocean_proximity_NEAR BAY  ocean_proximity_NEAR OCEAN\n",
              "0    -122.23     37.88  ...                         1                           0\n",
              "1    -122.22     37.86  ...                         1                           0\n",
              "2    -122.24     37.85  ...                         1                           0\n",
              "3    -122.25     37.85  ...                         1                           0\n",
              "4    -122.25     37.85  ...                         1                           0\n",
              "\n",
              "[5 rows x 7 columns]"
            ]
          },
          "metadata": {
            "tags": []
          },
          "execution_count": 44
        }
      ]
    },
    {
      "cell_type": "markdown",
      "metadata": {
        "colab_type": "text",
        "id": "ZdWBWtnYpQrz"
      },
      "source": [
        "### 1. cluster the data points based on locations\n",
        "location features: longitude, latitude, ocean_proximity <br>\n",
        "you may need to covert pandas DataFrame to numpy array <br>\n",
        "you need to normalize the features (e.g. MinMaxScaler in sk-learn): see the lecture notes for why you need to do this."
      ]
    },
    {
      "cell_type": "code",
      "metadata": {
        "id": "WbvaWkAPbbRY",
        "colab_type": "code",
        "outputId": "a6a42f6e-ca3c-406f-f753-c4ec03587af8",
        "colab": {
          "base_uri": "https://localhost:8080/",
          "height": 34
        }
      },
      "source": [
        "#type of data1 is DataFrame\n",
        "#convert DataFrame to numpy array\n",
        "type(data1)\n"
      ],
      "execution_count": 45,
      "outputs": [
        {
          "output_type": "execute_result",
          "data": {
            "text/plain": [
              "pandas.core.frame.DataFrame"
            ]
          },
          "metadata": {
            "tags": []
          },
          "execution_count": 45
        }
      ]
    },
    {
      "cell_type": "code",
      "metadata": {
        "id": "0wr1OnGNkLG7",
        "colab_type": "code",
        "outputId": "6f5db06b-45ae-4c80-a83e-a9ece6c283a6",
        "colab": {
          "base_uri": "https://localhost:8080/",
          "height": 34
        }
      },
      "source": [
        "data1 = data1.values\n",
        "type(data1)"
      ],
      "execution_count": 46,
      "outputs": [
        {
          "output_type": "execute_result",
          "data": {
            "text/plain": [
              "numpy.ndarray"
            ]
          },
          "metadata": {
            "tags": []
          },
          "execution_count": 46
        }
      ]
    },
    {
      "cell_type": "code",
      "metadata": {
        "id": "bMVL-ACYbbRb",
        "colab_type": "code",
        "colab": {}
      },
      "source": [
        "#normalize data1 using MinMaxScaler in sk-learn\n",
        "#assume that data1n is the name of the normalized data1 \n",
        "#use fit_transform\n",
        "from sklearn.preprocessing import MinMaxScaler\n",
        "scaler = MinMaxScaler()\n",
        "data1n = scaler.fit_transform(data1)"
      ],
      "execution_count": 0,
      "outputs": []
    },
    {
      "cell_type": "code",
      "metadata": {
        "id": "ZTDRVsy3bbRe",
        "colab_type": "code",
        "outputId": "469297bc-27b1-446a-aec3-ca60763f9837",
        "colab": {
          "base_uri": "https://localhost:8080/",
          "height": 34
        }
      },
      "source": [
        "data1n.shape"
      ],
      "execution_count": 48,
      "outputs": [
        {
          "output_type": "execute_result",
          "data": {
            "text/plain": [
              "(20640, 7)"
            ]
          },
          "metadata": {
            "tags": []
          },
          "execution_count": 48
        }
      ]
    },
    {
      "cell_type": "code",
      "metadata": {
        "id": "EWc4PXC4bbRj",
        "colab_type": "code",
        "outputId": "cd32a843-7d4e-4ed5-f3ff-1e345652c876",
        "colab": {
          "base_uri": "https://localhost:8080/",
          "height": 34
        }
      },
      "source": [
        "#run k-means on data1n\n",
        "#read the docmument of k-means on sk-learn website\n",
        "#assume the cluster lables are stored in the array label1\n",
        "#set n_clusters to 3 ~ 6\n",
        "from sklearn.cluster import KMeans\n",
        "kmeans = KMeans(n_clusters = 3 ).fit(data1n)\n",
        "label1 =kmeans.labels_\n",
        "label1\n"
      ],
      "execution_count": 49,
      "outputs": [
        {
          "output_type": "execute_result",
          "data": {
            "text/plain": [
              "array([0, 0, 0, ..., 2, 2, 2], dtype=int32)"
            ]
          },
          "metadata": {
            "tags": []
          },
          "execution_count": 49
        }
      ]
    },
    {
      "cell_type": "code",
      "metadata": {
        "id": "sbaiw1nmbbRl",
        "colab_type": "code",
        "outputId": "ddb9a912-6479-4b7d-bf7a-1d4cb1db194d",
        "colab": {
          "base_uri": "https://localhost:8080/",
          "height": 216
        }
      },
      "source": [
        "#show the clusters using different colors\n",
        "#you can choose a color in ['r', 'g', 'b', 'm', 'c', 'y']\n",
        "#code to get the data points in cluster-k\n",
        "\n",
        "#assume 'longitude' is in column-0 of data1\n",
        "#code to get longitude values of the data points in cluster-k\n",
        "\n",
        "# sample code is here, assuing three clusters\n",
        "color=['r', 'g', 'b', 'm', 'c', 'y']\n",
        "fig, ax = plt.subplots(1,3, figsize=(10,6))\n",
        "for k in range(0, 3):\n",
        "  ax[k].imshow(california_img, extent=[-124.55, -113.80, 32.45, 42.05], alpha=0.5)\n",
        "  ax[k].scatter(x=data1[label1==k,0], y=data1[label1==k,1], \n",
        "    color=color[k],  marker='.', s=1, alpha=0.4)\n",
        "  ax[k].set_ylabel(\"Latitude\", fontsize=14)\n",
        "  ax[k].set_xlabel(\"Longitude\", fontsize=14)\n"
      ],
      "execution_count": 50,
      "outputs": [
        {
          "output_type": "display_data",
          "data": {
            "image/png": "[encoded data removed]",
            "text/plain": [
              "<Figure size 720x432 with 3 Axes>"
            ]
          },
          "metadata": {
            "tags": []
          }
        }
      ]
    },
    {
      "cell_type": "code",
      "metadata": {
        "id": "LXj1XoIkbbRo",
        "colab_type": "code",
        "outputId": "a4875d2b-a1ff-4ac9-8d81-7afb9eb6c098",
        "colab": {
          "base_uri": "https://localhost:8080/",
          "height": 332
        }
      },
      "source": [
        "#plot the histogram of cluster labels in label\n",
        "fig, ax = plt.subplots()\n",
        "ax.hist(label1, color = \"blue\", alpha = 1)"
      ],
      "execution_count": 51,
      "outputs": [
        {
          "output_type": "execute_result",
          "data": {
            "text/plain": [
              "(array([4953.,    0.,    0.,    0.,    0., 9136.,    0.,    0.,    0.,\n",
              "        6551.]),\n",
              " array([0. , 0.2, 0.4, 0.6, 0.8, 1. , 1.2, 1.4, 1.6, 1.8, 2. ]),\n",
              " <a list of 10 Patch objects>)"
            ]
          },
          "metadata": {
            "tags": []
          },
          "execution_count": 51
        },
        {
          "output_type": "display_data",
          "data": {
            "image/png": "[encoded data removed]",
            "text/plain": [
              "<Figure size 432x288 with 1 Axes>"
            ]
          },
          "metadata": {
            "tags": []
          }
        }
      ]
    },
    {
      "cell_type": "markdown",
      "metadata": {
        "id": "NleKdfXzbbRr",
        "colab_type": "text"
      },
      "source": [
        "### 2. cluster data to find out where high/low income people live\n",
        "think about which columns of housing are needed for this sub-task <br>\n",
        "it may not be a good idea to use all of the columns related to location"
      ]
    },
    {
      "cell_type": "code",
      "metadata": {
        "id": "HbqvrxZObbRs",
        "colab_type": "code",
        "colab": {}
      },
      "source": [
        "#select some columns from housing\n",
        "#assume the name of the new table is data2\n",
        "data2 =housing[['longitude','latitude','median_income','ocean_proximity_ISLAND']]"
      ],
      "execution_count": 0,
      "outputs": []
    },
    {
      "cell_type": "markdown",
      "metadata": {
        "id": "dRwP_tjkg4kh",
        "colab_type": "text"
      },
      "source": [
        ""
      ]
    },
    {
      "cell_type": "code",
      "metadata": {
        "id": "DW7gyA8ybbRx",
        "colab_type": "code",
        "outputId": "88240aa2-e81f-43a5-d4de-30d5938bc16e",
        "colab": {
          "base_uri": "https://localhost:8080/",
          "height": 34
        }
      },
      "source": [
        "#type of data2 is DataFrame\n",
        "#convert DataFrame to numpy array\n",
        "data2 =data2.values\n",
        "type(data2)"
      ],
      "execution_count": 53,
      "outputs": [
        {
          "output_type": "execute_result",
          "data": {
            "text/plain": [
              "numpy.ndarray"
            ]
          },
          "metadata": {
            "tags": []
          },
          "execution_count": 53
        }
      ]
    },
    {
      "cell_type": "code",
      "metadata": {
        "colab_type": "code",
        "id": "Iwty6ppDAv2M",
        "colab": {}
      },
      "source": [
        "#normalize data2 using MinMaxScaler\n",
        "#assume that data2n is the name of the normlaized data2\n",
        "from sklearn.preprocessing import MinMaxScaler\n",
        "scaler = MinMaxScaler()\n",
        "data2n = scaler.fit_transform(data2)\n"
      ],
      "execution_count": 0,
      "outputs": []
    },
    {
      "cell_type": "code",
      "metadata": {
        "colab_type": "code",
        "outputId": "e466bef4-7802-48b6-be1e-f3be1a2c05fa",
        "id": "9yFphdJdJbeC",
        "colab": {
          "base_uri": "https://localhost:8080/",
          "height": 34
        }
      },
      "source": [
        "data2n.shape"
      ],
      "execution_count": 55,
      "outputs": [
        {
          "output_type": "execute_result",
          "data": {
            "text/plain": [
              "(20640, 4)"
            ]
          },
          "metadata": {
            "tags": []
          },
          "execution_count": 55
        }
      ]
    },
    {
      "cell_type": "code",
      "metadata": {
        "id": "5n_j8FsKbbR5",
        "colab_type": "code",
        "outputId": "fd84bf31-8055-43ac-c3ed-078eb42827c1",
        "colab": {
          "base_uri": "https://localhost:8080/",
          "height": 34
        }
      },
      "source": [
        "#run k-means on data2n to get cluster labels\n",
        "#you can try to set n_clusters to 3 ~ 6\n",
        "from sklearn.cluster import KMeans\n",
        "kmeans = KMeans(n_clusters = 6).fit(data2n)\n",
        "label2 =kmeans.labels_\n",
        "label2"
      ],
      "execution_count": 56,
      "outputs": [
        {
          "output_type": "execute_result",
          "data": {
            "text/plain": [
              "array([2, 2, 2, ..., 4, 4, 4], dtype=int32)"
            ]
          },
          "metadata": {
            "tags": []
          },
          "execution_count": 56
        }
      ]
    },
    {
      "cell_type": "code",
      "metadata": {
        "colab_type": "code",
        "outputId": "4791a7c0-37a2-4867-e229-6818f85a5462",
        "id": "-iz3gkgCLbX8",
        "colab": {
          "base_uri": "https://localhost:8080/",
          "height": 119
        }
      },
      "source": [
        "#show the clusters using different colors\n",
        "#you can choose a color in ['r', 'g', 'b', 'm', 'c', 'y']\n",
        "#code to get the data points in cluster-k\n",
        "cluster_k=data2[label2==6]\n",
        "#assume 'longitude' is in column-0 of data1\n",
        "#code to get longitude values of the data points in cluster-k\n",
        "longitude_k=data2[label2==6, 0]\n",
        "# sample code is here, assuing three clusters\n",
        "color=['r', 'g', 'b', 'm', 'c', 'y']\n",
        "fig, ax = plt.subplots(1,6, figsize=(10,6))\n",
        "for k in range(0, 6):\n",
        "  ax[k].imshow(california_img, extent=[-124.55, -113.80, 32.45, 42.05], alpha=0.5)\n",
        "  ax[k].scatter(x=data2[label2==k,0], y=data2[label2==k,1], \n",
        "    color=color[k],  marker='.', s=1, alpha=0.4)\n",
        "\n"
      ],
      "execution_count": 57,
      "outputs": [
        {
          "output_type": "display_data",
          "data": {
            "image/png": "[encoded data removed]",
            "text/plain": [
              "<Figure size 720x432 with 6 Axes>"
            ]
          },
          "metadata": {
            "tags": []
          }
        }
      ]
    },
    {
      "cell_type": "code",
      "metadata": {
        "id": "YBn4L3u_bbR8",
        "colab_type": "code",
        "colab": {}
      },
      "source": [
        "#show the clusters using different colors"
      ],
      "execution_count": 0,
      "outputs": []
    },
    {
      "cell_type": "code",
      "metadata": {
        "id": "fGPgG2uJbbSD",
        "colab_type": "code",
        "outputId": "c2818e0a-285a-4c66-fd2d-36f93fd57f38",
        "colab": {
          "base_uri": "https://localhost:8080/",
          "height": 332
        }
      },
      "source": [
        "#plot the histogram of cluster labels\n",
        "fig, ax = plt.subplots()\n",
        "ax.hist(label2, color = \"blue\", alpha = 1)"
      ],
      "execution_count": 59,
      "outputs": [
        {
          "output_type": "execute_result",
          "data": {
            "text/plain": [
              "(array([1710.,    0., 8134.,    0., 1885.,    0., 2985.,    0.,  905.,\n",
              "        5021.]),\n",
              " array([0. , 0.5, 1. , 1.5, 2. , 2.5, 3. , 3.5, 4. , 4.5, 5. ]),\n",
              " <a list of 10 Patch objects>)"
            ]
          },
          "metadata": {
            "tags": []
          },
          "execution_count": 59
        },
        {
          "output_type": "display_data",
          "data": {
            "image/png": "[encoded data removed]",
            "text/plain": [
              "<Figure size 432x288 with 1 Axes>"
            ]
          },
          "metadata": {
            "tags": []
          }
        }
      ]
    },
    {
      "cell_type": "code",
      "metadata": {
        "scrolled": true,
        "id": "Rzdpa3Y-bbSG",
        "colab_type": "code",
        "colab": {
          "base_uri": "https://localhost:8080/",
          "height": 118
        },
        "outputId": "8a72443e-2ba2-412c-ffdf-70447ec1f088"
      },
      "source": [
        "# compute the average value of 'median_income' in each cluster\n",
        "# print out the average values\n",
        "import numpy as np\n",
        "for k in range(0,6):\n",
        "      x=data2[label2==k, 2]\n",
        "      y=np.mean(x)\n",
        "      print(y)"
      ],
      "execution_count": 61,
      "outputs": [
        {
          "output_type": "stream",
          "text": [
            "2.7824420467836255\n",
            "3.097477329727071\n",
            "6.497118832891246\n",
            "6.47873675041876\n",
            "2.3987544751381216\n",
            "3.2226293567018525\n"
          ],
          "name": "stdout"
        }
      ]
    },
    {
      "cell_type": "code",
      "metadata": {
        "id": "wXphWjmobbSJ",
        "colab_type": "code",
        "colab": {
          "base_uri": "https://localhost:8080/",
          "height": 157
        },
        "outputId": "bcba66ff-7de2-48ac-ca04-d71362b9d62c"
      },
      "source": [
        "# show the histograms of 'median_income' in each cluster\n",
        "# color=['r', 'g', 'b', 'm', 'c', 'y']\n",
        "color=['r', 'g', 'b', 'm', 'c', 'y']\n",
        "fig, ax = plt.subplots(1,6, figsize=(10,2))\n",
        "for k in range(0, 6):\n",
        "    ax[k].hist(x=data2[label2==k,2],color=color[k], alpha=1)\n",
        "    ax[k].set_xlim(0,15)"
      ],
      "execution_count": 62,
      "outputs": [
        {
          "output_type": "display_data",
          "data": {
            "image/png": "[encoded data removed]",
            "text/plain": [
              "<Figure size 720x144 with 6 Axes>"
            ]
          },
          "metadata": {
            "tags": []
          }
        }
      ]
    },
    {
      "cell_type": "markdown",
      "metadata": {
        "id": "uycf86DNbbSU",
        "colab_type": "text"
      },
      "source": [
        "we can clearly see some clusters of high-income people"
      ]
    },
    {
      "cell_type": "code",
      "metadata": {
        "id": "njINl0nAbbSW",
        "colab_type": "code",
        "colab": {
          "base_uri": "https://localhost:8080/",
          "height": 157
        },
        "outputId": "78024055-7ab0-498b-ceb0-7fe86514b0bb"
      },
      "source": [
        "# show the histogram of 'median_house_value' in each cluster\n",
        "# you may need to use housing to get median_house_value\n",
        "# color=['r', 'g', 'b', 'm', 'c', 'y']\n",
        "# mhv=housing['median_house_value'].values\n",
        "color=['r', 'g', 'b', 'm', 'c', 'y']\n",
        "mhv=housing['median_house_value'].values\n",
        "data3 = np.concatenate([data2,mhv[:,None]],axis=1)\n",
        " \n",
        "fig, ax = plt.subplots(1,6, figsize=(10,2))\n",
        "for k in range(0, 6):\n",
        "    ax[k].hist(x=data3[label2==k,4],color=color[k], alpha=1)\n",
        "    ax[k].set_xlim(0,500000)"
      ],
      "execution_count": 64,
      "outputs": [
        {
          "output_type": "display_data",
          "data": {
            "image/png": "[encoded data removed]",
            "text/plain": [
              "<Figure size 720x144 with 6 Axes>"
            ]
          },
          "metadata": {
            "tags": []
          }
        }
      ]
    },
    {
      "cell_type": "markdown",
      "metadata": {
        "id": "y-DWmf7IbbSZ",
        "colab_type": "text"
      },
      "source": [
        "Some people have low income but live in very expensive houses"
      ]
    }
  ]
}