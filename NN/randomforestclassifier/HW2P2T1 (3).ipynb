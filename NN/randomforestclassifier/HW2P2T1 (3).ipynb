{
  "nbformat": 4,
  "nbformat_minor": 0,
  "metadata": {
    "kernelspec": {
      "display_name": "Python 3",
      "language": "python",
      "name": "python3"
    },
    "language_info": {
      "codemirror_mode": {
        "name": "ipython",
        "version": 3
      },
      "file_extension": ".py",
      "mimetype": "text/x-python",
      "name": "python",
      "nbconvert_exporter": "python",
      "pygments_lexer": "ipython3",
      "version": "3.7.6"
    },
    "colab": {
      "name": "HW2P2T1.ipynb",
      "provenance": [],
      "collapsed_sections": [
        "C0860qmZYLHl",
        "I3ipqWjqYLHr"
      ],
      "toc_visible": true
    }
  },
  "cells": [
    {
      "cell_type": "markdown",
      "metadata": {
        "id": "yyc0ZCUEYLFk",
        "colab_type": "text"
      },
      "source": [
        "# Homework 2 Part 2 Task 1 - Classification\n",
        "The dataset is from https://www.kaggle.com/c/GiveMeSomeCredit <br>\n",
        "\"Banks play a crucial role in market economies. They decide who can get finance and on what terms and can make or break investment decisions. For markets and society to function, individuals and companies need access to credit. Credit scoring algorithms, which make a guess at the probability of default, are the method banks use to determine whether or not a loan should be granted.\"  <br>\n",
        "In this task, we will build classifiers to predict if someone will experience financial distress and therefore cannot pay off credit card (i.e. default). It is a binary classificaiton problem: default (class-1) or not default  (class-0) <br>\n",
        "Learning Objective: <br>\n",
        "1. It is almost computationally infeasible to do cross-validation for a large dataset <br>\n",
        "    So, we divide the data into three sets: training, validation and testing sets <br>\n",
        "    we do not repeat the above process. \n",
        "2. Real dataset is often imbalanced: class-i may have much more data samples than class-j. We set class_weight='balanced' if possible and use weighted classification accuracy, or do upsampling to balance data between classes. \n",
        "2. Given the model type (e.g. RandomForest), we find the best trainable-parameters on the training set  <br>\n",
        "    and find the best hyper-parameters using training-validation strategy <br>\n",
        "3. Then, we evaluate the trained model on the testing set using the best parameters <br>\n",
        "4. To simply the task, you only need to find the best max_depth of DecisionTreeClassifier/RandomForestClassifier and the best n_neighbors of KNeighborsClassifier <br>\n",
        " <br>\n",
        "This is a guided-task: <br>\n",
        "You will see the output of a code cell and then figure out the code in that cell. <br>\n",
        "In each code cell, there are instructions to help you. <br>\n",
        "This is a very efficient and effective way to learn how to program with sk-learn"
      ]
    },
    {
      "cell_type": "code",
      "metadata": {
        "id": "A52f4ktJYLFp",
        "colab_type": "code",
        "colab": {}
      },
      "source": [
        "import numpy as np\n",
        "import pandas as pd\n",
        "import matplotlib.pyplot as plt\n",
        "import seaborn as sns"
      ],
      "execution_count": 0,
      "outputs": []
    },
    {
      "cell_type": "code",
      "metadata": {
        "id": "R3swyhZHYLFx",
        "colab_type": "code",
        "outputId": "91c4ef19-f61d-4fee-fe04-620280131fcb",
        "colab": {
          "base_uri": "https://localhost:8080/",
          "height": 232
        }
      },
      "source": [
        "#every row of the table is a data sample (feature vector) from a person\n",
        "df = pd.read_csv('cs_data.csv')\n",
        "df.head()"
      ],
      "execution_count": 0,
      "outputs": [
        {
          "output_type": "execute_result",
          "data": {
            "text/html": [
              "<div>\n",
              "<style scoped>\n",
              "    .dataframe tbody tr th:only-of-type {\n",
              "        vertical-align: middle;\n",
              "    }\n",
              "\n",
              "    .dataframe tbody tr th {\n",
              "        vertical-align: top;\n",
              "    }\n",
              "\n",
              "    .dataframe thead th {\n",
              "        text-align: right;\n",
              "    }\n",
              "</style>\n",
              "<table border=\"1\" class=\"dataframe\">\n",
              "  <thead>\n",
              "    <tr style=\"text-align: right;\">\n",
              "      <th></th>\n",
              "      <th>id</th>\n",
              "      <th>SeriousDlqin2yrs</th>\n",
              "      <th>RevolvingUtilizationOfUnsecuredLines</th>\n",
              "      <th>age</th>\n",
              "      <th>NumberOfTime30-59DaysPastDueNotWorse</th>\n",
              "      <th>DebtRatio</th>\n",
              "      <th>MonthlyIncome</th>\n",
              "      <th>NumberOfOpenCreditLinesAndLoans</th>\n",
              "      <th>NumberOfTimes90DaysLate</th>\n",
              "      <th>NumberRealEstateLoansOrLines</th>\n",
              "      <th>NumberOfTime60-89DaysPastDueNotWorse</th>\n",
              "      <th>NumberOfDependents</th>\n",
              "    </tr>\n",
              "  </thead>\n",
              "  <tbody>\n",
              "    <tr>\n",
              "      <th>0</th>\n",
              "      <td>1</td>\n",
              "      <td>1</td>\n",
              "      <td>0.766127</td>\n",
              "      <td>45</td>\n",
              "      <td>2</td>\n",
              "      <td>0.802982</td>\n",
              "      <td>9120.0</td>\n",
              "      <td>13</td>\n",
              "      <td>0</td>\n",
              "      <td>6</td>\n",
              "      <td>0</td>\n",
              "      <td>2.0</td>\n",
              "    </tr>\n",
              "    <tr>\n",
              "      <th>1</th>\n",
              "      <td>2</td>\n",
              "      <td>0</td>\n",
              "      <td>0.957151</td>\n",
              "      <td>40</td>\n",
              "      <td>0</td>\n",
              "      <td>0.121876</td>\n",
              "      <td>2600.0</td>\n",
              "      <td>4</td>\n",
              "      <td>0</td>\n",
              "      <td>0</td>\n",
              "      <td>0</td>\n",
              "      <td>1.0</td>\n",
              "    </tr>\n",
              "    <tr>\n",
              "      <th>2</th>\n",
              "      <td>3</td>\n",
              "      <td>0</td>\n",
              "      <td>0.658180</td>\n",
              "      <td>38</td>\n",
              "      <td>1</td>\n",
              "      <td>0.085113</td>\n",
              "      <td>3042.0</td>\n",
              "      <td>2</td>\n",
              "      <td>1</td>\n",
              "      <td>0</td>\n",
              "      <td>0</td>\n",
              "      <td>0.0</td>\n",
              "    </tr>\n",
              "    <tr>\n",
              "      <th>3</th>\n",
              "      <td>4</td>\n",
              "      <td>0</td>\n",
              "      <td>0.233810</td>\n",
              "      <td>30</td>\n",
              "      <td>0</td>\n",
              "      <td>0.036050</td>\n",
              "      <td>3300.0</td>\n",
              "      <td>5</td>\n",
              "      <td>0</td>\n",
              "      <td>0</td>\n",
              "      <td>0</td>\n",
              "      <td>0.0</td>\n",
              "    </tr>\n",
              "    <tr>\n",
              "      <th>4</th>\n",
              "      <td>5</td>\n",
              "      <td>0</td>\n",
              "      <td>0.907239</td>\n",
              "      <td>49</td>\n",
              "      <td>1</td>\n",
              "      <td>0.024926</td>\n",
              "      <td>63588.0</td>\n",
              "      <td>7</td>\n",
              "      <td>0</td>\n",
              "      <td>1</td>\n",
              "      <td>0</td>\n",
              "      <td>0.0</td>\n",
              "    </tr>\n",
              "  </tbody>\n",
              "</table>\n",
              "</div>"
            ],
            "text/plain": [
              "   id  ...  NumberOfDependents\n",
              "0   1  ...                 2.0\n",
              "1   2  ...                 1.0\n",
              "2   3  ...                 0.0\n",
              "3   4  ...                 0.0\n",
              "4   5  ...                 0.0\n",
              "\n",
              "[5 rows x 12 columns]"
            ]
          },
          "metadata": {
            "tags": []
          },
          "execution_count": 42
        }
      ]
    },
    {
      "cell_type": "markdown",
      "metadata": {
        "id": "S3r650UPYLF6",
        "colab_type": "text"
      },
      "source": [
        "#### handle nan (null) in data (i.e. missing values)\n",
        "Some fields in the table are nan, which are missing values. <br>\n",
        "For example, someone may not want to reveal monthly income to whoever made the table/survey, then the table got nan."
      ]
    },
    {
      "cell_type": "code",
      "metadata": {
        "id": "5nYJb5hsYLF8",
        "colab_type": "code",
        "outputId": "b7b2fd72-4aa6-4deb-f0bb-e363a2777925",
        "colab": {
          "base_uri": "https://localhost:8080/",
          "height": 235
        }
      },
      "source": [
        "df.isnull().sum()"
      ],
      "execution_count": 0,
      "outputs": [
        {
          "output_type": "execute_result",
          "data": {
            "text/plain": [
              "id                                          0\n",
              "SeriousDlqin2yrs                            0\n",
              "RevolvingUtilizationOfUnsecuredLines        0\n",
              "age                                         0\n",
              "NumberOfTime30-59DaysPastDueNotWorse        0\n",
              "DebtRatio                                   0\n",
              "MonthlyIncome                           29731\n",
              "NumberOfOpenCreditLinesAndLoans             0\n",
              "NumberOfTimes90DaysLate                     0\n",
              "NumberRealEstateLoansOrLines                0\n",
              "NumberOfTime60-89DaysPastDueNotWorse        0\n",
              "NumberOfDependents                       3924\n",
              "dtype: int64"
            ]
          },
          "metadata": {
            "tags": []
          },
          "execution_count": 43
        }
      ]
    },
    {
      "cell_type": "code",
      "metadata": {
        "id": "5jYbAxDSYLGC",
        "colab_type": "code",
        "outputId": "0bfcbf25-7711-4850-8964-6b8299aac107",
        "colab": {
          "base_uri": "https://localhost:8080/",
          "height": 235
        }
      },
      "source": [
        "#here, we use a simple method:\n",
        "#replace nan in each column with median value of that column\n",
        "#there are other methods in pandas and sklearn: interpolation in pandas and KNNImputer in sklearn\n",
        "from sklearn.impute import SimpleImputer\n",
        "imputer = SimpleImputer(strategy='median')\n",
        "dfv=imputer.fit_transform(df.values)\n",
        "df=pd.DataFrame(data=dfv, columns=df.columns)\n",
        "df.isnull().sum()"
      ],
      "execution_count": 0,
      "outputs": [
        {
          "output_type": "execute_result",
          "data": {
            "text/plain": [
              "id                                      0\n",
              "SeriousDlqin2yrs                        0\n",
              "RevolvingUtilizationOfUnsecuredLines    0\n",
              "age                                     0\n",
              "NumberOfTime30-59DaysPastDueNotWorse    0\n",
              "DebtRatio                               0\n",
              "MonthlyIncome                           0\n",
              "NumberOfOpenCreditLinesAndLoans         0\n",
              "NumberOfTimes90DaysLate                 0\n",
              "NumberRealEstateLoansOrLines            0\n",
              "NumberOfTime60-89DaysPastDueNotWorse    0\n",
              "NumberOfDependents                      0\n",
              "dtype: int64"
            ]
          },
          "metadata": {
            "tags": []
          },
          "execution_count": 44
        }
      ]
    },
    {
      "cell_type": "markdown",
      "metadata": {
        "id": "TIn_keRrYLGI",
        "colab_type": "text"
      },
      "source": [
        "### We have a highly imbalanced dataset\n",
        "139974 data samples in class-0 (normal) <br>\n",
        "10026 data samples in class-1 (financial distress)"
      ]
    },
    {
      "cell_type": "code",
      "metadata": {
        "id": "Xdxjy3KLYLGJ",
        "colab_type": "code",
        "outputId": "9bb5c705-182d-483f-9e35-f868b40d69a1",
        "colab": {
          "base_uri": "https://localhost:8080/",
          "height": 282
        }
      },
      "source": [
        "df['SeriousDlqin2yrs'].hist()"
      ],
      "execution_count": 0,
      "outputs": [
        {
          "output_type": "execute_result",
          "data": {
            "text/plain": [
              "<matplotlib.axes._subplots.AxesSubplot at 0x7f52c2013400>"
            ]
          },
          "metadata": {
            "tags": []
          },
          "execution_count": 45
        },
        {
          "output_type": "display_data",
          "data": {
            "image/png": "[encoded data removed]",
            "text/plain": [
              "<Figure size 432x288 with 1 Axes>"
            ]
          },
          "metadata": {
            "tags": []
          }
        }
      ]
    },
    {
      "cell_type": "code",
      "metadata": {
        "id": "yjuXnLMHYLGQ",
        "colab_type": "code",
        "outputId": "02f627b7-020f-4062-e2df-e98a47a29f8e",
        "colab": {
          "base_uri": "https://localhost:8080/",
          "height": 34
        }
      },
      "source": [
        "(df['SeriousDlqin2yrs']==0).sum()"
      ],
      "execution_count": 0,
      "outputs": [
        {
          "output_type": "execute_result",
          "data": {
            "text/plain": [
              "139974"
            ]
          },
          "metadata": {
            "tags": []
          },
          "execution_count": 46
        }
      ]
    },
    {
      "cell_type": "code",
      "metadata": {
        "id": "Hnrwn17EYLGW",
        "colab_type": "code",
        "outputId": "7da3ee54-1835-47aa-d52e-687e05c7e754",
        "colab": {
          "base_uri": "https://localhost:8080/",
          "height": 34
        }
      },
      "source": [
        "(df['SeriousDlqin2yrs']==1).sum()"
      ],
      "execution_count": 0,
      "outputs": [
        {
          "output_type": "execute_result",
          "data": {
            "text/plain": [
              "10026"
            ]
          },
          "metadata": {
            "tags": []
          },
          "execution_count": 47
        }
      ]
    },
    {
      "cell_type": "markdown",
      "metadata": {
        "id": "rGMSK0p-YLGf",
        "colab_type": "text"
      },
      "source": [
        "#### Classification Goal: predict 'SeriousDlqin2yrs' (Y) using the other features (X)"
      ]
    },
    {
      "cell_type": "code",
      "metadata": {
        "id": "ucu5sDtdYLGg",
        "colab_type": "code",
        "outputId": "e2eea5b4-e86e-4dcd-beb1-1e5066708243",
        "colab": {
          "base_uri": "https://localhost:8080/",
          "height": 232
        }
      },
      "source": [
        "#'SeriousDlqin2yrs' is the target/class label, so it should not be in the input feature vector X\n",
        "#'id' of a person is useless for the classification task\n",
        "#so, we remove them from the table and get the input X\n",
        "X=df.drop(['SeriousDlqin2yrs', 'id'], axis=1)\n",
        "X.head()"
      ],
      "execution_count": 0,
      "outputs": [
        {
          "output_type": "execute_result",
          "data": {
            "text/html": [
              "<div>\n",
              "<style scoped>\n",
              "    .dataframe tbody tr th:only-of-type {\n",
              "        vertical-align: middle;\n",
              "    }\n",
              "\n",
              "    .dataframe tbody tr th {\n",
              "        vertical-align: top;\n",
              "    }\n",
              "\n",
              "    .dataframe thead th {\n",
              "        text-align: right;\n",
              "    }\n",
              "</style>\n",
              "<table border=\"1\" class=\"dataframe\">\n",
              "  <thead>\n",
              "    <tr style=\"text-align: right;\">\n",
              "      <th></th>\n",
              "      <th>RevolvingUtilizationOfUnsecuredLines</th>\n",
              "      <th>age</th>\n",
              "      <th>NumberOfTime30-59DaysPastDueNotWorse</th>\n",
              "      <th>DebtRatio</th>\n",
              "      <th>MonthlyIncome</th>\n",
              "      <th>NumberOfOpenCreditLinesAndLoans</th>\n",
              "      <th>NumberOfTimes90DaysLate</th>\n",
              "      <th>NumberRealEstateLoansOrLines</th>\n",
              "      <th>NumberOfTime60-89DaysPastDueNotWorse</th>\n",
              "      <th>NumberOfDependents</th>\n",
              "    </tr>\n",
              "  </thead>\n",
              "  <tbody>\n",
              "    <tr>\n",
              "      <th>0</th>\n",
              "      <td>0.766127</td>\n",
              "      <td>45.0</td>\n",
              "      <td>2.0</td>\n",
              "      <td>0.802982</td>\n",
              "      <td>9120.0</td>\n",
              "      <td>13.0</td>\n",
              "      <td>0.0</td>\n",
              "      <td>6.0</td>\n",
              "      <td>0.0</td>\n",
              "      <td>2.0</td>\n",
              "    </tr>\n",
              "    <tr>\n",
              "      <th>1</th>\n",
              "      <td>0.957151</td>\n",
              "      <td>40.0</td>\n",
              "      <td>0.0</td>\n",
              "      <td>0.121876</td>\n",
              "      <td>2600.0</td>\n",
              "      <td>4.0</td>\n",
              "      <td>0.0</td>\n",
              "      <td>0.0</td>\n",
              "      <td>0.0</td>\n",
              "      <td>1.0</td>\n",
              "    </tr>\n",
              "    <tr>\n",
              "      <th>2</th>\n",
              "      <td>0.658180</td>\n",
              "      <td>38.0</td>\n",
              "      <td>1.0</td>\n",
              "      <td>0.085113</td>\n",
              "      <td>3042.0</td>\n",
              "      <td>2.0</td>\n",
              "      <td>1.0</td>\n",
              "      <td>0.0</td>\n",
              "      <td>0.0</td>\n",
              "      <td>0.0</td>\n",
              "    </tr>\n",
              "    <tr>\n",
              "      <th>3</th>\n",
              "      <td>0.233810</td>\n",
              "      <td>30.0</td>\n",
              "      <td>0.0</td>\n",
              "      <td>0.036050</td>\n",
              "      <td>3300.0</td>\n",
              "      <td>5.0</td>\n",
              "      <td>0.0</td>\n",
              "      <td>0.0</td>\n",
              "      <td>0.0</td>\n",
              "      <td>0.0</td>\n",
              "    </tr>\n",
              "    <tr>\n",
              "      <th>4</th>\n",
              "      <td>0.907239</td>\n",
              "      <td>49.0</td>\n",
              "      <td>1.0</td>\n",
              "      <td>0.024926</td>\n",
              "      <td>63588.0</td>\n",
              "      <td>7.0</td>\n",
              "      <td>0.0</td>\n",
              "      <td>1.0</td>\n",
              "      <td>0.0</td>\n",
              "      <td>0.0</td>\n",
              "    </tr>\n",
              "  </tbody>\n",
              "</table>\n",
              "</div>"
            ],
            "text/plain": [
              "   RevolvingUtilizationOfUnsecuredLines  ...  NumberOfDependents\n",
              "0                              0.766127  ...                 2.0\n",
              "1                              0.957151  ...                 1.0\n",
              "2                              0.658180  ...                 0.0\n",
              "3                              0.233810  ...                 0.0\n",
              "4                              0.907239  ...                 0.0\n",
              "\n",
              "[5 rows x 10 columns]"
            ]
          },
          "metadata": {
            "tags": []
          },
          "execution_count": 48
        }
      ]
    },
    {
      "cell_type": "code",
      "metadata": {
        "id": "O1zgdoUIYLGn",
        "colab_type": "code",
        "outputId": "49301b94-fb82-4980-b2cc-b704aa469b6a",
        "colab": {
          "base_uri": "https://localhost:8080/",
          "height": 118
        }
      },
      "source": [
        "#Y is the target/class label\n",
        "Y=df['SeriousDlqin2yrs']\n",
        "Y.head()"
      ],
      "execution_count": 0,
      "outputs": [
        {
          "output_type": "execute_result",
          "data": {
            "text/plain": [
              "0    1.0\n",
              "1    0.0\n",
              "2    0.0\n",
              "3    0.0\n",
              "4    0.0\n",
              "Name: SeriousDlqin2yrs, dtype: float64"
            ]
          },
          "metadata": {
            "tags": []
          },
          "execution_count": 49
        }
      ]
    },
    {
      "cell_type": "code",
      "metadata": {
        "id": "Ajrcs6rvYLGu",
        "colab_type": "code",
        "colab": {}
      },
      "source": [
        "# convert pandas dataframe/series to numpy array\n",
        "# sklearn functions may not work well with pandas data types\n",
        "X=X.values\n",
        "Y=Y.values"
      ],
      "execution_count": 0,
      "outputs": []
    },
    {
      "cell_type": "markdown",
      "metadata": {
        "id": "S8S_Nu_TYLGz",
        "colab_type": "text"
      },
      "source": [
        "We split the data into training, validation and testing sets"
      ]
    },
    {
      "cell_type": "code",
      "metadata": {
        "id": "J3h1UvKXYLG0",
        "colab_type": "code",
        "outputId": "0c3d02ee-e351-4ef7-de5b-844bca0f3356",
        "colab": {
          "base_uri": "https://localhost:8080/",
          "height": 67
        }
      },
      "source": [
        "from sklearn.model_selection import train_test_split\n",
        "X_train, X_test, Y_train, Y_test = train_test_split(X, Y, test_size=0.2, random_state=0)\n",
        "#split X_train and Y_train into a 'pure' training set and a validation set\n",
        "X_train, X_val, Y_train, Y_val = train_test_split(X_train, Y_train, test_size=0.1, random_state=0)\n",
        "print('train:', X_train.shape, Y_train.shape)\n",
        "print('validation:', X_val.shape, Y_val.shape)\n",
        "print('test:', X_test.shape, Y_test.shape)"
      ],
      "execution_count": 0,
      "outputs": [
        {
          "output_type": "stream",
          "text": [
            "train: (108000, 10) (108000,)\n",
            "validation: (12000, 10) (12000,)\n",
            "test: (30000, 10) (30000,)\n"
          ],
          "name": "stdout"
        }
      ]
    },
    {
      "cell_type": "code",
      "metadata": {
        "id": "aDmVNB5oYLG5",
        "colab_type": "code",
        "outputId": "e3d432e3-f7ab-45d7-d668-aed521a3a5df",
        "colab": {
          "base_uri": "https://localhost:8080/",
          "height": 265
        }
      },
      "source": [
        "plt.hist(Y_train, bins=20);"
      ],
      "execution_count": 0,
      "outputs": [
        {
          "output_type": "display_data",
          "data": {
            "image/png": "[encoded data removed]",
            "text/plain": [
              "<Figure size 432x288 with 1 Axes>"
            ]
          },
          "metadata": {
            "tags": []
          }
        }
      ]
    },
    {
      "cell_type": "code",
      "metadata": {
        "id": "7bh6gOj9YLG-",
        "colab_type": "code",
        "outputId": "fc879db1-5510-4224-f522-ceaef00094a8",
        "colab": {
          "base_uri": "https://localhost:8080/",
          "height": 34
        }
      },
      "source": [
        "(Y_train==0).sum()"
      ],
      "execution_count": 0,
      "outputs": [
        {
          "output_type": "execute_result",
          "data": {
            "text/plain": [
              "100824"
            ]
          },
          "metadata": {
            "tags": []
          },
          "execution_count": 53
        }
      ]
    },
    {
      "cell_type": "code",
      "metadata": {
        "id": "HTPx-9qtYLHD",
        "colab_type": "code",
        "outputId": "bf89c32f-adce-43ec-9728-42af7765c56e",
        "colab": {
          "base_uri": "https://localhost:8080/",
          "height": 34
        }
      },
      "source": [
        "(Y_train==1).sum()"
      ],
      "execution_count": 0,
      "outputs": [
        {
          "output_type": "execute_result",
          "data": {
            "text/plain": [
              "7176"
            ]
          },
          "metadata": {
            "tags": []
          },
          "execution_count": 54
        }
      ]
    },
    {
      "cell_type": "code",
      "metadata": {
        "id": "1-9A_HIPYLHK",
        "colab_type": "code",
        "outputId": "2472de88-4179-4ad9-a36a-918201bf30d7",
        "colab": {
          "base_uri": "https://localhost:8080/",
          "height": 265
        }
      },
      "source": [
        "plt.hist(Y_val, bins=20);"
      ],
      "execution_count": 0,
      "outputs": [
        {
          "output_type": "display_data",
          "data": {
            "image/png": "[encoded data removed]",
            "text/plain": [
              "<Figure size 432x288 with 1 Axes>"
            ]
          },
          "metadata": {
            "tags": []
          }
        }
      ]
    },
    {
      "cell_type": "code",
      "metadata": {
        "id": "qQComCE2YLHQ",
        "colab_type": "code",
        "outputId": "25a472e4-c9fb-4345-e286-3d1f9427a5bf",
        "colab": {
          "base_uri": "https://localhost:8080/",
          "height": 265
        }
      },
      "source": [
        "plt.hist(Y_test, bins=20);"
      ],
      "execution_count": 0,
      "outputs": [
        {
          "output_type": "display_data",
          "data": {
            "image/png": "[encoded data removed]",
            "text/plain": [
              "<Figure size 432x288 with 1 Axes>"
            ]
          },
          "metadata": {
            "tags": []
          }
        }
      ]
    },
    {
      "cell_type": "code",
      "metadata": {
        "id": "0ZwYpp32YLHU",
        "colab_type": "code",
        "colab": {}
      },
      "source": [
        "# we need to use weighted classification accuracy\n",
        "# try to understand it\n",
        "def weighted_accuracy(confusion):\n",
        "    #input: confusion is the confusion matrix\n",
        "    #output: acc is the weighted classification accuracy\n",
        "    M=confusion.copy().astype('float32')\n",
        "    for k in range(0, M.shape[0]):\n",
        "        M[k]/=M[k].sum()+1e-8    \n",
        "    acc = M.diagonal().sum()/M.sum()\n",
        "    return acc"
      ],
      "execution_count": 0,
      "outputs": []
    },
    {
      "cell_type": "code",
      "metadata": {
        "id": "aX0hYG3IYLHY",
        "colab_type": "code",
        "colab": {}
      },
      "source": [
        "#apply feature normalization to training, validation and test sets\n",
        "from sklearn.preprocessing import MinMaxScaler\n",
        "scaler=MinMaxScaler()\n",
        "scaler.fit(X_train) # think about why fit to X_train, not X ?\n",
        "X_train=scaler.transform(X_train)\n",
        "X_val=scaler.transform(X_val)\n",
        "X_test=scaler.transform(X_test)"
      ],
      "execution_count": 0,
      "outputs": []
    },
    {
      "cell_type": "markdown",
      "metadata": {
        "id": "MFyFpXipYLHc",
        "colab_type": "text"
      },
      "source": [
        "#### build a LogisticRegression classifier as the baseline model"
      ]
    },
    {
      "cell_type": "code",
      "metadata": {
        "id": "icdyIoz3YLHd",
        "colab_type": "code",
        "outputId": "8b6faead-162e-4224-867b-c7be9b62b750",
        "colab": {
          "base_uri": "https://localhost:8080/",
          "height": 50
        }
      },
      "source": [
        "from sklearn.linear_model import LogisticRegression\n",
        "from sklearn.metrics import confusion_matrix\n",
        "#set class_weight='balanced'\n",
        "LR=LogisticRegression(penalty='none', class_weight='balanced', solver='newton-cg', random_state=0)\n",
        "LR.fit(X_train, Y_train)\n",
        "Y_val_pred=LR.predict(X_val)\n",
        "confusion_val=confusion_matrix(Y_val, Y_val_pred)\n",
        "acc_val=weighted_accuracy(confusion_val)\n",
        "Y_test_pred=LR.predict(X_test)\n",
        "confusion_test=confusion_matrix(Y_test, Y_test_pred)\n",
        "acc_test=weighted_accuracy(confusion_test)\n",
        "print('classification accuracy on validation set is ', acc_val)\n",
        "print('classification accuracy on test set is ', acc_test)"
      ],
      "execution_count": 0,
      "outputs": [
        {
          "output_type": "stream",
          "text": [
            "classification accuracy on validation set is  0.7163831\n",
            "classification accuracy on test set is  0.7099812\n"
          ],
          "name": "stdout"
        }
      ]
    },
    {
      "cell_type": "markdown",
      "metadata": {
        "id": "C0860qmZYLHl",
        "colab_type": "text"
      },
      "source": [
        "#### Let's try DecisionTreeClassifier"
      ]
    },
    {
      "cell_type": "code",
      "metadata": {
        "id": "uQaXL1-2YLHn",
        "colab_type": "code",
        "outputId": "144d055f-6c7c-4bde-bbb9-4a71fd09151b",
        "colab": {
          "base_uri": "https://localhost:8080/"
        }
      },
      "source": [
        "from sklearn.tree import DecisionTreeClassifier\n",
        "#set class_weight='balanced'\n",
        "dt=DecisionTreeClassifier(class_weight='balanced', max_depth=20, random_state=0)\n",
        "dt.fit(X_train, Y_train)\n",
        "Y_val_pred=dt.predict(X_val)\n",
        "confusion_val=confusion_matrix(Y_val, Y_val_pred)\n",
        "acc_val=weighted_accuracy(confusion_val)\n",
        "Y_test_pred=dt.predict(X_test)\n",
        "confusion_test=confusion_matrix(Y_test, Y_test_pred)\n",
        "acc_test=weighted_accuracy(confusion_test)\n",
        "print('classification accuracy on validation set is ', acc_val)\n",
        "print('classification accuracy on test set is ', acc_test)"
      ],
      "execution_count": 0,
      "outputs": [
        {
          "output_type": "stream",
          "text": [
            "classification accuracy on validation set is  0.63256586\n",
            "classification accuracy on test set is  0.58936334\n"
          ],
          "name": "stdout"
        }
      ]
    },
    {
      "cell_type": "markdown",
      "metadata": {
        "id": "I3ipqWjqYLHr",
        "colab_type": "text"
      },
      "source": [
        "#### Let's try randomforest"
      ]
    },
    {
      "cell_type": "code",
      "metadata": {
        "id": "poYyzU36YLHt",
        "colab_type": "code",
        "outputId": "27f0b1f9-4a74-400a-d09e-4e53d702062c",
        "colab": {
          "base_uri": "https://localhost:8080/"
        }
      },
      "source": [
        "from sklearn.ensemble import RandomForestClassifier\n",
        "#set class_weight='balanced'\n",
        "RF=RandomForestClassifier(n_estimators=20, class_weight='balanced', max_depth=20, random_state=0)\n",
        "RF.fit(X_train, Y_train)\n",
        "Y_val_pred=RF.predict(X_val)\n",
        "confusion_val=confusion_matrix(Y_val, Y_val_pred)\n",
        "acc_val=weighted_accuracy(confusion_val)\n",
        "Y_test_pred=RF.predict(X_test)\n",
        "confusion_test=confusion_matrix(Y_test, Y_test_pred)\n",
        "acc_test=weighted_accuracy(confusion_test)\n",
        "print('classification accuracy on validation set is ', acc_val)\n",
        "print('classification accuracy on test set is ', acc_test)"
      ],
      "execution_count": 0,
      "outputs": [
        {
          "output_type": "stream",
          "text": [
            "classification accuracy on validation set is  0.59923947\n",
            "classification accuracy on test set is  0.5635772\n"
          ],
          "name": "stdout"
        }
      ]
    },
    {
      "cell_type": "markdown",
      "metadata": {
        "id": "Nz14MEsKYLHx",
        "colab_type": "text"
      },
      "source": [
        "## Your task begins here\n",
        "Clearly, max_depth=20 is not optimal for DecisionTreeClassifier and RandomForestClassifier <br>\n",
        "You will do a grid search to find the best max_depth. <br>\n",
        "Whenever you are not sure about how to use a function in sklearn, read the online documents"
      ]
    },
    {
      "cell_type": "markdown",
      "metadata": {
        "id": "sMG2bs2TYLHy",
        "colab_type": "text"
      },
      "source": [
        "### 1. find the best max_depth in DecisionTreeClassifier"
      ]
    },
    {
      "cell_type": "code",
      "metadata": {
        "id": "QFw3xH_OYLHz",
        "colab_type": "code",
        "outputId": "a827ad4f-e13d-4d0a-dff2-edb2450d07d6",
        "colab": {
          "base_uri": "https://localhost:8080/",
          "height": 50
        }
      },
      "source": [
        "#create an array of possible max_depth\n",
        "# you may need the function np.arange (read the document in sklearn website)\n",
        "# The minimum value of max_depth is 1, obviously.\n",
        "# assume the name of the array is max_depth_list\n",
        "\n",
        "max_depth_list = np.arange(1,21)\n",
        "max_depth_list "
      ],
      "execution_count": 0,
      "outputs": [
        {
          "output_type": "execute_result",
          "data": {
            "text/plain": [
              "array([ 1,  2,  3,  4,  5,  6,  7,  8,  9, 10, 11, 12, 13, 14, 15, 16, 17,\n",
              "       18, 19, 20])"
            ]
          },
          "metadata": {
            "tags": []
          },
          "execution_count": 60
        }
      ]
    },
    {
      "cell_type": "code",
      "metadata": {
        "id": "e4mW3ZJTYLH4",
        "colab_type": "code",
        "colab": {}
      },
      "source": [
        "#train a DecisionTreeClassifier with max_depth in max_depth_list\n",
        "#inside a for loop:\n",
        "#   create a model with a max_depth in max_depth_list\n",
        "#   set class_weight to 'balanced'\n",
        "#   set random_state=0 so that the result is reproducible\n",
        "#   train the model on the training set\n",
        "#   record the accuracy on the training set into a list acc_train_list\n",
        "#   record the accuracy on the validation set into a list acc_val_list\n",
        "acc_train_list=[]\n",
        "acc_val_list=[]\n",
        "\n",
        "for each in max_depth_list:\n",
        "  dt=DecisionTreeClassifier(class_weight='balanced', max_depth=each, random_state=0)\n",
        "  dt.fit(X_train, Y_train)\n",
        "\n",
        "  Y_val_pred=dt.predict(X_val)\n",
        "  confusion_val=confusion_matrix(Y_val, Y_val_pred)\n",
        "  acc_val=weighted_accuracy(confusion_val)\n",
        "  acc_val_list.append(acc_val)\n",
        "\n",
        "  Y_train_pred=dt.predict(X_train)\n",
        "  confusion_train=confusion_matrix(Y_train, Y_train_pred)\n",
        "  acc_train=weighted_accuracy(confusion_train)\n",
        "  acc_train_list.append(acc_train)\n",
        "\n",
        "  "
      ],
      "execution_count": 0,
      "outputs": []
    },
    {
      "cell_type": "code",
      "metadata": {
        "id": "OHjWpkHSYLH9",
        "colab_type": "code",
        "outputId": "ae4a1f07-a04c-4f44-9684-d8d559612527",
        "colab": {
          "base_uri": "https://localhost:8080/",
          "height": 405
        }
      },
      "source": [
        "#plot max_depth vs acc_train using max_depth_list and acc_train_list\n",
        "#plot max_depth vs acc_val using max_depth_list and acc_val_list\n",
        "fig, ax = plt.subplots(1,2, figsize=(10,6))\n",
        "ax[0].plot(max_depth_list, acc_train_list, 'b')\n",
        "ax[0].set_xlabel('max_depth')\n",
        "ax[0].set_ylabel('training accuracy')\n",
        "ax[0].set_title('max_depth v.s. training accuracy')\n",
        "ax[0].grid(True)\n",
        "ax[1].plot(max_depth_list, acc_val_list, 'r')\n",
        "ax[1].set_xlabel('max_depth')\n",
        "ax[1].set_ylabel('validation accuracy')\n",
        "ax[1].set_title('max_depth v.s. validation accuracy')\n",
        "ax[1].grid(True)"
      ],
      "execution_count": 0,
      "outputs": [
        {
          "output_type": "display_data",
          "data": {
            "image/png": "[encoded data removed]",
            "text/plain": [
              "<Figure size 720x432 with 2 Axes>"
            ]
          },
          "metadata": {
            "tags": []
          }
        }
      ]
    },
    {
      "cell_type": "markdown",
      "metadata": {
        "id": "mYkwYGUDYLIE",
        "colab_type": "text"
      },
      "source": [
        "From the above figure, we see that training accuracy keeps increasing as max_depth increases. <br>\n",
        "Validation accuracy reveals the ability of the model predicting y on new data samples that the model did not see during training. <br>\n",
        "This is why we use validation accuracy curve to find the best hyper-parameter"
      ]
    },
    {
      "cell_type": "code",
      "metadata": {
        "id": "WhcgAVBQYLIF",
        "colab_type": "code",
        "outputId": "13f5c640-d0af-41c0-f53f-09acc202223b",
        "colab": {
          "base_uri": "https://localhost:8080/",
          "height": 34
        }
      },
      "source": [
        "#find the best max_depth using np.argmax, max_depth_list and acc_val_list\n",
        "\n",
        "max_depth_best = np.argmax(acc_val_list)+1\n",
        "max_depth_best"
      ],
      "execution_count": 0,
      "outputs": [
        {
          "output_type": "execute_result",
          "data": {
            "text/plain": [
              "9"
            ]
          },
          "metadata": {
            "tags": []
          },
          "execution_count": 63
        }
      ]
    },
    {
      "cell_type": "code",
      "metadata": {
        "id": "SEorjMFRYLIJ",
        "colab_type": "code",
        "outputId": "f14d622f-e7b2-43b4-b24b-e8e8210a7722",
        "colab": {
          "base_uri": "https://localhost:8080/",
          "height": 34
        }
      },
      "source": [
        "#now, we use the best max_depth to build a DecisionTreeClassifier\n",
        "#train it on the training set and evaluate it on the testing set\n",
        "dt=DecisionTreeClassifier(class_weight='balanced', max_depth=max_depth_best, random_state=0)\n",
        "dt.fit(X_train, Y_train)\n",
        "\n",
        "Y_test_pred=dt.predict(X_test)\n",
        "confusion_test=confusion_matrix(Y_test, Y_test_pred)\n",
        "acc_test=weighted_accuracy(confusion_test)\n",
        "\n",
        "print('classification accuracy on test set is ', acc_test)"
      ],
      "execution_count": 0,
      "outputs": [
        {
          "output_type": "stream",
          "text": [
            "classification accuracy on test set is  0.7420615\n"
          ],
          "name": "stdout"
        }
      ]
    },
    {
      "cell_type": "code",
      "metadata": {
        "id": "3nBgyEidYLIN",
        "colab_type": "code",
        "outputId": "e6c80edc-6d79-4a5d-e863-fe2cb257f450",
        "colab": {
          "base_uri": "https://localhost:8080/",
          "height": 50
        }
      },
      "source": [
        "confusion_test"
      ],
      "execution_count": 0,
      "outputs": [
        {
          "output_type": "execute_result",
          "data": {
            "text/plain": [
              "array([[23401,  4556],\n",
              "       [  721,  1322]])"
            ]
          },
          "metadata": {
            "tags": []
          },
          "execution_count": 65
        }
      ]
    },
    {
      "cell_type": "markdown",
      "metadata": {
        "id": "skRy2li6YLIS",
        "colab_type": "text"
      },
      "source": [
        "### 2. find the best max_depth in RandomForestClassifier"
      ]
    },
    {
      "cell_type": "code",
      "metadata": {
        "id": "8LtKAm7VYLIT",
        "colab_type": "code",
        "outputId": "d83a3c18-e662-4b34-bbf8-ab95fd175d94",
        "colab": {
          "base_uri": "https://localhost:8080/",
          "height": 50
        }
      },
      "source": [
        "#create an array of possible max_depth\n",
        "# you may need the function np.arange\n",
        "# The minimum value of max_depth is 1, obviously.\n",
        "# assume the name of the array is max_depth_list\n",
        "\n",
        "max_depth_list = np.arange(1,21)\n",
        "max_depth_list"
      ],
      "execution_count": 0,
      "outputs": [
        {
          "output_type": "execute_result",
          "data": {
            "text/plain": [
              "array([ 1,  2,  3,  4,  5,  6,  7,  8,  9, 10, 11, 12, 13, 14, 15, 16, 17,\n",
              "       18, 19, 20])"
            ]
          },
          "metadata": {
            "tags": []
          },
          "execution_count": 66
        }
      ]
    },
    {
      "cell_type": "code",
      "metadata": {
        "id": "kCtSE7xYYLIZ",
        "colab_type": "code",
        "colab": {}
      },
      "source": [
        "#train a RandomForestClassifier with max_depth in max_depth_list\n",
        "#inside a for loop: \n",
        "#   create a model with a max_depth in max_depth_list\n",
        "#   set class_weight to 'balanced', n_estimators=20\n",
        "#   set random_state=0 so that the result is reproducible\n",
        "#   train the model on the training set\n",
        "#   record the accuracy on the training set into a list acc_train_list\n",
        "#   record the accuracy on the validation set into a list acc_val_list\n",
        "acc_train_list=[]\n",
        "acc_val_list=[]\n",
        "from sklearn.ensemble import RandomForestClassifier\n",
        "for each in max_depth_list:\n",
        "  RF=RandomForestClassifier(n_estimators=20, class_weight='balanced', max_depth=each, random_state=0)\n",
        "  RF.fit(X_train, Y_train)\n",
        " \n",
        "  Y_val_pred=RF.predict(X_val)\n",
        "  confusion_val=confusion_matrix(Y_val, Y_val_pred)\n",
        "  acc_val=weighted_accuracy(confusion_val)\n",
        "  acc_val_list.append(acc_val)\n",
        "\n",
        "  Y_train_pred=RF.predict(X_train)\n",
        "  confusion_train=confusion_matrix(Y_train, Y_train_pred)\n",
        "  acc_train=weighted_accuracy(confusion_train)\n",
        "  acc_train_list.append(acc_train)\n"
      ],
      "execution_count": 0,
      "outputs": []
    },
    {
      "cell_type": "code",
      "metadata": {
        "id": "TF6hEmECYLIe",
        "colab_type": "code",
        "outputId": "f078492a-6e3f-4398-f83b-eaeabe208a44",
        "colab": {
          "base_uri": "https://localhost:8080/",
          "height": 405
        }
      },
      "source": [
        "#plot max_depth vs acc_train using max_depth_list and acc_train_list\n",
        "#plot max_depth vs acc_val using max_depth_list and acc_val_list\n",
        "fig, ax = plt.subplots(1,2, figsize=(10,6))\n",
        "ax[0].plot(max_depth_list, acc_train_list, 'b')\n",
        "ax[0].set_xlabel('max_depth')\n",
        "ax[0].set_ylabel('training accuracy')\n",
        "ax[0].set_title('max_depth v.s. training accuracy')\n",
        "ax[0].grid(True)\n",
        "ax[1].plot(max_depth_list, acc_val_list, 'r')\n",
        "ax[1].set_xlabel('max_depth')\n",
        "ax[1].set_ylabel('validation accuracy')\n",
        "ax[1].set_title('max_depth v.s. validation accuracy')\n",
        "ax[1].grid(True)"
      ],
      "execution_count": 0,
      "outputs": [
        {
          "output_type": "display_data",
          "data": {
            "image/png": "[encoded data removed]",
            "text/plain": [
              "<Figure size 720x432 with 2 Axes>"
            ]
          },
          "metadata": {
            "tags": []
          }
        }
      ]
    },
    {
      "cell_type": "code",
      "metadata": {
        "id": "pr27UgHIYLIi",
        "colab_type": "code",
        "outputId": "0f98d9d9-d70d-4a42-f48b-bea296adcf29",
        "colab": {
          "base_uri": "https://localhost:8080/",
          "height": 34
        }
      },
      "source": [
        "#find the best max_depth using np.argmax, max_depth_list and acc_val_list\n",
        "\n",
        "max_depth_best = np.argmax(acc_val_list)+1\n",
        "max_depth_best"
      ],
      "execution_count": 0,
      "outputs": [
        {
          "output_type": "execute_result",
          "data": {
            "text/plain": [
              "8"
            ]
          },
          "metadata": {
            "tags": []
          },
          "execution_count": 69
        }
      ]
    },
    {
      "cell_type": "code",
      "metadata": {
        "id": "dkdDx10tYLIn",
        "colab_type": "code",
        "outputId": "cafc5777-53ca-4056-83ba-ee25d8059a02",
        "colab": {
          "base_uri": "https://localhost:8080/",
          "height": 34
        }
      },
      "source": [
        "#now, we use the best max_depth to build a RandomForestClassifier\n",
        "#train it on the training set and evaluate it on the testing set\n",
        "RF=RandomForestClassifier(n_estimators=20, class_weight='balanced', max_depth=max_depth_best, random_state=0)\n",
        "RF.fit(X_train, Y_train)\n",
        "\n",
        "Y_test_pred=RF.predict(X_test)\n",
        "confusion_test=confusion_matrix(Y_test, Y_test_pred)\n",
        "acc_test=weighted_accuracy(confusion_test)\n",
        "\n",
        "print('classification accuracy on test set is ', acc_test)"
      ],
      "execution_count": 0,
      "outputs": [
        {
          "output_type": "stream",
          "text": [
            "classification accuracy on test set is  0.75272644\n"
          ],
          "name": "stdout"
        }
      ]
    },
    {
      "cell_type": "code",
      "metadata": {
        "id": "TJRL0YEXYLIs",
        "colab_type": "code",
        "outputId": "beb82cf1-e233-412b-cfbe-d24f9b08dce1",
        "colab": {
          "base_uri": "https://localhost:8080/",
          "height": 50
        }
      },
      "source": [
        "confusion_test"
      ],
      "execution_count": 0,
      "outputs": [
        {
          "output_type": "execute_result",
          "data": {
            "text/plain": [
              "array([[23751,  4206],\n",
              "       [  703,  1340]])"
            ]
          },
          "metadata": {
            "tags": []
          },
          "execution_count": 71
        }
      ]
    },
    {
      "cell_type": "markdown",
      "metadata": {
        "id": "jwdy7g6qYLIx",
        "colab_type": "text"
      },
      "source": [
        "## KNeighborsClassifier and upsampling\n",
        "We need to find the best hyper-parameter n_neighbors in KNeighborsClassifier <br>\n",
        "There is no 'class_weight' parameter in KNeighborsClassifier, so we have to do upsampling to handle imbalanced data"
      ]
    },
    {
      "cell_type": "code",
      "metadata": {
        "id": "-3Ux2QuWYLIz",
        "colab_type": "code",
        "colab": {}
      },
      "source": [
        "from sklearn.neighbors import KNeighborsClassifier\n"
      ],
      "execution_count": 0,
      "outputs": []
    },
    {
      "cell_type": "code",
      "metadata": {
        "id": "67E4h1hgYLI3",
        "colab_type": "code",
        "outputId": "f55aca8c-3093-4065-f8d6-126091a5d700",
        "colab": {
          "base_uri": "https://localhost:8080/",
          "height": 50
        }
      },
      "source": [
        "# now, do upsampling... to get X_train_new, Y_train_new\n",
        "# in this new training set, class-0 and clas-1 have equal number of samples (100824). \n",
        "# use sklearn.utils.resample like this: X_train_c1=resample(X_train[Y_train==1], n_samples=100824)\n",
        "# assemble X_train_new, Y_train_new using np.concatenate\n",
        "from sklearn.utils import resample\n",
        "\n",
        "X_train_c1 = resample(X_train[Y_train==1], n_samples=100824)\n",
        "Y_train_c1 = np.ones(X_train_c1.shape[0])\n",
        "print('X_train_c1', X_train_c1.shape, Y_train_c1.shape)\n",
        "X_train_new=np.concatenate([X_train[Y_train==0], X_train_c1], axis=0)\n",
        "Y_train_new=np.concatenate([Y_train[Y_train==0], Y_train_c1], axis=0)\n",
        "\n",
        "print('X_train_new', X_train_new.shape, Y_train_new.shape)"
      ],
      "execution_count": 0,
      "outputs": [
        {
          "output_type": "stream",
          "text": [
            "X_train_c1 (100824, 10) (100824,)\n",
            "X_train_new (201648, 10) (201648,)\n"
          ],
          "name": "stdout"
        }
      ]
    },
    {
      "cell_type": "code",
      "metadata": {
        "id": "kMjdvpz8YLI7",
        "colab_type": "code",
        "outputId": "cd15b872-e81d-4bb9-f48c-c13e897d0a5b",
        "colab": {
          "base_uri": "https://localhost:8080/",
          "height": 34
        }
      },
      "source": [
        "# create an array of possible n_neighbors\n",
        "# name it n_neighbors_list\n",
        "n_neighbors_list =np.arange(1,101,11)\n",
        "n_neighbors_list"
      ],
      "execution_count": 0,
      "outputs": [
        {
          "output_type": "execute_result",
          "data": {
            "text/plain": [
              "array([  1,  12,  23,  34,  45,  56,  67,  78,  89, 100])"
            ]
          },
          "metadata": {
            "tags": []
          },
          "execution_count": 74
        }
      ]
    },
    {
      "cell_type": "markdown",
      "metadata": {
        "id": "PxgYTDY1k8lG",
        "colab_type": "text"
      },
      "source": [
        ""
      ]
    },
    {
      "cell_type": "code",
      "metadata": {
        "id": "APlFC0ZrYLI-",
        "colab_type": "code",
        "colab": {}
      },
      "source": [
        "#train a KNeighborsClassifier with n_neighbors in n_neighbors_list\n",
        "#      using X_train_new, Y_train_new\n",
        "#inside a for loop: \n",
        "#   create a model with a n_neighbors in n_neighbors_list\n",
        "#   train the model on the training set\n",
        "#   record the accuracy on the training set into a list acc_train_list\n",
        "#   record the accuracy on the validation set into a list acc_val_list\n",
        "#this process is very time-consuming\n",
        "acc_train_list=[]\n",
        "acc_val_list=[]\n",
        "for each in n_neighbors_list:\n",
        "  knn = KNeighborsClassifier(n_neighbors=each)\n",
        "  knn.fit(X_train_new, Y_train_new)\n",
        " \n",
        "  Y_val_pred=knn.predict(X_val)\n",
        "  confusion_val=confusion_matrix(Y_val, Y_val_pred)\n",
        "  acc_val=weighted_accuracy(confusion_val)\n",
        "  acc_val_list.append(acc_val)\n",
        "\n",
        "  Y_train_pred=knn.predict(X_train)\n",
        "  confusion_train=confusion_matrix(Y_train, Y_train_pred)\n",
        "  acc_train=weighted_accuracy(confusion_train)\n",
        "  acc_train_list.append(acc_train)\n"
      ],
      "execution_count": 0,
      "outputs": []
    },
    {
      "cell_type": "code",
      "metadata": {
        "id": "ZWYcT4ECYLJD",
        "colab_type": "code",
        "outputId": "baa60c4b-95c2-43c7-c3fb-a20f342d17e4",
        "colab": {
          "base_uri": "https://localhost:8080/",
          "height": 405
        }
      },
      "source": [
        "#plot n_neighbors vs acc_train using n_neighbors_list and acc_train_list\n",
        "#plot n_neighbors vs acc_val using n_neighbors_list and acc_val_list\n",
        "fig, ax = plt.subplots(1,2, figsize=(10,6))\n",
        "ax[0].plot(n_neighbors_list, acc_train_list, 'b')\n",
        "ax[0].set_xlabel('n_neighbors')\n",
        "ax[0].set_ylabel('training accuracy')\n",
        "ax[0].set_title('n_neighbors v.s. training accuracy')\n",
        "ax[0].grid(True)\n",
        "ax[1].plot(n_neighbors_list, acc_val_list, 'r')\n",
        "ax[1].set_xlabel('neighbors')\n",
        "ax[1].set_ylabel('validation accuracy')\n",
        "ax[1].set_title('neighbors v.s. validation accuracy')\n",
        "ax[1].grid(True)"
      ],
      "execution_count": 0,
      "outputs": [
        {
          "output_type": "display_data",
          "data": {
            "image/png": "[encoded data removed]",
            "text/plain": [
              "<Figure size 720x432 with 2 Axes>"
            ]
          },
          "metadata": {
            "tags": []
          }
        }
      ]
    },
    {
      "cell_type": "markdown",
      "metadata": {
        "id": "InltTjP8YLJL",
        "colab_type": "text"
      },
      "source": [
        "The trainig accuracy of KNN keeps decreasing as n_neighbors increases. <br>\n",
        "The validation accuracy of KNN keeps increasing as n_neighbors increases. <br>\n",
        "To determine the optimal n_neighbors, we may need to consider validation accuracy and model complexity: <br>\n",
        "select a small n_neighbors with high validation accuracy <br>\n",
        "We could use the \"upside-down\" elbow method: <br>\n",
        "starting from the best n_neighbors, the validation accuracy curve starts to become flat."
      ]
    },
    {
      "cell_type": "code",
      "metadata": {
        "id": "RxyfV27JYLJM",
        "colab_type": "code",
        "colab": {}
      },
      "source": [
        "#find the best n_neighbors (good val_acc and small n_neighbors, it could be subjective)\n",
        "n_neighbors_best = 80"
      ],
      "execution_count": 0,
      "outputs": []
    },
    {
      "cell_type": "code",
      "metadata": {
        "id": "ryRGRivSYLJQ",
        "colab_type": "code",
        "outputId": "7d79772c-2289-4dce-9199-66c6fcb75928",
        "colab": {
          "base_uri": "https://localhost:8080/",
          "height": 34
        }
      },
      "source": [
        "#now, we use the best n_neighbors to build a KNeighborsClassifier\n",
        "#train it on the new training set and evaluate it on the testing set\n",
        "knn = KNeighborsClassifier(n_neighbors=n_neighbors_best)\n",
        "knn.fit(X_train_new, Y_train_new)\n",
        "Y_test_pred=knn.predict(X_test)\n",
        "confusion_test=confusion_matrix(Y_test, Y_test_pred)\n",
        "acc_test=weighted_accuracy(confusion_test)\n",
        "\n",
        "print('classification accuracy on test set is ', acc_test)"
      ],
      "execution_count": 0,
      "outputs": [
        {
          "output_type": "stream",
          "text": [
            "classification accuracy on test set is  0.6785549\n"
          ],
          "name": "stdout"
        }
      ]
    },
    {
      "cell_type": "markdown",
      "metadata": {
        "id": "EtdHdslQYLJU",
        "colab_type": "text"
      },
      "source": [
        "### How to perform grid search if we need to optimize more than one hyper-parameter ?\n",
        "write down your ideas"
      ]
    },
    {
      "cell_type": "code",
      "metadata": {
        "id": "HsDOAysnYLJX",
        "colab_type": "code",
        "colab": {}
      },
      "source": [
        "It will start from the first one of every list and end in the last one of every list\n",
        "e.g.\n",
        "a1 = [1,2,3,4]\n",
        "a2 = [10,20,30,40,50]\n",
        "a3 = [100,200,300,400,500,600]\n",
        "start combining [1,10,100] and end with [4,50,600]\n",
        "It will go through all the intermediate combinations betweem these two which makes grid search computationally very expensive."
      ],
      "execution_count": 0,
      "outputs": []
    }
  ]
}