{
 "cells": [
  {
   "cell_type": "markdown",
   "metadata": {},
   "source": [
    "# Regression using a Neural Network (Pytorch)\n",
    "The data is in 'housing.csv'. <br>\n",
    "Each row in the table is a data point:  the features of an area in California <br>\n",
    "Clearly, the `median_house_value` is correlated with some other features, e.g., `median_income` and location <br>\n",
    "Thus, we can estimate `median_house_value` = regression_model(`median_income`, `longitude`, `latitude`, ...) <br>\n",
    "The taks is to build an MLP regressor to predict `median_house_value` using the other features"
   ]
  },
  {
   "cell_type": "code",
   "execution_count": 1,
   "metadata": {
    "colab": {},
    "colab_type": "code",
    "id": "7FmGucnl4Uk8"
   },
   "outputs": [],
   "source": [
    "import numpy as np\n",
    "import pandas as pd\n",
    "import matplotlib.pyplot as plt"
   ]
  },
  {
   "cell_type": "code",
   "execution_count": 2,
   "metadata": {},
   "outputs": [
    {
     "data": {
      "text/html": [
       "<div>\n",
       "<style scoped>\n",
       "    .dataframe tbody tr th:only-of-type {\n",
       "        vertical-align: middle;\n",
       "    }\n",
       "\n",
       "    .dataframe tbody tr th {\n",
       "        vertical-align: top;\n",
       "    }\n",
       "\n",
       "    .dataframe thead th {\n",
       "        text-align: right;\n",
       "    }\n",
       "</style>\n",
       "<table border=\"1\" class=\"dataframe\">\n",
       "  <thead>\n",
       "    <tr style=\"text-align: right;\">\n",
       "      <th></th>\n",
       "      <th>longitude</th>\n",
       "      <th>latitude</th>\n",
       "      <th>housing_median_age</th>\n",
       "      <th>total_rooms</th>\n",
       "      <th>total_bedrooms</th>\n",
       "      <th>population</th>\n",
       "      <th>households</th>\n",
       "      <th>median_income</th>\n",
       "      <th>median_house_value</th>\n",
       "      <th>ocean_proximity</th>\n",
       "    </tr>\n",
       "  </thead>\n",
       "  <tbody>\n",
       "    <tr>\n",
       "      <th>0</th>\n",
       "      <td>-122.23</td>\n",
       "      <td>37.88</td>\n",
       "      <td>41.0</td>\n",
       "      <td>880.0</td>\n",
       "      <td>129.0</td>\n",
       "      <td>322.0</td>\n",
       "      <td>126.0</td>\n",
       "      <td>8.3252</td>\n",
       "      <td>452600.0</td>\n",
       "      <td>NEAR BAY</td>\n",
       "    </tr>\n",
       "    <tr>\n",
       "      <th>1</th>\n",
       "      <td>-122.22</td>\n",
       "      <td>37.86</td>\n",
       "      <td>21.0</td>\n",
       "      <td>7099.0</td>\n",
       "      <td>1106.0</td>\n",
       "      <td>2401.0</td>\n",
       "      <td>1138.0</td>\n",
       "      <td>8.3014</td>\n",
       "      <td>358500.0</td>\n",
       "      <td>NEAR BAY</td>\n",
       "    </tr>\n",
       "    <tr>\n",
       "      <th>2</th>\n",
       "      <td>-122.24</td>\n",
       "      <td>37.85</td>\n",
       "      <td>52.0</td>\n",
       "      <td>1467.0</td>\n",
       "      <td>190.0</td>\n",
       "      <td>496.0</td>\n",
       "      <td>177.0</td>\n",
       "      <td>7.2574</td>\n",
       "      <td>352100.0</td>\n",
       "      <td>NEAR BAY</td>\n",
       "    </tr>\n",
       "    <tr>\n",
       "      <th>3</th>\n",
       "      <td>-122.25</td>\n",
       "      <td>37.85</td>\n",
       "      <td>52.0</td>\n",
       "      <td>1274.0</td>\n",
       "      <td>235.0</td>\n",
       "      <td>558.0</td>\n",
       "      <td>219.0</td>\n",
       "      <td>5.6431</td>\n",
       "      <td>341300.0</td>\n",
       "      <td>NEAR BAY</td>\n",
       "    </tr>\n",
       "    <tr>\n",
       "      <th>4</th>\n",
       "      <td>-122.25</td>\n",
       "      <td>37.85</td>\n",
       "      <td>52.0</td>\n",
       "      <td>1627.0</td>\n",
       "      <td>280.0</td>\n",
       "      <td>565.0</td>\n",
       "      <td>259.0</td>\n",
       "      <td>3.8462</td>\n",
       "      <td>342200.0</td>\n",
       "      <td>NEAR BAY</td>\n",
       "    </tr>\n",
       "  </tbody>\n",
       "</table>\n",
       "</div>"
      ],
      "text/plain": [
       "   longitude  latitude  housing_median_age  total_rooms  total_bedrooms  \\\n",
       "0    -122.23     37.88                41.0        880.0           129.0   \n",
       "1    -122.22     37.86                21.0       7099.0          1106.0   \n",
       "2    -122.24     37.85                52.0       1467.0           190.0   \n",
       "3    -122.25     37.85                52.0       1274.0           235.0   \n",
       "4    -122.25     37.85                52.0       1627.0           280.0   \n",
       "\n",
       "   population  households  median_income  median_house_value ocean_proximity  \n",
       "0       322.0       126.0         8.3252            452600.0        NEAR BAY  \n",
       "1      2401.0      1138.0         8.3014            358500.0        NEAR BAY  \n",
       "2       496.0       177.0         7.2574            352100.0        NEAR BAY  \n",
       "3       558.0       219.0         5.6431            341300.0        NEAR BAY  \n",
       "4       565.0       259.0         3.8462            342200.0        NEAR BAY  "
      ]
     },
     "execution_count": 2,
     "metadata": {},
     "output_type": "execute_result"
    }
   ],
   "source": [
    "housing = pd.read_csv(\"housing.csv\")\n",
    "housing.head()"
   ]
  },
  {
   "cell_type": "code",
   "execution_count": 3,
   "metadata": {},
   "outputs": [
    {
     "data": {
      "text/plain": [
       "(20640, 10)"
      ]
     },
     "execution_count": 3,
     "metadata": {},
     "output_type": "execute_result"
    }
   ],
   "source": [
    "housing.shape"
   ]
  },
  {
   "cell_type": "markdown",
   "metadata": {},
   "source": [
    "### Data pre-processing: remove NaN"
   ]
  },
  {
   "cell_type": "code",
   "execution_count": 4,
   "metadata": {},
   "outputs": [
    {
     "data": {
      "text/plain": [
       "longitude               0\n",
       "latitude                0\n",
       "housing_median_age      0\n",
       "total_rooms             0\n",
       "total_bedrooms        207\n",
       "population              0\n",
       "households              0\n",
       "median_income           0\n",
       "median_house_value      0\n",
       "ocean_proximity         0\n",
       "dtype: int64"
      ]
     },
     "execution_count": 4,
     "metadata": {},
     "output_type": "execute_result"
    }
   ],
   "source": [
    "housing.isnull().sum()"
   ]
  },
  {
   "cell_type": "code",
   "execution_count": 5,
   "metadata": {},
   "outputs": [
    {
     "data": {
      "text/plain": [
       "longitude             0\n",
       "latitude              0\n",
       "housing_median_age    0\n",
       "total_rooms           0\n",
       "total_bedrooms        0\n",
       "population            0\n",
       "households            0\n",
       "median_income         0\n",
       "median_house_value    0\n",
       "ocean_proximity       0\n",
       "dtype: int64"
      ]
     },
     "execution_count": 5,
     "metadata": {},
     "output_type": "execute_result"
    }
   ],
   "source": [
    "# there are 207 NaN in the column 'total_bedrooms', remove them\n",
    "# check housing again using housing.isnull().sum()\n",
    "housing['total_bedrooms'].fillna((housing['total_bedrooms'].mean()), inplace=True)\n",
    "housing.isnull().sum()"
   ]
  },
  {
   "cell_type": "markdown",
   "metadata": {},
   "source": [
    "### Data pre-processing: Convert categorical data to numerical data - \"ocean_proximity\""
   ]
  },
  {
   "cell_type": "code",
   "execution_count": 6,
   "metadata": {
    "colab": {
     "base_uri": "https://localhost:8080/",
     "height": 130
    },
    "colab_type": "code",
    "id": "RXn7GRuM4vgm",
    "outputId": "ebd6f495-12a9-4b2f-8dca-ce694cc5696a",
    "scrolled": true
   },
   "outputs": [
    {
     "data": {
      "text/plain": [
       "<1H OCEAN     9136\n",
       "INLAND        6551\n",
       "NEAR OCEAN    2658\n",
       "NEAR BAY      2290\n",
       "ISLAND           5\n",
       "Name: ocean_proximity, dtype: int64"
      ]
     },
     "execution_count": 6,
     "metadata": {},
     "output_type": "execute_result"
    }
   ],
   "source": [
    "housing[\"ocean_proximity\"].value_counts()"
   ]
  },
  {
   "cell_type": "code",
   "execution_count": 7,
   "metadata": {},
   "outputs": [
    {
     "data": {
      "text/html": [
       "<div>\n",
       "<style scoped>\n",
       "    .dataframe tbody tr th:only-of-type {\n",
       "        vertical-align: middle;\n",
       "    }\n",
       "\n",
       "    .dataframe tbody tr th {\n",
       "        vertical-align: top;\n",
       "    }\n",
       "\n",
       "    .dataframe thead th {\n",
       "        text-align: right;\n",
       "    }\n",
       "</style>\n",
       "<table border=\"1\" class=\"dataframe\">\n",
       "  <thead>\n",
       "    <tr style=\"text-align: right;\">\n",
       "      <th></th>\n",
       "      <th>longitude</th>\n",
       "      <th>latitude</th>\n",
       "      <th>housing_median_age</th>\n",
       "      <th>total_rooms</th>\n",
       "      <th>total_bedrooms</th>\n",
       "      <th>population</th>\n",
       "      <th>households</th>\n",
       "      <th>median_income</th>\n",
       "      <th>median_house_value</th>\n",
       "      <th>ocean_proximity_&lt;1H OCEAN</th>\n",
       "      <th>ocean_proximity_INLAND</th>\n",
       "      <th>ocean_proximity_ISLAND</th>\n",
       "      <th>ocean_proximity_NEAR BAY</th>\n",
       "      <th>ocean_proximity_NEAR OCEAN</th>\n",
       "    </tr>\n",
       "  </thead>\n",
       "  <tbody>\n",
       "    <tr>\n",
       "      <th>0</th>\n",
       "      <td>-122.23</td>\n",
       "      <td>37.88</td>\n",
       "      <td>41.0</td>\n",
       "      <td>880.0</td>\n",
       "      <td>129.0</td>\n",
       "      <td>322.0</td>\n",
       "      <td>126.0</td>\n",
       "      <td>8.3252</td>\n",
       "      <td>452600.0</td>\n",
       "      <td>0</td>\n",
       "      <td>0</td>\n",
       "      <td>0</td>\n",
       "      <td>1</td>\n",
       "      <td>0</td>\n",
       "    </tr>\n",
       "    <tr>\n",
       "      <th>1</th>\n",
       "      <td>-122.22</td>\n",
       "      <td>37.86</td>\n",
       "      <td>21.0</td>\n",
       "      <td>7099.0</td>\n",
       "      <td>1106.0</td>\n",
       "      <td>2401.0</td>\n",
       "      <td>1138.0</td>\n",
       "      <td>8.3014</td>\n",
       "      <td>358500.0</td>\n",
       "      <td>0</td>\n",
       "      <td>0</td>\n",
       "      <td>0</td>\n",
       "      <td>1</td>\n",
       "      <td>0</td>\n",
       "    </tr>\n",
       "    <tr>\n",
       "      <th>2</th>\n",
       "      <td>-122.24</td>\n",
       "      <td>37.85</td>\n",
       "      <td>52.0</td>\n",
       "      <td>1467.0</td>\n",
       "      <td>190.0</td>\n",
       "      <td>496.0</td>\n",
       "      <td>177.0</td>\n",
       "      <td>7.2574</td>\n",
       "      <td>352100.0</td>\n",
       "      <td>0</td>\n",
       "      <td>0</td>\n",
       "      <td>0</td>\n",
       "      <td>1</td>\n",
       "      <td>0</td>\n",
       "    </tr>\n",
       "    <tr>\n",
       "      <th>3</th>\n",
       "      <td>-122.25</td>\n",
       "      <td>37.85</td>\n",
       "      <td>52.0</td>\n",
       "      <td>1274.0</td>\n",
       "      <td>235.0</td>\n",
       "      <td>558.0</td>\n",
       "      <td>219.0</td>\n",
       "      <td>5.6431</td>\n",
       "      <td>341300.0</td>\n",
       "      <td>0</td>\n",
       "      <td>0</td>\n",
       "      <td>0</td>\n",
       "      <td>1</td>\n",
       "      <td>0</td>\n",
       "    </tr>\n",
       "    <tr>\n",
       "      <th>4</th>\n",
       "      <td>-122.25</td>\n",
       "      <td>37.85</td>\n",
       "      <td>52.0</td>\n",
       "      <td>1627.0</td>\n",
       "      <td>280.0</td>\n",
       "      <td>565.0</td>\n",
       "      <td>259.0</td>\n",
       "      <td>3.8462</td>\n",
       "      <td>342200.0</td>\n",
       "      <td>0</td>\n",
       "      <td>0</td>\n",
       "      <td>0</td>\n",
       "      <td>1</td>\n",
       "      <td>0</td>\n",
       "    </tr>\n",
       "  </tbody>\n",
       "</table>\n",
       "</div>"
      ],
      "text/plain": [
       "   longitude  latitude  housing_median_age  total_rooms  total_bedrooms  \\\n",
       "0    -122.23     37.88                41.0        880.0           129.0   \n",
       "1    -122.22     37.86                21.0       7099.0          1106.0   \n",
       "2    -122.24     37.85                52.0       1467.0           190.0   \n",
       "3    -122.25     37.85                52.0       1274.0           235.0   \n",
       "4    -122.25     37.85                52.0       1627.0           280.0   \n",
       "\n",
       "   population  households  median_income  median_house_value  \\\n",
       "0       322.0       126.0         8.3252            452600.0   \n",
       "1      2401.0      1138.0         8.3014            358500.0   \n",
       "2       496.0       177.0         7.2574            352100.0   \n",
       "3       558.0       219.0         5.6431            341300.0   \n",
       "4       565.0       259.0         3.8462            342200.0   \n",
       "\n",
       "   ocean_proximity_<1H OCEAN  ocean_proximity_INLAND  ocean_proximity_ISLAND  \\\n",
       "0                          0                       0                       0   \n",
       "1                          0                       0                       0   \n",
       "2                          0                       0                       0   \n",
       "3                          0                       0                       0   \n",
       "4                          0                       0                       0   \n",
       "\n",
       "   ocean_proximity_NEAR BAY  ocean_proximity_NEAR OCEAN  \n",
       "0                         1                           0  \n",
       "1                         1                           0  \n",
       "2                         1                           0  \n",
       "3                         1                           0  \n",
       "4                         1                           0  "
      ]
     },
     "execution_count": 7,
     "metadata": {},
     "output_type": "execute_result"
    }
   ],
   "source": [
    "#We can use one-hot encoding method by calling pd.get_dummies\n",
    "categorical_columns=['ocean_proximity'] # must be a list\n",
    "housing = pd.get_dummies(housing, columns=categorical_columns)\n",
    "housing.head()"
   ]
  },
  {
   "cell_type": "markdown",
   "metadata": {},
   "source": [
    "### Visualize the data"
   ]
  },
  {
   "cell_type": "code",
   "execution_count": 8,
   "metadata": {},
   "outputs": [
    {
     "data": {
      "text/plain": [
       "Text(0.5, 1.0, 'median_income')"
      ]
     },
     "execution_count": 8,
     "metadata": {},
     "output_type": "execute_result"
    },
    {
     "data": {
      "image/png": "[encoded data removed]",
      "text/plain": [
       "<Figure size 720x504 with 4 Axes>"
      ]
     },
     "metadata": {
      "needs_background": "light"
     },
     "output_type": "display_data"
    }
   ],
   "source": [
    "from skimage.io import imread\n",
    "california_img = imread('california.png')\n",
    "x1 = min(housing[\"longitude\"].values)\n",
    "x2 = max(housing[\"longitude\"].values)\n",
    "y1 = min(housing[\"latitude\"].values)\n",
    "y2 = max(housing[\"latitude\"].values)\n",
    "#---------------------------------------------\n",
    "# the parameter c refers to color\n",
    "# thus, median_house_value is color-coded in the left plot\n",
    "fig, ax =plt.subplots(1,2)\n",
    "housing.plot(ax=ax[0], kind=\"scatter\", x=\"longitude\", y=\"latitude\",\n",
    "             s=housing['population']/100, label=\"population\",\n",
    "             c=\"median_house_value\", cmap=plt.get_cmap(\"jet\"),\n",
    "             colorbar=True, alpha=0.4, figsize=(10,7))\n",
    "#---------------------------------------------\n",
    "# the parameter c refers to color\n",
    "# thus, median_income is color-coded in the right plot\n",
    "ax[0].imshow(california_img,extent=[x1,x2,y1,y2])\n",
    "ax[0].set_title('median_house_value')\n",
    "housing.plot(ax=ax[1], kind=\"scatter\", x=\"longitude\", y=\"latitude\",\n",
    "             s=housing['population']/100, label=\"population\",\n",
    "             c=\"median_income\", cmap=plt.get_cmap(\"jet\"),\n",
    "             colorbar=True, alpha=0.4, figsize=(10,7))\n",
    "ax[1].imshow(california_img,extent=[x1,x2,y1,y2])\n",
    "ax[1].set_title('median_income')"
   ]
  },
  {
   "cell_type": "markdown",
   "metadata": {},
   "source": [
    "### Prepare the Training and Testing Datasets"
   ]
  },
  {
   "cell_type": "code",
   "execution_count": 9,
   "metadata": {},
   "outputs": [
    {
     "data": {
      "text/html": [
       "<div>\n",
       "<style scoped>\n",
       "    .dataframe tbody tr th:only-of-type {\n",
       "        vertical-align: middle;\n",
       "    }\n",
       "\n",
       "    .dataframe tbody tr th {\n",
       "        vertical-align: top;\n",
       "    }\n",
       "\n",
       "    .dataframe thead th {\n",
       "        text-align: right;\n",
       "    }\n",
       "</style>\n",
       "<table border=\"1\" class=\"dataframe\">\n",
       "  <thead>\n",
       "    <tr style=\"text-align: right;\">\n",
       "      <th></th>\n",
       "      <th>longitude</th>\n",
       "      <th>latitude</th>\n",
       "      <th>housing_median_age</th>\n",
       "      <th>total_rooms</th>\n",
       "      <th>total_bedrooms</th>\n",
       "      <th>population</th>\n",
       "      <th>households</th>\n",
       "      <th>median_income</th>\n",
       "      <th>ocean_proximity_&lt;1H OCEAN</th>\n",
       "      <th>ocean_proximity_INLAND</th>\n",
       "      <th>ocean_proximity_ISLAND</th>\n",
       "      <th>ocean_proximity_NEAR BAY</th>\n",
       "      <th>ocean_proximity_NEAR OCEAN</th>\n",
       "    </tr>\n",
       "  </thead>\n",
       "  <tbody>\n",
       "    <tr>\n",
       "      <th>0</th>\n",
       "      <td>-122.23</td>\n",
       "      <td>37.88</td>\n",
       "      <td>41.0</td>\n",
       "      <td>880.0</td>\n",
       "      <td>129.0</td>\n",
       "      <td>322.0</td>\n",
       "      <td>126.0</td>\n",
       "      <td>8.3252</td>\n",
       "      <td>0</td>\n",
       "      <td>0</td>\n",
       "      <td>0</td>\n",
       "      <td>1</td>\n",
       "      <td>0</td>\n",
       "    </tr>\n",
       "    <tr>\n",
       "      <th>1</th>\n",
       "      <td>-122.22</td>\n",
       "      <td>37.86</td>\n",
       "      <td>21.0</td>\n",
       "      <td>7099.0</td>\n",
       "      <td>1106.0</td>\n",
       "      <td>2401.0</td>\n",
       "      <td>1138.0</td>\n",
       "      <td>8.3014</td>\n",
       "      <td>0</td>\n",
       "      <td>0</td>\n",
       "      <td>0</td>\n",
       "      <td>1</td>\n",
       "      <td>0</td>\n",
       "    </tr>\n",
       "    <tr>\n",
       "      <th>2</th>\n",
       "      <td>-122.24</td>\n",
       "      <td>37.85</td>\n",
       "      <td>52.0</td>\n",
       "      <td>1467.0</td>\n",
       "      <td>190.0</td>\n",
       "      <td>496.0</td>\n",
       "      <td>177.0</td>\n",
       "      <td>7.2574</td>\n",
       "      <td>0</td>\n",
       "      <td>0</td>\n",
       "      <td>0</td>\n",
       "      <td>1</td>\n",
       "      <td>0</td>\n",
       "    </tr>\n",
       "    <tr>\n",
       "      <th>3</th>\n",
       "      <td>-122.25</td>\n",
       "      <td>37.85</td>\n",
       "      <td>52.0</td>\n",
       "      <td>1274.0</td>\n",
       "      <td>235.0</td>\n",
       "      <td>558.0</td>\n",
       "      <td>219.0</td>\n",
       "      <td>5.6431</td>\n",
       "      <td>0</td>\n",
       "      <td>0</td>\n",
       "      <td>0</td>\n",
       "      <td>1</td>\n",
       "      <td>0</td>\n",
       "    </tr>\n",
       "    <tr>\n",
       "      <th>4</th>\n",
       "      <td>-122.25</td>\n",
       "      <td>37.85</td>\n",
       "      <td>52.0</td>\n",
       "      <td>1627.0</td>\n",
       "      <td>280.0</td>\n",
       "      <td>565.0</td>\n",
       "      <td>259.0</td>\n",
       "      <td>3.8462</td>\n",
       "      <td>0</td>\n",
       "      <td>0</td>\n",
       "      <td>0</td>\n",
       "      <td>1</td>\n",
       "      <td>0</td>\n",
       "    </tr>\n",
       "  </tbody>\n",
       "</table>\n",
       "</div>"
      ],
      "text/plain": [
       "   longitude  latitude  housing_median_age  total_rooms  total_bedrooms  \\\n",
       "0    -122.23     37.88                41.0        880.0           129.0   \n",
       "1    -122.22     37.86                21.0       7099.0          1106.0   \n",
       "2    -122.24     37.85                52.0       1467.0           190.0   \n",
       "3    -122.25     37.85                52.0       1274.0           235.0   \n",
       "4    -122.25     37.85                52.0       1627.0           280.0   \n",
       "\n",
       "   population  households  median_income  ocean_proximity_<1H OCEAN  \\\n",
       "0       322.0       126.0         8.3252                          0   \n",
       "1      2401.0      1138.0         8.3014                          0   \n",
       "2       496.0       177.0         7.2574                          0   \n",
       "3       558.0       219.0         5.6431                          0   \n",
       "4       565.0       259.0         3.8462                          0   \n",
       "\n",
       "   ocean_proximity_INLAND  ocean_proximity_ISLAND  ocean_proximity_NEAR BAY  \\\n",
       "0                       0                       0                         1   \n",
       "1                       0                       0                         1   \n",
       "2                       0                       0                         1   \n",
       "3                       0                       0                         1   \n",
       "4                       0                       0                         1   \n",
       "\n",
       "   ocean_proximity_NEAR OCEAN  \n",
       "0                           0  \n",
       "1                           0  \n",
       "2                           0  \n",
       "3                           0  \n",
       "4                           0  "
      ]
     },
     "execution_count": 9,
     "metadata": {},
     "output_type": "execute_result"
    }
   ],
   "source": [
    "X=housing.drop(['median_house_value'], axis=1)\n",
    "X.head()"
   ]
  },
  {
   "cell_type": "code",
   "execution_count": 10,
   "metadata": {},
   "outputs": [
    {
     "data": {
      "text/plain": [
       "0    452600.0\n",
       "1    358500.0\n",
       "2    352100.0\n",
       "3    341300.0\n",
       "4    342200.0\n",
       "Name: median_house_value, dtype: float64"
      ]
     },
     "execution_count": 10,
     "metadata": {},
     "output_type": "execute_result"
    }
   ],
   "source": [
    "Y=housing['median_house_value']\n",
    "Y.head()"
   ]
  },
  {
   "cell_type": "code",
   "execution_count": 11,
   "metadata": {},
   "outputs": [],
   "source": [
    "# convert pandas dataframe/series to numpy array\n",
    "# sklearn functions may not work well with pandas data types\n",
    "X_columns=X.columns #store the column names\n",
    "X=X.values.astype('float32')\n",
    "Y=Y.values.astype('float32')"
   ]
  },
  {
   "cell_type": "markdown",
   "metadata": {},
   "source": [
    "### trainnig, validation, testing split"
   ]
  },
  {
   "cell_type": "code",
   "execution_count": 12,
   "metadata": {},
   "outputs": [
    {
     "name": "stdout",
     "output_type": "stream",
     "text": [
      "train: (14860, 13) (14860,)\n",
      "validation: (1652, 13) (1652,)\n",
      "test: (4128, 13) (4128,)\n"
     ]
    }
   ],
   "source": [
    "#trainnig, validation, testing split\n",
    "from sklearn.model_selection import train_test_split\n",
    "X_train, X_test, Y_train, Y_test = train_test_split(X, Y, test_size=0.2, random_state=0)\n",
    "#split X_train and Y_train into a 'pure' training set and a validation set\n",
    "X_train, X_val, Y_train, Y_val = train_test_split(X_train, Y_train, test_size=0.1, random_state=0)\n",
    "print('train:', X_train.shape, Y_train.shape)\n",
    "print('validation:', X_val.shape, Y_val.shape)\n",
    "print('test:', X_test.shape, Y_test.shape)"
   ]
  },
  {
   "cell_type": "code",
   "execution_count": 13,
   "metadata": {},
   "outputs": [],
   "source": [
    "#apply feature normalization to training, validation and test sets\n",
    "from sklearn.preprocessing import MinMaxScaler\n",
    "scalerX=MinMaxScaler()\n",
    "scalerX.fit(X_train) # think about why fit to X_train, not X ?\n",
    "X_train=scalerX.transform(X_train)\n",
    "X_val=scalerX.transform(X_val)\n",
    "X_test=scalerX.transform(X_test)"
   ]
  },
  {
   "cell_type": "code",
   "execution_count": 14,
   "metadata": {},
   "outputs": [
    {
     "data": {
      "text/plain": [
       "array([0.5786848 , 0.38044596, 0.19607843, 0.12570114, 0.13671634,\n",
       "       0.00983827, 0.02795593, 0.11055019, 0.        , 1.        ,\n",
       "       0.        , 0.        , 0.        ], dtype=float32)"
      ]
     },
     "execution_count": 14,
     "metadata": {},
     "output_type": "execute_result"
    }
   ],
   "source": [
    "X_train[0]"
   ]
  },
  {
   "cell_type": "code",
   "execution_count": 15,
   "metadata": {},
   "outputs": [],
   "source": [
    "#normalize the output to facilitate convergence\n",
    "Y_train_max=Y_train.max()\n",
    "Y_train/=Y_train_max\n",
    "Y_val/=Y_train_max\n",
    "Y_test/=Y_train_max"
   ]
  },
  {
   "cell_type": "markdown",
   "metadata": {},
   "source": [
    "### use LinearRegression as the baseline model"
   ]
  },
  {
   "cell_type": "code",
   "execution_count": 16,
   "metadata": {},
   "outputs": [],
   "source": [
    "#step1:\n",
    "from sklearn.linear_model import LinearRegression\n",
    "linear_model = LinearRegression(fit_intercept=True)"
   ]
  },
  {
   "cell_type": "code",
   "execution_count": 17,
   "metadata": {},
   "outputs": [
    {
     "data": {
      "text/plain": [
       "LinearRegression(copy_X=True, fit_intercept=True, n_jobs=None, normalize=False)"
      ]
     },
     "execution_count": 17,
     "metadata": {},
     "output_type": "execute_result"
    }
   ],
   "source": [
    "#step2:\n",
    "linear_model.fit(X_train, Y_train)"
   ]
  },
  {
   "cell_type": "code",
   "execution_count": 18,
   "metadata": {},
   "outputs": [
    {
     "data": {
      "text/plain": [
       "array([-0.5266741 , -0.4705749 ,  0.11070045, -0.3135651 ,  0.8725228 ,\n",
       "       -2.8026843 ,  1.0090177 ,  1.1304917 , -0.0472502 , -0.12498075,\n",
       "        0.26538283, -0.05612995, -0.03702515], dtype=float32)"
      ]
     },
     "execution_count": 18,
     "metadata": {},
     "output_type": "execute_result"
    }
   ],
   "source": [
    "linear_model.coef_"
   ]
  },
  {
   "cell_type": "code",
   "execution_count": 19,
   "metadata": {},
   "outputs": [
    {
     "data": {
      "text/plain": [
       "0.5496528"
      ]
     },
     "execution_count": 19,
     "metadata": {},
     "output_type": "execute_result"
    }
   ],
   "source": [
    "linear_model.intercept_"
   ]
  },
  {
   "cell_type": "code",
   "execution_count": 20,
   "metadata": {
    "scrolled": false
   },
   "outputs": [
    {
     "name": "stdout",
     "output_type": "stream",
     "text": [
      "Evaluate model on testing set\n",
      "MSE= 0.018863905\n",
      "MAE= 0.0993118\n",
      "MAPE= 0.28951424\n"
     ]
    },
    {
     "data": {
      "text/plain": [
       "Text(0, 0.5, 'Y_test_pred')"
      ]
     },
     "execution_count": 20,
     "metadata": {},
     "output_type": "execute_result"
    },
    {
     "data": {
      "image/png": "[encoded data removed]",
      "text/plain": [
       "<Figure size 432x288 with 1 Axes>"
      ]
     },
     "metadata": {
      "needs_background": "light"
     },
     "output_type": "display_data"
    }
   ],
   "source": [
    "#step3:\n",
    "Y_train_pred = linear_model.predict(X_train)\n",
    "Y_test_pred = linear_model.predict(X_test)\n",
    "print('Evaluate model on testing set')\n",
    "MSE = np.mean((Y_test - Y_test_pred)**2)\n",
    "MAE = np.mean(np.abs(Y_test - Y_test_pred))\n",
    "MAPE =  np.mean(np.abs(Y_test - Y_test_pred)/Y_test)\n",
    "print('MSE=', MSE)\n",
    "print('MAE=', MAE)\n",
    "print('MAPE=', MAPE)\n",
    "#step6: \n",
    "# the red line is the 45-degree line\n",
    "fig, ax = plt.subplots()\n",
    "ax.set_title('Y_test_pred vs Y_test')\n",
    "ax.plot(Y_test, Y_test_pred, '.')\n",
    "ymax=np.max([Y_test.max(), Y_test_pred.max()])\n",
    "ax.plot(np.linspace(0,ymax, 3), np.linspace(0, ymax, 3), '-r')\n",
    "ax.set_xlabel('Y_test')\n",
    "ax.set_ylabel('Y_test_pred')"
   ]
  },
  {
   "cell_type": "markdown",
   "metadata": {},
   "source": [
    "## Your work begins here\n",
    "see NN_nonlinear_regression_Pytorch.ipynb"
   ]
  },
  {
   "cell_type": "markdown",
   "metadata": {},
   "source": [
    "#### define a dataset to hold/represent the data"
   ]
  },
  {
   "cell_type": "code",
   "execution_count": 22,
   "metadata": {},
   "outputs": [],
   "source": [
    "#I give you the code here, because it is tricky\n",
    "import torch\n",
    "from torch.utils.data import Dataset as torch_dataset\n",
    "class MyDataset(torch_dataset):\n",
    "    def __init__(self, X, Y):\n",
    "        self.X=X\n",
    "        self.Y=Y.reshape(-1, 1) #this is very important\n",
    "    def __len__(self):\n",
    "        #return the number of data points\n",
    "        return self.X.shape[0]\n",
    "    def __getitem__(self, idx):        \n",
    "        # use the notation DatasetName[idx]\n",
    "        # to get a data point (x,y) by idx\n",
    "        # we need to convert numpy array to torch tensor\n",
    "        x=torch.tensor(self.X[idx], dtype=torch.float32)\n",
    "        y=torch.tensor(self.Y[idx], dtype=torch.float32)\n",
    "        return x, y"
   ]
  },
  {
   "cell_type": "markdown",
   "metadata": {},
   "source": [
    "Create instance objects of the `MyDataset` class <br>\n",
    "a training dataset `dataset_train` <br>\n",
    "a validation dataset `dataset_val` <br>\n",
    "a testing dataset `dataset_test` <br>"
   ]
  },
  {
   "cell_type": "code",
   "execution_count": 23,
   "metadata": {},
   "outputs": [],
   "source": []
  },
  {
   "cell_type": "code",
   "execution_count": 24,
   "metadata": {},
   "outputs": [
    {
     "data": {
      "text/plain": [
       "14860"
      ]
     },
     "execution_count": 24,
     "metadata": {},
     "output_type": "execute_result"
    }
   ],
   "source": [
    "len(dataset_train) # get the number of data points in the training set"
   ]
  },
  {
   "cell_type": "markdown",
   "metadata": {},
   "source": [
    "create dataloaders which will be used to generate minibatches <br>\n",
    "batch_size=N means each minibatch contains N data points  <br>\n",
    "note: the last minibatch may contain less than N data points"
   ]
  },
  {
   "cell_type": "code",
   "execution_count": 25,
   "metadata": {},
   "outputs": [],
   "source": []
  },
  {
   "cell_type": "code",
   "execution_count": 26,
   "metadata": {},
   "outputs": [
    {
     "data": {
      "text/plain": [
       "117"
      ]
     },
     "execution_count": 26,
     "metadata": {},
     "output_type": "execute_result"
    }
   ],
   "source": [
    "len(dataloader_train) # get the number of minibatches"
   ]
  },
  {
   "cell_type": "code",
   "execution_count": 27,
   "metadata": {},
   "outputs": [
    {
     "name": "stdout",
     "output_type": "stream",
     "text": [
      "0 torch.Size([128, 13]) torch.Size([128, 1])\n",
      "1 torch.Size([128, 13]) torch.Size([128, 1])\n",
      "2 torch.Size([128, 13]) torch.Size([128, 1])\n",
      "3 torch.Size([128, 13]) torch.Size([128, 1])\n",
      "4 torch.Size([128, 13]) torch.Size([128, 1])\n",
      "5 torch.Size([128, 13]) torch.Size([128, 1])\n",
      "6 torch.Size([128, 13]) torch.Size([128, 1])\n",
      "7 torch.Size([128, 13]) torch.Size([128, 1])\n",
      "8 torch.Size([128, 13]) torch.Size([128, 1])\n",
      "9 torch.Size([128, 13]) torch.Size([128, 1])\n",
      "10 torch.Size([128, 13]) torch.Size([128, 1])\n",
      "11 torch.Size([128, 13]) torch.Size([128, 1])\n",
      "12 torch.Size([128, 13]) torch.Size([128, 1])\n",
      "13 torch.Size([128, 13]) torch.Size([128, 1])\n",
      "14 torch.Size([128, 13]) torch.Size([128, 1])\n",
      "15 torch.Size([128, 13]) torch.Size([128, 1])\n",
      "16 torch.Size([128, 13]) torch.Size([128, 1])\n",
      "17 torch.Size([128, 13]) torch.Size([128, 1])\n",
      "18 torch.Size([128, 13]) torch.Size([128, 1])\n",
      "19 torch.Size([128, 13]) torch.Size([128, 1])\n",
      "20 torch.Size([128, 13]) torch.Size([128, 1])\n",
      "21 torch.Size([128, 13]) torch.Size([128, 1])\n",
      "22 torch.Size([128, 13]) torch.Size([128, 1])\n",
      "23 torch.Size([128, 13]) torch.Size([128, 1])\n",
      "24 torch.Size([128, 13]) torch.Size([128, 1])\n",
      "25 torch.Size([128, 13]) torch.Size([128, 1])\n",
      "26 torch.Size([128, 13]) torch.Size([128, 1])\n",
      "27 torch.Size([128, 13]) torch.Size([128, 1])\n",
      "28 torch.Size([128, 13]) torch.Size([128, 1])\n",
      "29 torch.Size([128, 13]) torch.Size([128, 1])\n",
      "30 torch.Size([128, 13]) torch.Size([128, 1])\n",
      "31 torch.Size([128, 13]) torch.Size([128, 1])\n",
      "32 torch.Size([128, 13]) torch.Size([128, 1])\n",
      "33 torch.Size([128, 13]) torch.Size([128, 1])\n",
      "34 torch.Size([128, 13]) torch.Size([128, 1])\n",
      "35 torch.Size([128, 13]) torch.Size([128, 1])\n",
      "36 torch.Size([128, 13]) torch.Size([128, 1])\n",
      "37 torch.Size([128, 13]) torch.Size([128, 1])\n",
      "38 torch.Size([128, 13]) torch.Size([128, 1])\n",
      "39 torch.Size([128, 13]) torch.Size([128, 1])\n",
      "40 torch.Size([128, 13]) torch.Size([128, 1])\n",
      "41 torch.Size([128, 13]) torch.Size([128, 1])\n",
      "42 torch.Size([128, 13]) torch.Size([128, 1])\n",
      "43 torch.Size([128, 13]) torch.Size([128, 1])\n",
      "44 torch.Size([128, 13]) torch.Size([128, 1])\n",
      "45 torch.Size([128, 13]) torch.Size([128, 1])\n",
      "46 torch.Size([128, 13]) torch.Size([128, 1])\n",
      "47 torch.Size([128, 13]) torch.Size([128, 1])\n",
      "48 torch.Size([128, 13]) torch.Size([128, 1])\n",
      "49 torch.Size([128, 13]) torch.Size([128, 1])\n",
      "50 torch.Size([128, 13]) torch.Size([128, 1])\n",
      "51 torch.Size([128, 13]) torch.Size([128, 1])\n",
      "52 torch.Size([128, 13]) torch.Size([128, 1])\n",
      "53 torch.Size([128, 13]) torch.Size([128, 1])\n",
      "54 torch.Size([128, 13]) torch.Size([128, 1])\n",
      "55 torch.Size([128, 13]) torch.Size([128, 1])\n",
      "56 torch.Size([128, 13]) torch.Size([128, 1])\n",
      "57 torch.Size([128, 13]) torch.Size([128, 1])\n",
      "58 torch.Size([128, 13]) torch.Size([128, 1])\n",
      "59 torch.Size([128, 13]) torch.Size([128, 1])\n",
      "60 torch.Size([128, 13]) torch.Size([128, 1])\n",
      "61 torch.Size([128, 13]) torch.Size([128, 1])\n",
      "62 torch.Size([128, 13]) torch.Size([128, 1])\n",
      "63 torch.Size([128, 13]) torch.Size([128, 1])\n",
      "64 torch.Size([128, 13]) torch.Size([128, 1])\n",
      "65 torch.Size([128, 13]) torch.Size([128, 1])\n",
      "66 torch.Size([128, 13]) torch.Size([128, 1])\n",
      "67 torch.Size([128, 13]) torch.Size([128, 1])\n",
      "68 torch.Size([128, 13]) torch.Size([128, 1])\n",
      "69 torch.Size([128, 13]) torch.Size([128, 1])\n",
      "70 torch.Size([128, 13]) torch.Size([128, 1])\n",
      "71 torch.Size([128, 13]) torch.Size([128, 1])\n",
      "72 torch.Size([128, 13]) torch.Size([128, 1])\n",
      "73 torch.Size([128, 13]) torch.Size([128, 1])\n",
      "74 torch.Size([128, 13]) torch.Size([128, 1])\n",
      "75 torch.Size([128, 13]) torch.Size([128, 1])\n",
      "76 torch.Size([128, 13]) torch.Size([128, 1])\n",
      "77 torch.Size([128, 13]) torch.Size([128, 1])\n",
      "78 torch.Size([128, 13]) torch.Size([128, 1])\n",
      "79 torch.Size([128, 13]) torch.Size([128, 1])\n",
      "80 torch.Size([128, 13]) torch.Size([128, 1])\n",
      "81 torch.Size([128, 13]) torch.Size([128, 1])\n",
      "82 torch.Size([128, 13]) torch.Size([128, 1])\n",
      "83 torch.Size([128, 13]) torch.Size([128, 1])\n",
      "84 torch.Size([128, 13]) torch.Size([128, 1])\n",
      "85 torch.Size([128, 13]) torch.Size([128, 1])\n",
      "86 torch.Size([128, 13]) torch.Size([128, 1])\n",
      "87 torch.Size([128, 13]) torch.Size([128, 1])\n",
      "88 torch.Size([128, 13]) torch.Size([128, 1])\n",
      "89 torch.Size([128, 13]) torch.Size([128, 1])\n",
      "90 torch.Size([128, 13]) torch.Size([128, 1])\n",
      "91 torch.Size([128, 13]) torch.Size([128, 1])\n",
      "92 torch.Size([128, 13]) torch.Size([128, 1])\n",
      "93 torch.Size([128, 13]) torch.Size([128, 1])\n",
      "94 torch.Size([128, 13]) torch.Size([128, 1])\n",
      "95 torch.Size([128, 13]) torch.Size([128, 1])\n",
      "96 torch.Size([128, 13]) torch.Size([128, 1])\n",
      "97 torch.Size([128, 13]) torch.Size([128, 1])\n",
      "98 torch.Size([128, 13]) torch.Size([128, 1])\n",
      "99 torch.Size([128, 13]) torch.Size([128, 1])\n",
      "100 torch.Size([128, 13]) torch.Size([128, 1])\n",
      "101 torch.Size([128, 13]) torch.Size([128, 1])\n",
      "102 torch.Size([128, 13]) torch.Size([128, 1])\n",
      "103 torch.Size([128, 13]) torch.Size([128, 1])\n",
      "104 torch.Size([128, 13]) torch.Size([128, 1])\n",
      "105 torch.Size([128, 13]) torch.Size([128, 1])\n",
      "106 torch.Size([128, 13]) torch.Size([128, 1])\n",
      "107 torch.Size([128, 13]) torch.Size([128, 1])\n",
      "108 torch.Size([128, 13]) torch.Size([128, 1])\n",
      "109 torch.Size([128, 13]) torch.Size([128, 1])\n",
      "110 torch.Size([128, 13]) torch.Size([128, 1])\n",
      "111 torch.Size([128, 13]) torch.Size([128, 1])\n",
      "112 torch.Size([128, 13]) torch.Size([128, 1])\n",
      "113 torch.Size([128, 13]) torch.Size([128, 1])\n",
      "114 torch.Size([128, 13]) torch.Size([128, 1])\n",
      "115 torch.Size([128, 13]) torch.Size([128, 1])\n",
      "116 torch.Size([12, 13]) torch.Size([12, 1])\n"
     ]
    }
   ],
   "source": [
    "#verify the shape of each tensor in a batch\n",
    "for batch_idx, (X, Y) in enumerate(dataloader_train):\n",
    "    print(batch_idx, X.size(), Y.size())"
   ]
  },
  {
   "cell_type": "markdown",
   "metadata": {},
   "source": [
    "#### Now, let's build a neural network that has many hidden layers and nonlinear activation - softplus"
   ]
  },
  {
   "cell_type": "code",
   "execution_count": 28,
   "metadata": {},
   "outputs": [],
   "source": []
  },
  {
   "cell_type": "markdown",
   "metadata": {},
   "source": [
    "create an instance object of the class"
   ]
  },
  {
   "cell_type": "code",
   "execution_count": 29,
   "metadata": {},
   "outputs": [],
   "source": []
  },
  {
   "cell_type": "code",
   "execution_count": 30,
   "metadata": {},
   "outputs": [
    {
     "data": {
      "text/plain": [
       "Net(\n",
       "  (layer1): Linear(in_features=13, out_features=128, bias=True)\n",
       "  (layer2): Linear(in_features=128, out_features=128, bias=True)\n",
       "  (layer3): Linear(in_features=128, out_features=1, bias=True)\n",
       ")"
      ]
     },
     "execution_count": 30,
     "metadata": {},
     "output_type": "execute_result"
    }
   ],
   "source": [
    "#move the model to GPU if you have a GPU\n"
   ]
  },
  {
   "cell_type": "markdown",
   "metadata": {},
   "source": [
    "define a function to train the neural network in one epoch"
   ]
  },
  {
   "cell_type": "code",
   "execution_count": 31,
   "metadata": {},
   "outputs": [],
   "source": []
  },
  {
   "cell_type": "markdown",
   "metadata": {},
   "source": [
    "define a function to evaluate the neural network on the validation set or the testing set"
   ]
  },
  {
   "cell_type": "code",
   "execution_count": 32,
   "metadata": {},
   "outputs": [],
   "source": []
  },
  {
   "cell_type": "markdown",
   "metadata": {},
   "source": [
    "create an optimizer (e.g. Adam) and send the parameters of the model to the optimizer"
   ]
  },
  {
   "cell_type": "code",
   "execution_count": 33,
   "metadata": {},
   "outputs": [],
   "source": []
  },
  {
   "cell_type": "markdown",
   "metadata": {},
   "source": [
    "train the neural network model for many epochs <br>\n",
    "It may need 100 epochs to converge.\n",
    "So, we will not save any model to harddrive "
   ]
  },
  {
   "cell_type": "code",
   "execution_count": 34,
   "metadata": {},
   "outputs": [],
   "source": []
  },
  {
   "cell_type": "code",
   "execution_count": 35,
   "metadata": {
    "scrolled": false
   },
   "outputs": [
    {
     "name": "stdout",
     "output_type": "stream",
     "text": [
      "Train Epoch: 0 [0/14860 (0%)]\tLoss: 0.370886\n",
      "Train Epoch: 0 [12800/14860 (85%)]\tLoss: 0.053270\n",
      "epoch 0 training loss: 0.05785210914591439\n",
      "epoch 0 validation loss: 0.04418320502842309\n",
      "Train Epoch: 1 [0/14860 (0%)]\tLoss: 0.055375\n",
      "Train Epoch: 1 [12800/14860 (85%)]\tLoss: 0.037720\n",
      "epoch 1 training loss: 0.03833816999680976\n",
      "epoch 1 validation loss: 0.03461824822945399\n",
      "Train Epoch: 2 [0/14860 (0%)]\tLoss: 0.041361\n",
      "Train Epoch: 2 [12800/14860 (85%)]\tLoss: 0.024778\n",
      "epoch 2 training loss: 0.030524458847621568\n",
      "epoch 2 validation loss: 0.027721758471851488\n",
      "Train Epoch: 3 [0/14860 (0%)]\tLoss: 0.023379\n",
      "Train Epoch: 3 [12800/14860 (85%)]\tLoss: 0.020735\n",
      "epoch 3 training loss: 0.024682435342389293\n",
      "epoch 3 validation loss: 0.0235659202998256\n",
      "Train Epoch: 4 [0/14860 (0%)]\tLoss: 0.019794\n",
      "Train Epoch: 4 [12800/14860 (85%)]\tLoss: 0.027153\n",
      "epoch 4 training loss: 0.022244470870583996\n",
      "epoch 4 validation loss: 0.02353142479718742\n",
      "Train Epoch: 5 [0/14860 (0%)]\tLoss: 0.022251\n",
      "Train Epoch: 5 [12800/14860 (85%)]\tLoss: 0.021413\n",
      "epoch 5 training loss: 0.022868764602666736\n",
      "epoch 5 validation loss: 0.02307755952885884\n",
      "Train Epoch: 6 [0/14860 (0%)]\tLoss: 0.024669\n",
      "Train Epoch: 6 [12800/14860 (85%)]\tLoss: 0.021621\n",
      "epoch 6 training loss: 0.021790659094913904\n",
      "epoch 6 validation loss: 0.022718218134910085\n",
      "Train Epoch: 7 [0/14860 (0%)]\tLoss: 0.018557\n",
      "Train Epoch: 7 [12800/14860 (85%)]\tLoss: 0.018766\n",
      "epoch 7 training loss: 0.021907012042008404\n",
      "epoch 7 validation loss: 0.025395774956765534\n",
      "Train Epoch: 8 [0/14860 (0%)]\tLoss: 0.020786\n",
      "Train Epoch: 8 [12800/14860 (85%)]\tLoss: 0.017827\n",
      "epoch 8 training loss: 0.021881219636426013\n",
      "epoch 8 validation loss: 0.023690428918556786\n",
      "Train Epoch: 9 [0/14860 (0%)]\tLoss: 0.024377\n",
      "Train Epoch: 9 [12800/14860 (85%)]\tLoss: 0.023384\n",
      "epoch 9 training loss: 0.0215007563909659\n",
      "epoch 9 validation loss: 0.022325624853877696\n",
      "Train Epoch: 10 [0/14860 (0%)]\tLoss: 0.019376\n",
      "Train Epoch: 10 [12800/14860 (85%)]\tLoss: 0.016284\n",
      "epoch 10 training loss: 0.0215518535552626\n",
      "epoch 10 validation loss: 0.0229956900236393\n",
      "Train Epoch: 11 [0/14860 (0%)]\tLoss: 0.015971\n",
      "Train Epoch: 11 [12800/14860 (85%)]\tLoss: 0.025812\n",
      "epoch 11 training loss: 0.02138979273696995\n",
      "epoch 11 validation loss: 0.024283541028205187\n",
      "Train Epoch: 12 [0/14860 (0%)]\tLoss: 0.028182\n",
      "Train Epoch: 12 [12800/14860 (85%)]\tLoss: 0.019667\n",
      "epoch 12 training loss: 0.02077819726183119\n",
      "epoch 12 validation loss: 0.022098818067776953\n",
      "Train Epoch: 13 [0/14860 (0%)]\tLoss: 0.022360\n",
      "Train Epoch: 13 [12800/14860 (85%)]\tLoss: 0.023644\n",
      "epoch 13 training loss: 0.02052275360458427\n",
      "epoch 13 validation loss: 0.021841806014571294\n",
      "Train Epoch: 14 [0/14860 (0%)]\tLoss: 0.014562\n",
      "Train Epoch: 14 [12800/14860 (85%)]\tLoss: 0.018567\n",
      "epoch 14 training loss: 0.020327786333922647\n",
      "epoch 14 validation loss: 0.0216444224191347\n",
      "Train Epoch: 15 [0/14860 (0%)]\tLoss: 0.014150\n",
      "Train Epoch: 15 [12800/14860 (85%)]\tLoss: 0.015064\n",
      "epoch 15 training loss: 0.02051972608981479\n",
      "epoch 15 validation loss: 0.02172202809959578\n",
      "Train Epoch: 16 [0/14860 (0%)]\tLoss: 0.025103\n",
      "Train Epoch: 16 [12800/14860 (85%)]\tLoss: 0.023583\n",
      "epoch 16 training loss: 0.02051075318684945\n",
      "epoch 16 validation loss: 0.02445079642404367\n",
      "Train Epoch: 17 [0/14860 (0%)]\tLoss: 0.019458\n",
      "Train Epoch: 17 [12800/14860 (85%)]\tLoss: 0.020370\n",
      "epoch 17 training loss: 0.020199550474938165\n",
      "epoch 17 validation loss: 0.02146954109247314\n",
      "Train Epoch: 18 [0/14860 (0%)]\tLoss: 0.018430\n",
      "Train Epoch: 18 [12800/14860 (85%)]\tLoss: 0.019896\n",
      "epoch 18 training loss: 0.01986555131072672\n",
      "epoch 18 validation loss: 0.02207446487994806\n",
      "Train Epoch: 19 [0/14860 (0%)]\tLoss: 0.021725\n",
      "Train Epoch: 19 [12800/14860 (85%)]\tLoss: 0.015672\n",
      "epoch 19 training loss: 0.01983940665825055\n",
      "epoch 19 validation loss: 0.0212807047742331\n",
      "Train Epoch: 20 [0/14860 (0%)]\tLoss: 0.017796\n",
      "Train Epoch: 20 [12800/14860 (85%)]\tLoss: 0.020898\n",
      "epoch 20 training loss: 0.01965804977549447\n",
      "epoch 20 validation loss: 0.02084827841627107\n",
      "Train Epoch: 21 [0/14860 (0%)]\tLoss: 0.023800\n",
      "Train Epoch: 21 [12800/14860 (85%)]\tLoss: 0.016284\n",
      "epoch 21 training loss: 0.019384323690946285\n",
      "epoch 21 validation loss: 0.022141092048718912\n",
      "Train Epoch: 22 [0/14860 (0%)]\tLoss: 0.023330\n",
      "Train Epoch: 22 [12800/14860 (85%)]\tLoss: 0.028822\n",
      "epoch 22 training loss: 0.019725937746528886\n",
      "epoch 22 validation loss: 0.02137623896899004\n",
      "Train Epoch: 23 [0/14860 (0%)]\tLoss: 0.013198\n",
      "Train Epoch: 23 [12800/14860 (85%)]\tLoss: 0.021166\n",
      "epoch 23 training loss: 0.019151344943122987\n",
      "epoch 23 validation loss: 0.023357522689690022\n",
      "Train Epoch: 24 [0/14860 (0%)]\tLoss: 0.021209\n",
      "Train Epoch: 24 [12800/14860 (85%)]\tLoss: 0.022443\n",
      "epoch 24 training loss: 0.019182773020405035\n",
      "epoch 24 validation loss: 0.022411987221558505\n",
      "Train Epoch: 25 [0/14860 (0%)]\tLoss: 0.023639\n",
      "Train Epoch: 25 [12800/14860 (85%)]\tLoss: 0.023368\n",
      "epoch 25 training loss: 0.019178787381666847\n",
      "epoch 25 validation loss: 0.02022232017851915\n",
      "Train Epoch: 26 [0/14860 (0%)]\tLoss: 0.019335\n",
      "Train Epoch: 26 [12800/14860 (85%)]\tLoss: 0.013886\n",
      "epoch 26 training loss: 0.018924889186572317\n",
      "epoch 26 validation loss: 0.020867272670274786\n",
      "Train Epoch: 27 [0/14860 (0%)]\tLoss: 0.017922\n",
      "Train Epoch: 27 [12800/14860 (85%)]\tLoss: 0.012492\n",
      "epoch 27 training loss: 0.018757951573237903\n",
      "epoch 27 validation loss: 0.019974939615328143\n",
      "Train Epoch: 28 [0/14860 (0%)]\tLoss: 0.029459\n",
      "Train Epoch: 28 [12800/14860 (85%)]\tLoss: 0.017492\n",
      "epoch 28 training loss: 0.018600263294533022\n",
      "epoch 28 validation loss: 0.0199683030061514\n",
      "Train Epoch: 29 [0/14860 (0%)]\tLoss: 0.013840\n",
      "Train Epoch: 29 [12800/14860 (85%)]\tLoss: 0.015081\n",
      "epoch 29 training loss: 0.018409667656016655\n",
      "epoch 29 validation loss: 0.02061243698036988\n",
      "Train Epoch: 30 [0/14860 (0%)]\tLoss: 0.019394\n",
      "Train Epoch: 30 [12800/14860 (85%)]\tLoss: 0.017345\n",
      "epoch 30 training loss: 0.01830395318281192\n",
      "epoch 30 validation loss: 0.02128669237109131\n",
      "Train Epoch: 31 [0/14860 (0%)]\tLoss: 0.019608\n",
      "Train Epoch: 31 [12800/14860 (85%)]\tLoss: 0.014948\n",
      "epoch 31 training loss: 0.01884011125876608\n",
      "epoch 31 validation loss: 0.019882113679557965\n",
      "Train Epoch: 32 [0/14860 (0%)]\tLoss: 0.024645\n",
      "Train Epoch: 32 [12800/14860 (85%)]\tLoss: 0.021411\n",
      "epoch 32 training loss: 0.018533725601931412\n",
      "epoch 32 validation loss: 0.021146336710193257\n",
      "Train Epoch: 33 [0/14860 (0%)]\tLoss: 0.020770\n",
      "Train Epoch: 33 [12800/14860 (85%)]\tLoss: 0.017043\n",
      "epoch 33 training loss: 0.018119824294032704\n",
      "epoch 33 validation loss: 0.019472263843614886\n",
      "Train Epoch: 34 [0/14860 (0%)]\tLoss: 0.018236\n",
      "Train Epoch: 34 [12800/14860 (85%)]\tLoss: 0.013686\n",
      "epoch 34 training loss: 0.017923823279193323\n",
      "epoch 34 validation loss: 0.019649093145319683\n",
      "Train Epoch: 35 [0/14860 (0%)]\tLoss: 0.023697\n",
      "Train Epoch: 35 [12800/14860 (85%)]\tLoss: 0.021198\n",
      "epoch 35 training loss: 0.01790914299269008\n",
      "epoch 35 validation loss: 0.020089778426773033\n",
      "Train Epoch: 36 [0/14860 (0%)]\tLoss: 0.012601\n",
      "Train Epoch: 36 [12800/14860 (85%)]\tLoss: 0.013312\n",
      "epoch 36 training loss: 0.01801468430357611\n",
      "epoch 36 validation loss: 0.019358859584637473\n",
      "Train Epoch: 37 [0/14860 (0%)]\tLoss: 0.023426\n",
      "Train Epoch: 37 [12800/14860 (85%)]\tLoss: 0.023996\n",
      "epoch 37 training loss: 0.017927461429140888\n",
      "epoch 37 validation loss: 0.01971014994974575\n",
      "Train Epoch: 38 [0/14860 (0%)]\tLoss: 0.018982\n",
      "Train Epoch: 38 [12800/14860 (85%)]\tLoss: 0.020356\n",
      "epoch 38 training loss: 0.018191389564392913\n",
      "epoch 38 validation loss: 0.02127771198605221\n",
      "Train Epoch: 39 [0/14860 (0%)]\tLoss: 0.017946\n",
      "Train Epoch: 39 [12800/14860 (85%)]\tLoss: 0.021400\n",
      "epoch 39 training loss: 0.01763301895151281\n",
      "epoch 39 validation loss: 0.01996052763075286\n",
      "Train Epoch: 40 [0/14860 (0%)]\tLoss: 0.016727\n",
      "Train Epoch: 40 [12800/14860 (85%)]\tLoss: 0.020068\n",
      "epoch 40 training loss: 0.017784886698946994\n",
      "epoch 40 validation loss: 0.019397753780171022\n",
      "Train Epoch: 41 [0/14860 (0%)]\tLoss: 0.027347\n",
      "Train Epoch: 41 [12800/14860 (85%)]\tLoss: 0.015209\n",
      "epoch 41 training loss: 0.017659448851377536\n",
      "epoch 41 validation loss: 0.01947106684379947\n",
      "Train Epoch: 42 [0/14860 (0%)]\tLoss: 0.016685\n",
      "Train Epoch: 42 [12800/14860 (85%)]\tLoss: 0.012057\n",
      "epoch 42 training loss: 0.017458605786992445\n",
      "epoch 42 validation loss: 0.019553212291103298\n",
      "Train Epoch: 43 [0/14860 (0%)]\tLoss: 0.022940\n",
      "Train Epoch: 43 [12800/14860 (85%)]\tLoss: 0.017600\n",
      "epoch 43 training loss: 0.017574622120676387\n",
      "epoch 43 validation loss: 0.018939353507598435\n",
      "Train Epoch: 44 [0/14860 (0%)]\tLoss: 0.019490\n"
     ]
    },
    {
     "name": "stdout",
     "output_type": "stream",
     "text": [
      "Train Epoch: 44 [12800/14860 (85%)]\tLoss: 0.018449\n",
      "epoch 44 training loss: 0.017611946027057294\n",
      "epoch 44 validation loss: 0.01891214672936077\n",
      "Train Epoch: 45 [0/14860 (0%)]\tLoss: 0.017326\n",
      "Train Epoch: 45 [12800/14860 (85%)]\tLoss: 0.020810\n",
      "epoch 45 training loss: 0.017250327345652457\n",
      "epoch 45 validation loss: 0.01886421341007039\n",
      "Train Epoch: 46 [0/14860 (0%)]\tLoss: 0.019603\n",
      "Train Epoch: 46 [12800/14860 (85%)]\tLoss: 0.015955\n",
      "epoch 46 training loss: 0.017682841389925562\n",
      "epoch 46 validation loss: 0.018850531618473894\n",
      "Train Epoch: 47 [0/14860 (0%)]\tLoss: 0.018259\n",
      "Train Epoch: 47 [12800/14860 (85%)]\tLoss: 0.015349\n",
      "epoch 47 training loss: 0.017499074276186462\n",
      "epoch 47 validation loss: 0.019245577637854845\n",
      "Train Epoch: 48 [0/14860 (0%)]\tLoss: 0.019481\n",
      "Train Epoch: 48 [12800/14860 (85%)]\tLoss: 0.020968\n",
      "epoch 48 training loss: 0.017712520443412483\n",
      "epoch 48 validation loss: 0.018788406187916495\n",
      "Train Epoch: 49 [0/14860 (0%)]\tLoss: 0.017374\n",
      "Train Epoch: 49 [12800/14860 (85%)]\tLoss: 0.019014\n",
      "epoch 49 training loss: 0.017259417324621454\n",
      "epoch 49 validation loss: 0.01872372923116707\n",
      "Train Epoch: 50 [0/14860 (0%)]\tLoss: 0.012156\n",
      "Train Epoch: 50 [12800/14860 (85%)]\tLoss: 0.019160\n",
      "epoch 50 training loss: 0.017408167195116352\n",
      "epoch 50 validation loss: 0.021034803286591686\n",
      "Train Epoch: 51 [0/14860 (0%)]\tLoss: 0.024149\n",
      "Train Epoch: 51 [12800/14860 (85%)]\tLoss: 0.014758\n",
      "epoch 51 training loss: 0.017326603046594523\n",
      "epoch 51 validation loss: 0.021256965528677507\n",
      "Train Epoch: 52 [0/14860 (0%)]\tLoss: 0.023371\n",
      "Train Epoch: 52 [12800/14860 (85%)]\tLoss: 0.017175\n",
      "epoch 52 training loss: 0.01743312506403169\n",
      "epoch 52 validation loss: 0.01896822546353929\n",
      "Train Epoch: 53 [0/14860 (0%)]\tLoss: 0.018807\n",
      "Train Epoch: 53 [12800/14860 (85%)]\tLoss: 0.015338\n",
      "epoch 53 training loss: 0.017169469171482273\n",
      "epoch 53 validation loss: 0.018922122641856675\n",
      "Train Epoch: 54 [0/14860 (0%)]\tLoss: 0.014144\n",
      "Train Epoch: 54 [12800/14860 (85%)]\tLoss: 0.016982\n",
      "epoch 54 training loss: 0.01741401622724584\n",
      "epoch 54 validation loss: 0.019829162673857828\n",
      "Train Epoch: 55 [0/14860 (0%)]\tLoss: 0.015928\n",
      "Train Epoch: 55 [12800/14860 (85%)]\tLoss: 0.016290\n",
      "epoch 55 training loss: 0.017237068746939428\n",
      "epoch 55 validation loss: 0.018553375404048486\n",
      "Train Epoch: 56 [0/14860 (0%)]\tLoss: 0.022136\n",
      "Train Epoch: 56 [12800/14860 (85%)]\tLoss: 0.016295\n",
      "epoch 56 training loss: 0.017325366807416972\n",
      "epoch 56 validation loss: 0.01922344937740169\n",
      "Train Epoch: 57 [0/14860 (0%)]\tLoss: 0.018778\n",
      "Train Epoch: 57 [12800/14860 (85%)]\tLoss: 0.015613\n",
      "epoch 57 training loss: 0.01703995530708478\n",
      "epoch 57 validation loss: 0.02045516456876482\n",
      "Train Epoch: 58 [0/14860 (0%)]\tLoss: 0.022345\n",
      "Train Epoch: 58 [12800/14860 (85%)]\tLoss: 0.017323\n",
      "epoch 58 training loss: 0.017160191741955075\n",
      "epoch 58 validation loss: 0.019154622898263446\n",
      "Train Epoch: 59 [0/14860 (0%)]\tLoss: 0.014770\n",
      "Train Epoch: 59 [12800/14860 (85%)]\tLoss: 0.016445\n",
      "epoch 59 training loss: 0.01787989096254365\n",
      "epoch 59 validation loss: 0.0186151577110152\n",
      "Train Epoch: 60 [0/14860 (0%)]\tLoss: 0.011618\n",
      "Train Epoch: 60 [12800/14860 (85%)]\tLoss: 0.015206\n",
      "epoch 60 training loss: 0.017302517874691732\n",
      "epoch 60 validation loss: 0.018444057454785768\n",
      "Train Epoch: 61 [0/14860 (0%)]\tLoss: 0.013913\n",
      "Train Epoch: 61 [12800/14860 (85%)]\tLoss: 0.020944\n",
      "epoch 61 training loss: 0.017151112302055217\n",
      "epoch 61 validation loss: 0.019014741188100117\n",
      "Train Epoch: 62 [0/14860 (0%)]\tLoss: 0.018889\n",
      "Train Epoch: 62 [12800/14860 (85%)]\tLoss: 0.014271\n",
      "epoch 62 training loss: 0.01709834264161495\n",
      "epoch 62 validation loss: 0.019262958381135585\n",
      "Train Epoch: 63 [0/14860 (0%)]\tLoss: 0.027101\n",
      "Train Epoch: 63 [12800/14860 (85%)]\tLoss: 0.019073\n",
      "epoch 63 training loss: 0.0169838675035116\n",
      "epoch 63 validation loss: 0.018441862834856527\n",
      "Train Epoch: 64 [0/14860 (0%)]\tLoss: 0.016465\n",
      "Train Epoch: 64 [12800/14860 (85%)]\tLoss: 0.016483\n",
      "epoch 64 training loss: 0.017011760312140498\n",
      "epoch 64 validation loss: 0.018467948887019123\n",
      "Train Epoch: 65 [0/14860 (0%)]\tLoss: 0.017780\n",
      "Train Epoch: 65 [12800/14860 (85%)]\tLoss: 0.013553\n",
      "epoch 65 training loss: 0.016994151644981824\n",
      "epoch 65 validation loss: 0.0183878193178708\n",
      "Train Epoch: 66 [0/14860 (0%)]\tLoss: 0.017373\n",
      "Train Epoch: 66 [12800/14860 (85%)]\tLoss: 0.011881\n",
      "epoch 66 training loss: 0.01717330169123717\n",
      "epoch 66 validation loss: 0.01834661836485597\n",
      "Train Epoch: 67 [0/14860 (0%)]\tLoss: 0.016459\n",
      "Train Epoch: 67 [12800/14860 (85%)]\tLoss: 0.017959\n",
      "epoch 67 training loss: 0.016774884743504543\n",
      "epoch 67 validation loss: 0.018586884182821464\n",
      "Train Epoch: 68 [0/14860 (0%)]\tLoss: 0.015677\n",
      "Train Epoch: 68 [12800/14860 (85%)]\tLoss: 0.016384\n",
      "epoch 68 training loss: 0.017047061855530638\n",
      "epoch 68 validation loss: 0.019578651784407312\n",
      "Train Epoch: 69 [0/14860 (0%)]\tLoss: 0.013658\n",
      "Train Epoch: 69 [12800/14860 (85%)]\tLoss: 0.024795\n",
      "epoch 69 training loss: 0.017017745978047706\n",
      "epoch 69 validation loss: 0.01892361723193245\n",
      "Train Epoch: 70 [0/14860 (0%)]\tLoss: 0.013936\n",
      "Train Epoch: 70 [12800/14860 (85%)]\tLoss: 0.026264\n",
      "epoch 70 training loss: 0.0168489114039092\n",
      "epoch 70 validation loss: 0.01875034025159933\n",
      "Train Epoch: 71 [0/14860 (0%)]\tLoss: 0.015552\n",
      "Train Epoch: 71 [12800/14860 (85%)]\tLoss: 0.015817\n",
      "epoch 71 training loss: 0.016812658534409143\n",
      "epoch 71 validation loss: 0.01837416249383737\n",
      "Train Epoch: 72 [0/14860 (0%)]\tLoss: 0.015975\n",
      "Train Epoch: 72 [12800/14860 (85%)]\tLoss: 0.017006\n",
      "epoch 72 training loss: 0.017037695130476586\n",
      "epoch 72 validation loss: 0.018221540832057702\n",
      "Train Epoch: 73 [0/14860 (0%)]\tLoss: 0.018712\n",
      "Train Epoch: 73 [12800/14860 (85%)]\tLoss: 0.022209\n",
      "epoch 73 training loss: 0.01692938856366608\n",
      "epoch 73 validation loss: 0.019303913338709684\n",
      "Train Epoch: 74 [0/14860 (0%)]\tLoss: 0.015264\n",
      "Train Epoch: 74 [12800/14860 (85%)]\tLoss: 0.014879\n",
      "epoch 74 training loss: 0.016996669312381845\n",
      "epoch 74 validation loss: 0.020065924590205453\n",
      "Train Epoch: 75 [0/14860 (0%)]\tLoss: 0.015279\n",
      "Train Epoch: 75 [12800/14860 (85%)]\tLoss: 0.012553\n",
      "epoch 75 training loss: 0.016789647591356028\n",
      "epoch 75 validation loss: 0.018655253308159963\n",
      "Train Epoch: 76 [0/14860 (0%)]\tLoss: 0.021128\n",
      "Train Epoch: 76 [12800/14860 (85%)]\tLoss: 0.021241\n",
      "epoch 76 training loss: 0.016830861385370422\n",
      "epoch 76 validation loss: 0.018135353092997183\n",
      "Train Epoch: 77 [0/14860 (0%)]\tLoss: 0.018573\n",
      "Train Epoch: 77 [12800/14860 (85%)]\tLoss: 0.018931\n",
      "epoch 77 training loss: 0.01683621343352601\n",
      "epoch 77 validation loss: 0.018409642266880803\n",
      "Train Epoch: 78 [0/14860 (0%)]\tLoss: 0.008273\n",
      "Train Epoch: 78 [12800/14860 (85%)]\tLoss: 0.015485\n",
      "epoch 78 training loss: 0.01669758973786464\n",
      "epoch 78 validation loss: 0.018325978416507526\n",
      "Train Epoch: 79 [0/14860 (0%)]\tLoss: 0.018792\n",
      "Train Epoch: 79 [12800/14860 (85%)]\tLoss: 0.014922\n",
      "epoch 79 training loss: 0.016830839925151095\n",
      "epoch 79 validation loss: 0.01829268207850237\n",
      "Train Epoch: 80 [0/14860 (0%)]\tLoss: 0.014409\n",
      "Train Epoch: 80 [12800/14860 (85%)]\tLoss: 0.013492\n",
      "epoch 80 training loss: 0.01683292567379709\n",
      "epoch 80 validation loss: 0.01819230042416016\n",
      "Train Epoch: 81 [0/14860 (0%)]\tLoss: 0.010087\n",
      "Train Epoch: 81 [12800/14860 (85%)]\tLoss: 0.013579\n",
      "epoch 81 training loss: 0.016720452648388524\n",
      "epoch 81 validation loss: 0.018079331726485244\n",
      "Train Epoch: 82 [0/14860 (0%)]\tLoss: 0.010560\n",
      "Train Epoch: 82 [12800/14860 (85%)]\tLoss: 0.014264\n",
      "epoch 82 training loss: 0.016958883971485317\n",
      "epoch 82 validation loss: 0.01823745108689869\n",
      "Train Epoch: 83 [0/14860 (0%)]\tLoss: 0.016772\n",
      "Train Epoch: 83 [12800/14860 (85%)]\tLoss: 0.016590\n",
      "epoch 83 training loss: 0.016790721103803724\n",
      "epoch 83 validation loss: 0.020723126846710647\n",
      "Train Epoch: 84 [0/14860 (0%)]\tLoss: 0.026189\n",
      "Train Epoch: 84 [12800/14860 (85%)]\tLoss: 0.016999\n",
      "epoch 84 training loss: 0.016829897665506244\n",
      "epoch 84 validation loss: 0.018198882624254387\n",
      "Train Epoch: 85 [0/14860 (0%)]\tLoss: 0.018039\n",
      "Train Epoch: 85 [12800/14860 (85%)]\tLoss: 0.017240\n",
      "epoch 85 training loss: 0.01677117457724789\n",
      "epoch 85 validation loss: 0.01817959676931903\n",
      "Train Epoch: 86 [0/14860 (0%)]\tLoss: 0.016937\n",
      "Train Epoch: 86 [12800/14860 (85%)]\tLoss: 0.018858\n",
      "epoch 86 training loss: 0.01649453440028378\n",
      "epoch 86 validation loss: 0.018002830463806595\n",
      "Train Epoch: 87 [0/14860 (0%)]\tLoss: 0.014478\n",
      "Train Epoch: 87 [12800/14860 (85%)]\tLoss: 0.015369\n",
      "epoch 87 training loss: 0.016570837292661015\n",
      "epoch 87 validation loss: 0.01830932923725673\n",
      "Train Epoch: 88 [0/14860 (0%)]\tLoss: 0.015187\n"
     ]
    },
    {
     "name": "stdout",
     "output_type": "stream",
     "text": [
      "Train Epoch: 88 [12800/14860 (85%)]\tLoss: 0.016520\n",
      "epoch 88 training loss: 0.016713629548366252\n",
      "epoch 88 validation loss: 0.01869327674189145\n",
      "Train Epoch: 89 [0/14860 (0%)]\tLoss: 0.018834\n",
      "Train Epoch: 89 [12800/14860 (85%)]\tLoss: 0.013128\n",
      "epoch 89 training loss: 0.0166006408767122\n",
      "epoch 89 validation loss: 0.018880145529569205\n",
      "Train Epoch: 90 [0/14860 (0%)]\tLoss: 0.016568\n",
      "Train Epoch: 90 [12800/14860 (85%)]\tLoss: 0.018479\n",
      "epoch 90 training loss: 0.016605845748040922\n",
      "epoch 90 validation loss: 0.01806729967022635\n",
      "Train Epoch: 91 [0/14860 (0%)]\tLoss: 0.012652\n",
      "Train Epoch: 91 [12800/14860 (85%)]\tLoss: 0.018578\n",
      "epoch 91 training loss: 0.016640313972647373\n",
      "epoch 91 validation loss: 0.019471545052008824\n",
      "Train Epoch: 92 [0/14860 (0%)]\tLoss: 0.010140\n",
      "Train Epoch: 92 [12800/14860 (85%)]\tLoss: 0.021039\n",
      "epoch 92 training loss: 0.016624445278738808\n",
      "epoch 92 validation loss: 0.018402158348092734\n",
      "Train Epoch: 93 [0/14860 (0%)]\tLoss: 0.014515\n",
      "Train Epoch: 93 [12800/14860 (85%)]\tLoss: 0.018634\n",
      "epoch 93 training loss: 0.016640432863536045\n",
      "epoch 93 validation loss: 0.01790996801477945\n",
      "Train Epoch: 94 [0/14860 (0%)]\tLoss: 0.010746\n",
      "Train Epoch: 94 [12800/14860 (85%)]\tLoss: 0.016024\n",
      "epoch 94 training loss: 0.01665021687682368\n",
      "epoch 94 validation loss: 0.01797260282691974\n",
      "Train Epoch: 95 [0/14860 (0%)]\tLoss: 0.016259\n",
      "Train Epoch: 95 [12800/14860 (85%)]\tLoss: 0.015041\n",
      "epoch 95 training loss: 0.0165156899816078\n",
      "epoch 95 validation loss: 0.01789159051731193\n",
      "Train Epoch: 96 [0/14860 (0%)]\tLoss: 0.019046\n",
      "Train Epoch: 96 [12800/14860 (85%)]\tLoss: 0.017656\n",
      "epoch 96 training loss: 0.016462646313330047\n",
      "epoch 96 validation loss: 0.017843417624873053\n",
      "Train Epoch: 97 [0/14860 (0%)]\tLoss: 0.012586\n",
      "Train Epoch: 97 [12800/14860 (85%)]\tLoss: 0.014865\n",
      "epoch 97 training loss: 0.01646246551735024\n",
      "epoch 97 validation loss: 0.018241369045964163\n",
      "Train Epoch: 98 [0/14860 (0%)]\tLoss: 0.011787\n",
      "Train Epoch: 98 [12800/14860 (85%)]\tLoss: 0.014553\n",
      "epoch 98 training loss: 0.01676508667281805\n",
      "epoch 98 validation loss: 0.017837960841292043\n",
      "Train Epoch: 99 [0/14860 (0%)]\tLoss: 0.014333\n",
      "Train Epoch: 99 [12800/14860 (85%)]\tLoss: 0.010485\n",
      "epoch 99 training loss: 0.016343375978370506\n",
      "epoch 99 validation loss: 0.01785322497023797\n"
     ]
    }
   ],
   "source": []
  },
  {
   "cell_type": "markdown",
   "metadata": {},
   "source": [
    "plot the loss vs epoch curve"
   ]
  },
  {
   "cell_type": "code",
   "execution_count": 36,
   "metadata": {},
   "outputs": [
    {
     "data": {
      "text/plain": [
       "<matplotlib.legend.Legend at 0xdaa0c88>"
      ]
     },
     "execution_count": 36,
     "metadata": {},
     "output_type": "execute_result"
    },
    {
     "data": {
      "image/png": "[encoded data removed]",
      "text/plain": [
       "<Figure size 432x288 with 1 Axes>"
      ]
     },
     "metadata": {
      "needs_background": "light"
     },
     "output_type": "display_data"
    }
   ],
   "source": []
  },
  {
   "cell_type": "code",
   "execution_count": 37,
   "metadata": {},
   "outputs": [],
   "source": [
    "# obtain Yp_test\n",
    "# \"Yp_test=model(X_test)\"  may need lots of memory\n",
    "# we can use a for loop to get Yp_test, see the function test\n",
    "Yp_test=[]\n",
    "with torch.no_grad(): # tell Pytorch not to build graph in the 'with' section\n",
    "    for batch_idx, (X, Y) in enumerate(dataloader_test):\n",
    "        X, Y = X.to(device), Y.to(device)\n",
    "        Yp = model(X)#forward pass\n",
    "        Yp_test.append(Yp.detach().cpu().numpy())\n",
    "Yp_test=np.concatenate(Yp_test, axis=0).squeeze()"
   ]
  },
  {
   "cell_type": "code",
   "execution_count": 47,
   "metadata": {},
   "outputs": [
    {
     "name": "stdout",
     "output_type": "stream",
     "text": [
      "Evaluate model on testing set\n",
      "MSE= 0.01647303\n",
      "MAE= 0.0901616\n",
      "MAPE= 0.2513569\n"
     ]
    }
   ],
   "source": [
    "# compute MSE, MAE and MAPE on testing set\n"
   ]
  },
  {
   "cell_type": "code",
   "execution_count": 53,
   "metadata": {},
   "outputs": [
    {
     "data": {
      "text/plain": [
       "Text(0, 0.5, 'Yp_test')"
      ]
     },
     "execution_count": 53,
     "metadata": {},
     "output_type": "execute_result"
    },
    {
     "data": {
      "image/png": "[encoded data removed]",
      "text/plain": [
       "<Figure size 432x288 with 1 Axes>"
      ]
     },
     "metadata": {
      "needs_background": "light"
     },
     "output_type": "display_data"
    }
   ],
   "source": [
    "# plot Yp_test vs Y_test\n",
    "# the red line is the 45-degree line\n"
   ]
  },
  {
   "cell_type": "markdown",
   "metadata": {},
   "source": [
    "### change the structure of the MLP model and see if it can do better than XGBoost in homework 2\n",
    "You will get 5 extra points if the model does better than xgboost regressor (measured by MAPE) <br>\n",
    "You will lose 5 points if you do not try <br>\n",
    "If you have done this sub-task in H3P2T2_Keras_solution.ipynb, then do not waste your time here (no extra points)"
   ]
  },
  {
   "cell_type": "code",
   "execution_count": null,
   "metadata": {},
   "outputs": [],
   "source": []
  }
 ],
 "metadata": {
  "colab": {
   "name": "Untitled4.ipynb",
   "provenance": []
  },
  "kernelspec": {
   "display_name": "Python 3",
   "language": "python",
   "name": "python3"
  },
  "language_info": {
   "codemirror_mode": {
    "name": "ipython",
    "version": 3
   },
   "file_extension": ".py",
   "mimetype": "text/x-python",
   "name": "python",
   "nbconvert_exporter": "python",
   "pygments_lexer": "ipython3",
   "version": "3.7.6"
  }
 },
 "nbformat": 4,
 "nbformat_minor": 1
}
