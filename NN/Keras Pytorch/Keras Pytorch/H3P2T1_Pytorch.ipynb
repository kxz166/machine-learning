{
 "cells": [
  {
   "cell_type": "markdown",
   "metadata": {},
   "source": [
    "# Classification using a Neural Network - Handle Class Imbalance (Pytorch)\n",
    "The dataset is from https://www.kaggle.com/c/GiveMeSomeCredit <br>\n",
    "\"Banks play a crucial role in market economies. They decide who can get finance and on what terms and can make or break investment decisions. For markets and society to function, individuals and companies need access to credit. Credit scoring algorithms, which make a guess at the probability of default, are the method banks use to determine whether or not a loan should be granted.\"  <br>\n",
    "We will build an MLP classifier to predict if someone will experience financial distress and therefore cannot pay off credit card (i.e. default). It is a binary classificaiton problem: default (class-1) or not default  (class-0) <br>\n",
    "Real dataset is often imbalanced: class-i may have much more data samples than class-j."
   ]
  },
  {
   "cell_type": "code",
   "execution_count": 1,
   "metadata": {},
   "outputs": [],
   "source": [
    "import matplotlib.pyplot as plt\n",
    "from IPython import display\n",
    "import numpy as np\n",
    "import pandas as pd\n",
    "import torch"
   ]
  },
  {
   "cell_type": "markdown",
   "metadata": {},
   "source": [
    "### Load the data"
   ]
  },
  {
   "cell_type": "code",
   "execution_count": 2,
   "metadata": {},
   "outputs": [
    {
     "data": {
      "text/html": [
       "<div>\n",
       "<style scoped>\n",
       "    .dataframe tbody tr th:only-of-type {\n",
       "        vertical-align: middle;\n",
       "    }\n",
       "\n",
       "    .dataframe tbody tr th {\n",
       "        vertical-align: top;\n",
       "    }\n",
       "\n",
       "    .dataframe thead th {\n",
       "        text-align: right;\n",
       "    }\n",
       "</style>\n",
       "<table border=\"1\" class=\"dataframe\">\n",
       "  <thead>\n",
       "    <tr style=\"text-align: right;\">\n",
       "      <th></th>\n",
       "      <th>id</th>\n",
       "      <th>SeriousDlqin2yrs</th>\n",
       "      <th>RevolvingUtilizationOfUnsecuredLines</th>\n",
       "      <th>age</th>\n",
       "      <th>NumberOfTime30-59DaysPastDueNotWorse</th>\n",
       "      <th>DebtRatio</th>\n",
       "      <th>MonthlyIncome</th>\n",
       "      <th>NumberOfOpenCreditLinesAndLoans</th>\n",
       "      <th>NumberOfTimes90DaysLate</th>\n",
       "      <th>NumberRealEstateLoansOrLines</th>\n",
       "      <th>NumberOfTime60-89DaysPastDueNotWorse</th>\n",
       "      <th>NumberOfDependents</th>\n",
       "    </tr>\n",
       "  </thead>\n",
       "  <tbody>\n",
       "    <tr>\n",
       "      <th>0</th>\n",
       "      <td>1</td>\n",
       "      <td>1</td>\n",
       "      <td>0.766127</td>\n",
       "      <td>45</td>\n",
       "      <td>2</td>\n",
       "      <td>0.802982</td>\n",
       "      <td>9120.0</td>\n",
       "      <td>13</td>\n",
       "      <td>0</td>\n",
       "      <td>6</td>\n",
       "      <td>0</td>\n",
       "      <td>2.0</td>\n",
       "    </tr>\n",
       "    <tr>\n",
       "      <th>1</th>\n",
       "      <td>2</td>\n",
       "      <td>0</td>\n",
       "      <td>0.957151</td>\n",
       "      <td>40</td>\n",
       "      <td>0</td>\n",
       "      <td>0.121876</td>\n",
       "      <td>2600.0</td>\n",
       "      <td>4</td>\n",
       "      <td>0</td>\n",
       "      <td>0</td>\n",
       "      <td>0</td>\n",
       "      <td>1.0</td>\n",
       "    </tr>\n",
       "    <tr>\n",
       "      <th>2</th>\n",
       "      <td>3</td>\n",
       "      <td>0</td>\n",
       "      <td>0.658180</td>\n",
       "      <td>38</td>\n",
       "      <td>1</td>\n",
       "      <td>0.085113</td>\n",
       "      <td>3042.0</td>\n",
       "      <td>2</td>\n",
       "      <td>1</td>\n",
       "      <td>0</td>\n",
       "      <td>0</td>\n",
       "      <td>0.0</td>\n",
       "    </tr>\n",
       "    <tr>\n",
       "      <th>3</th>\n",
       "      <td>4</td>\n",
       "      <td>0</td>\n",
       "      <td>0.233810</td>\n",
       "      <td>30</td>\n",
       "      <td>0</td>\n",
       "      <td>0.036050</td>\n",
       "      <td>3300.0</td>\n",
       "      <td>5</td>\n",
       "      <td>0</td>\n",
       "      <td>0</td>\n",
       "      <td>0</td>\n",
       "      <td>0.0</td>\n",
       "    </tr>\n",
       "    <tr>\n",
       "      <th>4</th>\n",
       "      <td>5</td>\n",
       "      <td>0</td>\n",
       "      <td>0.907239</td>\n",
       "      <td>49</td>\n",
       "      <td>1</td>\n",
       "      <td>0.024926</td>\n",
       "      <td>63588.0</td>\n",
       "      <td>7</td>\n",
       "      <td>0</td>\n",
       "      <td>1</td>\n",
       "      <td>0</td>\n",
       "      <td>0.0</td>\n",
       "    </tr>\n",
       "  </tbody>\n",
       "</table>\n",
       "</div>"
      ],
      "text/plain": [
       "   id  SeriousDlqin2yrs  RevolvingUtilizationOfUnsecuredLines  age  \\\n",
       "0   1                 1                              0.766127   45   \n",
       "1   2                 0                              0.957151   40   \n",
       "2   3                 0                              0.658180   38   \n",
       "3   4                 0                              0.233810   30   \n",
       "4   5                 0                              0.907239   49   \n",
       "\n",
       "   NumberOfTime30-59DaysPastDueNotWorse  DebtRatio  MonthlyIncome  \\\n",
       "0                                     2   0.802982         9120.0   \n",
       "1                                     0   0.121876         2600.0   \n",
       "2                                     1   0.085113         3042.0   \n",
       "3                                     0   0.036050         3300.0   \n",
       "4                                     1   0.024926        63588.0   \n",
       "\n",
       "   NumberOfOpenCreditLinesAndLoans  NumberOfTimes90DaysLate  \\\n",
       "0                               13                        0   \n",
       "1                                4                        0   \n",
       "2                                2                        1   \n",
       "3                                5                        0   \n",
       "4                                7                        0   \n",
       "\n",
       "   NumberRealEstateLoansOrLines  NumberOfTime60-89DaysPastDueNotWorse  \\\n",
       "0                             6                                     0   \n",
       "1                             0                                     0   \n",
       "2                             0                                     0   \n",
       "3                             0                                     0   \n",
       "4                             1                                     0   \n",
       "\n",
       "   NumberOfDependents  \n",
       "0                 2.0  \n",
       "1                 1.0  \n",
       "2                 0.0  \n",
       "3                 0.0  \n",
       "4                 0.0  "
      ]
     },
     "execution_count": 2,
     "metadata": {},
     "output_type": "execute_result"
    }
   ],
   "source": [
    "#every row of the table is a data sample (feature vector) from a person\n",
    "df = pd.read_csv('cs_data.csv')\n",
    "df.head()"
   ]
  },
  {
   "cell_type": "markdown",
   "metadata": {},
   "source": [
    "#### handle nan (null) in data (i.e. missing values)\n",
    "Some fields in the table are nan, which are missing values. <br>\n",
    "For example, someone may not want to reveal monthly income to whoever made the table/survey, then the table got nan."
   ]
  },
  {
   "cell_type": "code",
   "execution_count": 3,
   "metadata": {},
   "outputs": [
    {
     "data": {
      "text/plain": [
       "id                                          0\n",
       "SeriousDlqin2yrs                            0\n",
       "RevolvingUtilizationOfUnsecuredLines        0\n",
       "age                                         0\n",
       "NumberOfTime30-59DaysPastDueNotWorse        0\n",
       "DebtRatio                                   0\n",
       "MonthlyIncome                           29731\n",
       "NumberOfOpenCreditLinesAndLoans             0\n",
       "NumberOfTimes90DaysLate                     0\n",
       "NumberRealEstateLoansOrLines                0\n",
       "NumberOfTime60-89DaysPastDueNotWorse        0\n",
       "NumberOfDependents                       3924\n",
       "dtype: int64"
      ]
     },
     "execution_count": 3,
     "metadata": {},
     "output_type": "execute_result"
    }
   ],
   "source": [
    "df.isnull().sum()"
   ]
  },
  {
   "cell_type": "code",
   "execution_count": 4,
   "metadata": {},
   "outputs": [
    {
     "data": {
      "text/plain": [
       "id                                      0\n",
       "SeriousDlqin2yrs                        0\n",
       "RevolvingUtilizationOfUnsecuredLines    0\n",
       "age                                     0\n",
       "NumberOfTime30-59DaysPastDueNotWorse    0\n",
       "DebtRatio                               0\n",
       "MonthlyIncome                           0\n",
       "NumberOfOpenCreditLinesAndLoans         0\n",
       "NumberOfTimes90DaysLate                 0\n",
       "NumberRealEstateLoansOrLines            0\n",
       "NumberOfTime60-89DaysPastDueNotWorse    0\n",
       "NumberOfDependents                      0\n",
       "dtype: int64"
      ]
     },
     "execution_count": 4,
     "metadata": {},
     "output_type": "execute_result"
    }
   ],
   "source": [
    "#here, we use a simple method:\n",
    "#replace nan in each column with median value of that column\n",
    "#there are other methods in pandas and sklearn: interpolation in pandas and KNNImputer in sklearn\n",
    "from sklearn.impute import SimpleImputer\n",
    "imputer = SimpleImputer(strategy='median')\n",
    "dfv=imputer.fit_transform(df.values)\n",
    "df=pd.DataFrame(data=dfv, columns=df.columns)\n",
    "df.isnull().sum()"
   ]
  },
  {
   "cell_type": "markdown",
   "metadata": {},
   "source": [
    "### We have a highly imbalanced dataset\n",
    "139974 data samples in class-0 (normal) <br>\n",
    "10026 data samples in class-1 (financial distress)"
   ]
  },
  {
   "cell_type": "code",
   "execution_count": 5,
   "metadata": {},
   "outputs": [
    {
     "data": {
      "text/plain": [
       "<matplotlib.axes._subplots.AxesSubplot at 0xc2e6d88>"
      ]
     },
     "execution_count": 5,
     "metadata": {},
     "output_type": "execute_result"
    },
    {
     "data": {
      "image/png": "[encoded data removed]",
      "text/plain": [
       "<Figure size 432x288 with 1 Axes>"
      ]
     },
     "metadata": {
      "needs_background": "light"
     },
     "output_type": "display_data"
    }
   ],
   "source": [
    "df['SeriousDlqin2yrs'].hist()"
   ]
  },
  {
   "cell_type": "markdown",
   "metadata": {},
   "source": [
    "#### Classification Goal: predict 'SeriousDlqin2yrs' (Y) using the other features (X)"
   ]
  },
  {
   "cell_type": "code",
   "execution_count": 6,
   "metadata": {
    "scrolled": true
   },
   "outputs": [
    {
     "data": {
      "text/html": [
       "<div>\n",
       "<style scoped>\n",
       "    .dataframe tbody tr th:only-of-type {\n",
       "        vertical-align: middle;\n",
       "    }\n",
       "\n",
       "    .dataframe tbody tr th {\n",
       "        vertical-align: top;\n",
       "    }\n",
       "\n",
       "    .dataframe thead th {\n",
       "        text-align: right;\n",
       "    }\n",
       "</style>\n",
       "<table border=\"1\" class=\"dataframe\">\n",
       "  <thead>\n",
       "    <tr style=\"text-align: right;\">\n",
       "      <th></th>\n",
       "      <th>RevolvingUtilizationOfUnsecuredLines</th>\n",
       "      <th>age</th>\n",
       "      <th>NumberOfTime30-59DaysPastDueNotWorse</th>\n",
       "      <th>DebtRatio</th>\n",
       "      <th>MonthlyIncome</th>\n",
       "      <th>NumberOfOpenCreditLinesAndLoans</th>\n",
       "      <th>NumberOfTimes90DaysLate</th>\n",
       "      <th>NumberRealEstateLoansOrLines</th>\n",
       "      <th>NumberOfTime60-89DaysPastDueNotWorse</th>\n",
       "      <th>NumberOfDependents</th>\n",
       "    </tr>\n",
       "  </thead>\n",
       "  <tbody>\n",
       "    <tr>\n",
       "      <th>0</th>\n",
       "      <td>0.766127</td>\n",
       "      <td>45.0</td>\n",
       "      <td>2.0</td>\n",
       "      <td>0.802982</td>\n",
       "      <td>9120.0</td>\n",
       "      <td>13.0</td>\n",
       "      <td>0.0</td>\n",
       "      <td>6.0</td>\n",
       "      <td>0.0</td>\n",
       "      <td>2.0</td>\n",
       "    </tr>\n",
       "    <tr>\n",
       "      <th>1</th>\n",
       "      <td>0.957151</td>\n",
       "      <td>40.0</td>\n",
       "      <td>0.0</td>\n",
       "      <td>0.121876</td>\n",
       "      <td>2600.0</td>\n",
       "      <td>4.0</td>\n",
       "      <td>0.0</td>\n",
       "      <td>0.0</td>\n",
       "      <td>0.0</td>\n",
       "      <td>1.0</td>\n",
       "    </tr>\n",
       "    <tr>\n",
       "      <th>2</th>\n",
       "      <td>0.658180</td>\n",
       "      <td>38.0</td>\n",
       "      <td>1.0</td>\n",
       "      <td>0.085113</td>\n",
       "      <td>3042.0</td>\n",
       "      <td>2.0</td>\n",
       "      <td>1.0</td>\n",
       "      <td>0.0</td>\n",
       "      <td>0.0</td>\n",
       "      <td>0.0</td>\n",
       "    </tr>\n",
       "    <tr>\n",
       "      <th>3</th>\n",
       "      <td>0.233810</td>\n",
       "      <td>30.0</td>\n",
       "      <td>0.0</td>\n",
       "      <td>0.036050</td>\n",
       "      <td>3300.0</td>\n",
       "      <td>5.0</td>\n",
       "      <td>0.0</td>\n",
       "      <td>0.0</td>\n",
       "      <td>0.0</td>\n",
       "      <td>0.0</td>\n",
       "    </tr>\n",
       "    <tr>\n",
       "      <th>4</th>\n",
       "      <td>0.907239</td>\n",
       "      <td>49.0</td>\n",
       "      <td>1.0</td>\n",
       "      <td>0.024926</td>\n",
       "      <td>63588.0</td>\n",
       "      <td>7.0</td>\n",
       "      <td>0.0</td>\n",
       "      <td>1.0</td>\n",
       "      <td>0.0</td>\n",
       "      <td>0.0</td>\n",
       "    </tr>\n",
       "  </tbody>\n",
       "</table>\n",
       "</div>"
      ],
      "text/plain": [
       "   RevolvingUtilizationOfUnsecuredLines   age  \\\n",
       "0                              0.766127  45.0   \n",
       "1                              0.957151  40.0   \n",
       "2                              0.658180  38.0   \n",
       "3                              0.233810  30.0   \n",
       "4                              0.907239  49.0   \n",
       "\n",
       "   NumberOfTime30-59DaysPastDueNotWorse  DebtRatio  MonthlyIncome  \\\n",
       "0                                   2.0   0.802982         9120.0   \n",
       "1                                   0.0   0.121876         2600.0   \n",
       "2                                   1.0   0.085113         3042.0   \n",
       "3                                   0.0   0.036050         3300.0   \n",
       "4                                   1.0   0.024926        63588.0   \n",
       "\n",
       "   NumberOfOpenCreditLinesAndLoans  NumberOfTimes90DaysLate  \\\n",
       "0                             13.0                      0.0   \n",
       "1                              4.0                      0.0   \n",
       "2                              2.0                      1.0   \n",
       "3                              5.0                      0.0   \n",
       "4                              7.0                      0.0   \n",
       "\n",
       "   NumberRealEstateLoansOrLines  NumberOfTime60-89DaysPastDueNotWorse  \\\n",
       "0                           6.0                                   0.0   \n",
       "1                           0.0                                   0.0   \n",
       "2                           0.0                                   0.0   \n",
       "3                           0.0                                   0.0   \n",
       "4                           1.0                                   0.0   \n",
       "\n",
       "   NumberOfDependents  \n",
       "0                 2.0  \n",
       "1                 1.0  \n",
       "2                 0.0  \n",
       "3                 0.0  \n",
       "4                 0.0  "
      ]
     },
     "execution_count": 6,
     "metadata": {},
     "output_type": "execute_result"
    }
   ],
   "source": [
    "#'SeriousDlqin2yrs' is the target/class label, so it should not be in the input feature vector X\n",
    "#'id' of a person is useless for the classification task\n",
    "#so, we remove them from the table and get the input X\n",
    "X=df.drop(['SeriousDlqin2yrs', 'id'], axis=1)\n",
    "X.head()"
   ]
  },
  {
   "cell_type": "code",
   "execution_count": 7,
   "metadata": {},
   "outputs": [
    {
     "data": {
      "text/plain": [
       "0    1.0\n",
       "1    0.0\n",
       "2    0.0\n",
       "3    0.0\n",
       "4    0.0\n",
       "Name: SeriousDlqin2yrs, dtype: float64"
      ]
     },
     "execution_count": 7,
     "metadata": {},
     "output_type": "execute_result"
    }
   ],
   "source": [
    "#Y is the target/class label\n",
    "Y=df['SeriousDlqin2yrs']\n",
    "Y.head()"
   ]
  },
  {
   "cell_type": "code",
   "execution_count": 8,
   "metadata": {},
   "outputs": [],
   "source": [
    "# convert pandas dataframe/series to numpy array\n",
    "# sklearn functions may not work well with pandas data types\n",
    "X=X.values\n",
    "Y=Y.values"
   ]
  },
  {
   "cell_type": "markdown",
   "metadata": {},
   "source": [
    "### create training, validation and test sets"
   ]
  },
  {
   "cell_type": "code",
   "execution_count": 9,
   "metadata": {},
   "outputs": [
    {
     "name": "stdout",
     "output_type": "stream",
     "text": [
      "train: (108000, 10) (108000,)\n",
      "validation: (12000, 10) (12000,)\n",
      "test: (30000, 10) (30000,)\n"
     ]
    }
   ],
   "source": [
    "from sklearn.model_selection import train_test_split\n",
    "X_train, X_test, Y_train, Y_test = train_test_split(X, Y, test_size=0.2, random_state=0)\n",
    "#split X_train and Y_train into a 'pure' training set and a validation set\n",
    "X_train, X_val, Y_train, Y_val = train_test_split(X_train, Y_train, test_size=0.1, random_state=0)\n",
    "print('train:', X_train.shape, Y_train.shape)\n",
    "print('validation:', X_val.shape, Y_val.shape)\n",
    "print('test:', X_test.shape, Y_test.shape)"
   ]
  },
  {
   "cell_type": "code",
   "execution_count": 10,
   "metadata": {},
   "outputs": [
    {
     "data": {
      "image/png": "[encoded data removed]",
      "text/plain": [
       "<Figure size 432x288 with 1 Axes>"
      ]
     },
     "metadata": {
      "needs_background": "light"
     },
     "output_type": "display_data"
    }
   ],
   "source": [
    "plt.hist(Y_train, bins=20);"
   ]
  },
  {
   "cell_type": "markdown",
   "metadata": {},
   "source": [
    "Let's do upsampling for class-1"
   ]
  },
  {
   "cell_type": "code",
   "execution_count": 11,
   "metadata": {},
   "outputs": [
    {
     "name": "stdout",
     "output_type": "stream",
     "text": [
      "X_train_c1 (100824, 10) (100824,)\n",
      "X_train.shape after upsampling (201648, 10)\n",
      "Y_train.shape after upsampling (201648,)\n"
     ]
    }
   ],
   "source": [
    "from sklearn.utils import resample\n",
    "X_train_c1  = resample(X_train[Y_train==1], n_samples=100824)\n",
    "Y_train_c1 = np.ones(X_train_c1.shape[0])\n",
    "print('X_train_c1', X_train_c1.shape, Y_train_c1.shape)\n",
    "X_train=np.concatenate([X_train[Y_train==0], X_train_c1], axis=0)\n",
    "Y_train=np.concatenate([Y_train[Y_train==0], Y_train_c1], axis=0)\n",
    "print('X_train.shape after upsampling', X_train.shape)\n",
    "print('Y_train.shape after upsampling', Y_train.shape)"
   ]
  },
  {
   "cell_type": "code",
   "execution_count": 12,
   "metadata": {},
   "outputs": [],
   "source": [
    "#apply feature normalization to training, validation and test sets\n",
    "from sklearn.preprocessing import MinMaxScaler\n",
    "scaler=MinMaxScaler()\n",
    "scaler.fit(X_train) # think about why fit to X_train, not X ?\n",
    "X_train=scaler.transform(X_train)\n",
    "X_val=scaler.transform(X_val)\n",
    "X_test=scaler.transform(X_test)"
   ]
  },
  {
   "cell_type": "code",
   "execution_count": 13,
   "metadata": {},
   "outputs": [],
   "source": [
    "# we need to use weighted classification accuracy\n",
    "# try to understand it\n",
    "def weighted_accuracy(confusion):\n",
    "    #input: confusion is the confusion matrix\n",
    "    #output: acc is the weighted classification accuracy\n",
    "    M=confusion.copy().astype('float32')\n",
    "    for k in range(0, M.shape[0]):\n",
    "        M[k]/=M[k].sum()+1e-8    \n",
    "    acc = M.diagonal().sum()/M.sum()\n",
    "    return acc"
   ]
  },
  {
   "cell_type": "markdown",
   "metadata": {},
   "source": [
    "## Your task begins here <br>\n",
    "see NN_binary_classification_Pytorch.ipynb in Lecture 16 <br>\n",
    "try Adma with lr=0.001 <br>\n",
    "Usually, we need to tune the hyperparameters of a neural network, <br>\n",
    "such as the number of layers, the number of units in each layer <br>\n",
    "If you have plenty of time and enough computing power, try to find better hyperparameters <br>\n",
    "read papers about \"Neural Architecture Search\" https://arxiv.org/abs/1808.05377 <br>\n",
    "\n",
    "You need to modify the function `test` in order to use weighted_accuracy, see `test_acc` in H3P2T1_Keras.ipynb"
   ]
  },
  {
   "cell_type": "markdown",
   "metadata": {},
   "source": [
    "### define a dataset to hold/represent the data "
   ]
  },
  {
   "cell_type": "code",
   "execution_count": 14,
   "metadata": {},
   "outputs": [],
   "source": []
  },
  {
   "cell_type": "markdown",
   "metadata": {},
   "source": [
    "Create instance objects of the `MyDataset` class <br>\n",
    "a training dataset `dataset_train` <br>\n",
    "a validation dataset `dataset_val` <br>\n",
    "a testing dataset `dataset_test` <br>"
   ]
  },
  {
   "cell_type": "code",
   "execution_count": 15,
   "metadata": {},
   "outputs": [],
   "source": []
  },
  {
   "cell_type": "code",
   "execution_count": 16,
   "metadata": {},
   "outputs": [
    {
     "data": {
      "text/plain": [
       "torch.Size([10])"
      ]
     },
     "execution_count": 16,
     "metadata": {},
     "output_type": "execute_result"
    }
   ],
   "source": [
    "# get the first data point in the training set\n",
    "# dataset_train[0][0] is x0\n",
    "# dataset_train[0][1] is y0\n",
    "dataset_train[0][0].shape"
   ]
  },
  {
   "cell_type": "code",
   "execution_count": 17,
   "metadata": {},
   "outputs": [
    {
     "data": {
      "text/plain": [
       "tensor(0.)"
      ]
     },
     "execution_count": 17,
     "metadata": {},
     "output_type": "execute_result"
    }
   ],
   "source": [
    "# the class label of the first training sample x0\n",
    "dataset_train[0][1]"
   ]
  },
  {
   "cell_type": "code",
   "execution_count": 18,
   "metadata": {},
   "outputs": [
    {
     "data": {
      "text/plain": [
       "201648"
      ]
     },
     "execution_count": 18,
     "metadata": {},
     "output_type": "execute_result"
    }
   ],
   "source": [
    "len(dataset_train) # get the number of data points in the training set"
   ]
  },
  {
   "cell_type": "markdown",
   "metadata": {},
   "source": [
    "### Create dataloaders which will be used to generate minibatches\n",
    "batch_size=N means each minibatch contains N data points  <br>\n",
    "note: the last minibatch may contain less than N data points"
   ]
  },
  {
   "cell_type": "code",
   "execution_count": 19,
   "metadata": {},
   "outputs": [],
   "source": [
    "#we must shuffle data points in the training set, set shuffle=True\n"
   ]
  },
  {
   "cell_type": "code",
   "execution_count": 20,
   "metadata": {},
   "outputs": [
    {
     "data": {
      "text/plain": [
       "3151"
      ]
     },
     "execution_count": 20,
     "metadata": {},
     "output_type": "execute_result"
    }
   ],
   "source": [
    "len(dataloader_train) # get the number of minibatches"
   ]
  },
  {
   "cell_type": "markdown",
   "metadata": {},
   "source": [
    "### Now, let's build a neural network that does binary classification"
   ]
  },
  {
   "cell_type": "code",
   "execution_count": 21,
   "metadata": {},
   "outputs": [],
   "source": []
  },
  {
   "cell_type": "markdown",
   "metadata": {},
   "source": [
    "create an instance object of the class"
   ]
  },
  {
   "cell_type": "code",
   "execution_count": 22,
   "metadata": {},
   "outputs": [],
   "source": []
  },
  {
   "cell_type": "code",
   "execution_count": 23,
   "metadata": {},
   "outputs": [
    {
     "data": {
      "text/plain": [
       "Net(\n",
       "  (layer1): Linear(in_features=10, out_features=256, bias=True)\n",
       "  (layer2): Linear(in_features=256, out_features=256, bias=True)\n",
       "  (layer3): Linear(in_features=256, out_features=256, bias=True)\n",
       "  (layer4): Linear(in_features=256, out_features=1, bias=True)\n",
       ")"
      ]
     },
     "execution_count": 23,
     "metadata": {},
     "output_type": "execute_result"
    }
   ],
   "source": [
    "#move the model to GPU if you have a GPU\n"
   ]
  },
  {
   "cell_type": "markdown",
   "metadata": {},
   "source": [
    "create an optimizer (e.g. Adam) and send the parameters of the model to the optimizer"
   ]
  },
  {
   "cell_type": "code",
   "execution_count": 24,
   "metadata": {},
   "outputs": [],
   "source": []
  },
  {
   "cell_type": "markdown",
   "metadata": {},
   "source": [
    "define a function to train the neural network in one epoch"
   ]
  },
  {
   "cell_type": "code",
   "execution_count": 25,
   "metadata": {},
   "outputs": [],
   "source": []
  },
  {
   "cell_type": "markdown",
   "metadata": {},
   "source": [
    "define a function to evaluate the neural network on the validation set or the testing set"
   ]
  },
  {
   "cell_type": "code",
   "execution_count": 26,
   "metadata": {},
   "outputs": [],
   "source": []
  },
  {
   "cell_type": "markdown",
   "metadata": {},
   "source": [
    "define a function to save the model to a file"
   ]
  },
  {
   "cell_type": "code",
   "execution_count": 27,
   "metadata": {},
   "outputs": [],
   "source": []
  },
  {
   "cell_type": "markdown",
   "metadata": {},
   "source": [
    "define a function to load the model from a file"
   ]
  },
  {
   "cell_type": "code",
   "execution_count": 28,
   "metadata": {},
   "outputs": [],
   "source": []
  },
  {
   "cell_type": "markdown",
   "metadata": {},
   "source": [
    "train the neural network model for many epochs"
   ]
  },
  {
   "cell_type": "code",
   "execution_count": 29,
   "metadata": {},
   "outputs": [],
   "source": []
  },
  {
   "cell_type": "code",
   "execution_count": 30,
   "metadata": {
    "scrolled": false
   },
   "outputs": [
    {
     "name": "stdout",
     "output_type": "stream",
     "text": [
      "Train Epoch: 0 [0/201648 (0%)]\tLoss: 0.692816\n",
      "Train Epoch: 0 [6400/201648 (3%)]\tLoss: 0.620332\n",
      "Train Epoch: 0 [12800/201648 (6%)]\tLoss: 0.673153\n",
      "Train Epoch: 0 [19200/201648 (10%)]\tLoss: 0.602169\n",
      "Train Epoch: 0 [25600/201648 (13%)]\tLoss: 0.574649\n",
      "Train Epoch: 0 [32000/201648 (16%)]\tLoss: 0.443933\n",
      "Train Epoch: 0 [38400/201648 (19%)]\tLoss: 0.481559\n",
      "Train Epoch: 0 [44800/201648 (22%)]\tLoss: 0.577212\n",
      "Train Epoch: 0 [51200/201648 (25%)]\tLoss: 0.486503\n",
      "Train Epoch: 0 [57600/201648 (29%)]\tLoss: 0.440227\n",
      "Train Epoch: 0 [64000/201648 (32%)]\tLoss: 0.424436\n",
      "Train Epoch: 0 [70400/201648 (35%)]\tLoss: 0.516994\n",
      "Train Epoch: 0 [76800/201648 (38%)]\tLoss: 0.441609\n",
      "Train Epoch: 0 [83200/201648 (41%)]\tLoss: 0.459680\n",
      "Train Epoch: 0 [89600/201648 (44%)]\tLoss: 0.466487\n",
      "Train Epoch: 0 [96000/201648 (48%)]\tLoss: 0.573463\n",
      "Train Epoch: 0 [102400/201648 (51%)]\tLoss: 0.514662\n",
      "Train Epoch: 0 [108800/201648 (54%)]\tLoss: 0.402093\n",
      "Train Epoch: 0 [115200/201648 (57%)]\tLoss: 0.564527\n",
      "Train Epoch: 0 [121600/201648 (60%)]\tLoss: 0.506991\n",
      "Train Epoch: 0 [128000/201648 (63%)]\tLoss: 0.568075\n",
      "Train Epoch: 0 [134400/201648 (67%)]\tLoss: 0.503176\n",
      "Train Epoch: 0 [140800/201648 (70%)]\tLoss: 0.472677\n",
      "Train Epoch: 0 [147200/201648 (73%)]\tLoss: 0.561127\n",
      "Train Epoch: 0 [153600/201648 (76%)]\tLoss: 0.498463\n",
      "Train Epoch: 0 [160000/201648 (79%)]\tLoss: 0.498067\n",
      "Train Epoch: 0 [166400/201648 (83%)]\tLoss: 0.581103\n",
      "Train Epoch: 0 [172800/201648 (86%)]\tLoss: 0.525211\n",
      "Train Epoch: 0 [179200/201648 (89%)]\tLoss: 0.472783\n",
      "Train Epoch: 0 [185600/201648 (92%)]\tLoss: 0.458040\n",
      "Train Epoch: 0 [192000/201648 (95%)]\tLoss: 0.530715\n",
      "Train Epoch: 0 [198400/201648 (98%)]\tLoss: 0.460915\n",
      "epoch 0 training loss: 0.5242867123244566 acc: 0.7432804\n",
      "epoch 0 validation loss: 0.4615913020803573 acc: 0.76500297\n",
      "saved: H3P2T1_Pytorch_e0.pt\n",
      "Train Epoch: 1 [0/201648 (0%)]\tLoss: 0.517687\n",
      "Train Epoch: 1 [6400/201648 (3%)]\tLoss: 0.739569\n",
      "Train Epoch: 1 [12800/201648 (6%)]\tLoss: 0.400086\n",
      "Train Epoch: 1 [19200/201648 (10%)]\tLoss: 0.473632\n",
      "Train Epoch: 1 [25600/201648 (13%)]\tLoss: 0.609662\n",
      "Train Epoch: 1 [32000/201648 (16%)]\tLoss: 0.373989\n",
      "Train Epoch: 1 [38400/201648 (19%)]\tLoss: 0.478610\n",
      "Train Epoch: 1 [44800/201648 (22%)]\tLoss: 0.349520\n",
      "Train Epoch: 1 [51200/201648 (25%)]\tLoss: 0.508201\n",
      "Train Epoch: 1 [57600/201648 (29%)]\tLoss: 0.386834\n",
      "Train Epoch: 1 [64000/201648 (32%)]\tLoss: 0.465048\n",
      "Train Epoch: 1 [70400/201648 (35%)]\tLoss: 0.539429\n",
      "Train Epoch: 1 [76800/201648 (38%)]\tLoss: 0.506604\n",
      "Train Epoch: 1 [83200/201648 (41%)]\tLoss: 0.406860\n",
      "Train Epoch: 1 [89600/201648 (44%)]\tLoss: 0.577383\n",
      "Train Epoch: 1 [96000/201648 (48%)]\tLoss: 0.500137\n",
      "Train Epoch: 1 [102400/201648 (51%)]\tLoss: 0.490226\n",
      "Train Epoch: 1 [108800/201648 (54%)]\tLoss: 0.519791\n",
      "Train Epoch: 1 [115200/201648 (57%)]\tLoss: 0.593806\n",
      "Train Epoch: 1 [121600/201648 (60%)]\tLoss: 0.537431\n",
      "Train Epoch: 1 [128000/201648 (63%)]\tLoss: 0.403351\n",
      "Train Epoch: 1 [134400/201648 (67%)]\tLoss: 0.532352\n",
      "Train Epoch: 1 [140800/201648 (70%)]\tLoss: 0.484974\n",
      "Train Epoch: 1 [147200/201648 (73%)]\tLoss: 0.473139\n",
      "Train Epoch: 1 [153600/201648 (76%)]\tLoss: 0.586719\n",
      "Train Epoch: 1 [160000/201648 (79%)]\tLoss: 0.601601\n",
      "Train Epoch: 1 [166400/201648 (83%)]\tLoss: 0.536946\n",
      "Train Epoch: 1 [172800/201648 (86%)]\tLoss: 0.559588\n",
      "Train Epoch: 1 [179200/201648 (89%)]\tLoss: 0.475141\n",
      "Train Epoch: 1 [185600/201648 (92%)]\tLoss: 0.479907\n",
      "Train Epoch: 1 [192000/201648 (95%)]\tLoss: 0.535080\n",
      "Train Epoch: 1 [198400/201648 (98%)]\tLoss: 0.454793\n",
      "epoch 1 training loss: 0.5019687334532512 acc: 0.76280946\n",
      "epoch 1 validation loss: 0.45838467348763284 acc: 0.7627771\n",
      "saved: H3P2T1_Pytorch_e1.pt\n",
      "Train Epoch: 2 [0/201648 (0%)]\tLoss: 0.499677\n",
      "Train Epoch: 2 [6400/201648 (3%)]\tLoss: 0.552982\n",
      "Train Epoch: 2 [12800/201648 (6%)]\tLoss: 0.606474\n",
      "Train Epoch: 2 [19200/201648 (10%)]\tLoss: 0.521727\n",
      "Train Epoch: 2 [25600/201648 (13%)]\tLoss: 0.501322\n",
      "Train Epoch: 2 [32000/201648 (16%)]\tLoss: 0.622516\n",
      "Train Epoch: 2 [38400/201648 (19%)]\tLoss: 0.501321\n",
      "Train Epoch: 2 [44800/201648 (22%)]\tLoss: 0.571981\n",
      "Train Epoch: 2 [51200/201648 (25%)]\tLoss: 0.616298\n",
      "Train Epoch: 2 [57600/201648 (29%)]\tLoss: 0.486413\n",
      "Train Epoch: 2 [64000/201648 (32%)]\tLoss: 0.557389\n",
      "Train Epoch: 2 [70400/201648 (35%)]\tLoss: 0.451856\n",
      "Train Epoch: 2 [76800/201648 (38%)]\tLoss: 0.467791\n",
      "Train Epoch: 2 [83200/201648 (41%)]\tLoss: 0.415312\n",
      "Train Epoch: 2 [89600/201648 (44%)]\tLoss: 0.555403\n",
      "Train Epoch: 2 [96000/201648 (48%)]\tLoss: 0.507065\n",
      "Train Epoch: 2 [102400/201648 (51%)]\tLoss: 0.493094\n",
      "Train Epoch: 2 [108800/201648 (54%)]\tLoss: 0.491000\n",
      "Train Epoch: 2 [115200/201648 (57%)]\tLoss: 0.486219\n",
      "Train Epoch: 2 [121600/201648 (60%)]\tLoss: 0.581328\n",
      "Train Epoch: 2 [128000/201648 (63%)]\tLoss: 0.436532\n",
      "Train Epoch: 2 [134400/201648 (67%)]\tLoss: 0.483444\n",
      "Train Epoch: 2 [140800/201648 (70%)]\tLoss: 0.481185\n",
      "Train Epoch: 2 [147200/201648 (73%)]\tLoss: 0.529825\n",
      "Train Epoch: 2 [153600/201648 (76%)]\tLoss: 0.471727\n",
      "Train Epoch: 2 [160000/201648 (79%)]\tLoss: 0.390799\n",
      "Train Epoch: 2 [166400/201648 (83%)]\tLoss: 0.391223\n",
      "Train Epoch: 2 [172800/201648 (86%)]\tLoss: 0.556194\n",
      "Train Epoch: 2 [179200/201648 (89%)]\tLoss: 0.609477\n",
      "Train Epoch: 2 [185600/201648 (92%)]\tLoss: 0.503881\n",
      "Train Epoch: 2 [192000/201648 (95%)]\tLoss: 0.513689\n",
      "Train Epoch: 2 [198400/201648 (98%)]\tLoss: 0.493873\n",
      "epoch 2 training loss: 0.4985672503908412 acc: 0.764932\n",
      "epoch 2 validation loss: 0.46699466334378464 acc: 0.76707923\n",
      "saved: H3P2T1_Pytorch_e2.pt\n",
      "Train Epoch: 3 [0/201648 (0%)]\tLoss: 0.557536\n",
      "Train Epoch: 3 [6400/201648 (3%)]\tLoss: 0.420543\n",
      "Train Epoch: 3 [12800/201648 (6%)]\tLoss: 0.423706\n",
      "Train Epoch: 3 [19200/201648 (10%)]\tLoss: 0.541405\n",
      "Train Epoch: 3 [25600/201648 (13%)]\tLoss: 0.554891\n",
      "Train Epoch: 3 [32000/201648 (16%)]\tLoss: 0.433252\n",
      "Train Epoch: 3 [38400/201648 (19%)]\tLoss: 0.500813\n",
      "Train Epoch: 3 [44800/201648 (22%)]\tLoss: 0.524481\n",
      "Train Epoch: 3 [51200/201648 (25%)]\tLoss: 0.467644\n",
      "Train Epoch: 3 [57600/201648 (29%)]\tLoss: 0.633594\n",
      "Train Epoch: 3 [64000/201648 (32%)]\tLoss: 0.488534\n",
      "Train Epoch: 3 [70400/201648 (35%)]\tLoss: 0.356552\n",
      "Train Epoch: 3 [76800/201648 (38%)]\tLoss: 0.529043\n",
      "Train Epoch: 3 [83200/201648 (41%)]\tLoss: 0.444333\n",
      "Train Epoch: 3 [89600/201648 (44%)]\tLoss: 0.475521\n",
      "Train Epoch: 3 [96000/201648 (48%)]\tLoss: 0.557806\n",
      "Train Epoch: 3 [102400/201648 (51%)]\tLoss: 0.609007\n",
      "Train Epoch: 3 [108800/201648 (54%)]\tLoss: 0.339031\n",
      "Train Epoch: 3 [115200/201648 (57%)]\tLoss: 0.538038\n",
      "Train Epoch: 3 [121600/201648 (60%)]\tLoss: 0.476925\n",
      "Train Epoch: 3 [128000/201648 (63%)]\tLoss: 0.545742\n",
      "Train Epoch: 3 [134400/201648 (67%)]\tLoss: 0.504147\n",
      "Train Epoch: 3 [140800/201648 (70%)]\tLoss: 0.403927\n",
      "Train Epoch: 3 [147200/201648 (73%)]\tLoss: 0.501605\n",
      "Train Epoch: 3 [153600/201648 (76%)]\tLoss: 0.552695\n",
      "Train Epoch: 3 [160000/201648 (79%)]\tLoss: 0.537156\n",
      "Train Epoch: 3 [166400/201648 (83%)]\tLoss: 0.540711\n",
      "Train Epoch: 3 [172800/201648 (86%)]\tLoss: 0.518635\n",
      "Train Epoch: 3 [179200/201648 (89%)]\tLoss: 0.457283\n",
      "Train Epoch: 3 [185600/201648 (92%)]\tLoss: 0.503279\n",
      "Train Epoch: 3 [192000/201648 (95%)]\tLoss: 0.533446\n",
      "Train Epoch: 3 [198400/201648 (98%)]\tLoss: 0.496202\n",
      "epoch 3 training loss: 0.49679237934227255 acc: 0.76538324\n",
      "epoch 3 validation loss: 0.46795995549318636 acc: 0.7587898\n",
      "saved: H3P2T1_Pytorch_e3.pt\n",
      "Train Epoch: 4 [0/201648 (0%)]\tLoss: 0.468375\n",
      "Train Epoch: 4 [6400/201648 (3%)]\tLoss: 0.371341\n",
      "Train Epoch: 4 [12800/201648 (6%)]\tLoss: 0.485754\n",
      "Train Epoch: 4 [19200/201648 (10%)]\tLoss: 0.507531\n",
      "Train Epoch: 4 [25600/201648 (13%)]\tLoss: 0.382877\n",
      "Train Epoch: 4 [32000/201648 (16%)]\tLoss: 0.414016\n",
      "Train Epoch: 4 [38400/201648 (19%)]\tLoss: 0.450169\n",
      "Train Epoch: 4 [44800/201648 (22%)]\tLoss: 0.465439\n",
      "Train Epoch: 4 [51200/201648 (25%)]\tLoss: 0.443371\n",
      "Train Epoch: 4 [57600/201648 (29%)]\tLoss: 0.473509\n",
      "Train Epoch: 4 [64000/201648 (32%)]\tLoss: 0.395870\n",
      "Train Epoch: 4 [70400/201648 (35%)]\tLoss: 0.415461\n",
      "Train Epoch: 4 [76800/201648 (38%)]\tLoss: 0.402927\n",
      "Train Epoch: 4 [83200/201648 (41%)]\tLoss: 0.446097\n",
      "Train Epoch: 4 [89600/201648 (44%)]\tLoss: 0.433064\n",
      "Train Epoch: 4 [96000/201648 (48%)]\tLoss: 0.604988\n",
      "Train Epoch: 4 [102400/201648 (51%)]\tLoss: 0.538729\n",
      "Train Epoch: 4 [108800/201648 (54%)]\tLoss: 0.664755\n",
      "Train Epoch: 4 [115200/201648 (57%)]\tLoss: 0.505318\n",
      "Train Epoch: 4 [121600/201648 (60%)]\tLoss: 0.529554\n",
      "Train Epoch: 4 [128000/201648 (63%)]\tLoss: 0.497415\n"
     ]
    },
    {
     "name": "stdout",
     "output_type": "stream",
     "text": [
      "Train Epoch: 4 [134400/201648 (67%)]\tLoss: 0.616271\n",
      "Train Epoch: 4 [140800/201648 (70%)]\tLoss: 0.488345\n",
      "Train Epoch: 4 [147200/201648 (73%)]\tLoss: 0.402225\n",
      "Train Epoch: 4 [153600/201648 (76%)]\tLoss: 0.379644\n",
      "Train Epoch: 4 [160000/201648 (79%)]\tLoss: 0.573850\n",
      "Train Epoch: 4 [166400/201648 (83%)]\tLoss: 0.419749\n",
      "Train Epoch: 4 [172800/201648 (86%)]\tLoss: 0.542373\n",
      "Train Epoch: 4 [179200/201648 (89%)]\tLoss: 0.515818\n",
      "Train Epoch: 4 [185600/201648 (92%)]\tLoss: 0.615233\n",
      "Train Epoch: 4 [192000/201648 (95%)]\tLoss: 0.503362\n",
      "Train Epoch: 4 [198400/201648 (98%)]\tLoss: 0.508732\n",
      "epoch 4 training loss: 0.49528386497527827 acc: 0.7667619\n",
      "epoch 4 validation loss: 0.5505949737543755 acc: 0.75961196\n",
      "saved: H3P2T1_Pytorch_e4.pt\n",
      "Train Epoch: 5 [0/201648 (0%)]\tLoss: 0.480408\n",
      "Train Epoch: 5 [6400/201648 (3%)]\tLoss: 0.568960\n",
      "Train Epoch: 5 [12800/201648 (6%)]\tLoss: 0.398670\n",
      "Train Epoch: 5 [19200/201648 (10%)]\tLoss: 0.633404\n",
      "Train Epoch: 5 [25600/201648 (13%)]\tLoss: 0.516474\n",
      "Train Epoch: 5 [32000/201648 (16%)]\tLoss: 0.476223\n",
      "Train Epoch: 5 [38400/201648 (19%)]\tLoss: 0.455390\n",
      "Train Epoch: 5 [44800/201648 (22%)]\tLoss: 0.436298\n",
      "Train Epoch: 5 [51200/201648 (25%)]\tLoss: 0.434918\n",
      "Train Epoch: 5 [57600/201648 (29%)]\tLoss: 0.458955\n",
      "Train Epoch: 5 [64000/201648 (32%)]\tLoss: 0.429170\n",
      "Train Epoch: 5 [70400/201648 (35%)]\tLoss: 0.372140\n",
      "Train Epoch: 5 [76800/201648 (38%)]\tLoss: 0.579684\n",
      "Train Epoch: 5 [83200/201648 (41%)]\tLoss: 0.544556\n",
      "Train Epoch: 5 [89600/201648 (44%)]\tLoss: 0.518202\n",
      "Train Epoch: 5 [96000/201648 (48%)]\tLoss: 0.433489\n",
      "Train Epoch: 5 [102400/201648 (51%)]\tLoss: 0.498094\n",
      "Train Epoch: 5 [108800/201648 (54%)]\tLoss: 0.583449\n",
      "Train Epoch: 5 [115200/201648 (57%)]\tLoss: 0.502616\n",
      "Train Epoch: 5 [121600/201648 (60%)]\tLoss: 0.428868\n",
      "Train Epoch: 5 [128000/201648 (63%)]\tLoss: 0.531967\n",
      "Train Epoch: 5 [134400/201648 (67%)]\tLoss: 0.621897\n",
      "Train Epoch: 5 [140800/201648 (70%)]\tLoss: 0.595257\n",
      "Train Epoch: 5 [147200/201648 (73%)]\tLoss: 0.485025\n",
      "Train Epoch: 5 [153600/201648 (76%)]\tLoss: 0.608180\n",
      "Train Epoch: 5 [160000/201648 (79%)]\tLoss: 0.471475\n",
      "Train Epoch: 5 [166400/201648 (83%)]\tLoss: 0.570704\n",
      "Train Epoch: 5 [172800/201648 (86%)]\tLoss: 0.376878\n",
      "Train Epoch: 5 [179200/201648 (89%)]\tLoss: 0.454111\n",
      "Train Epoch: 5 [185600/201648 (92%)]\tLoss: 0.416132\n",
      "Train Epoch: 5 [192000/201648 (95%)]\tLoss: 0.411723\n",
      "Train Epoch: 5 [198400/201648 (98%)]\tLoss: 0.525782\n",
      "epoch 5 training loss: 0.49378675116466664 acc: 0.76698506\n",
      "epoch 5 validation loss: 0.4458628972160055 acc: 0.7651504\n",
      "saved: H3P2T1_Pytorch_e5.pt\n",
      "Train Epoch: 6 [0/201648 (0%)]\tLoss: 0.477684\n",
      "Train Epoch: 6 [6400/201648 (3%)]\tLoss: 0.375245\n",
      "Train Epoch: 6 [12800/201648 (6%)]\tLoss: 0.388682\n",
      "Train Epoch: 6 [19200/201648 (10%)]\tLoss: 0.378858\n",
      "Train Epoch: 6 [25600/201648 (13%)]\tLoss: 0.504910\n",
      "Train Epoch: 6 [32000/201648 (16%)]\tLoss: 0.495381\n",
      "Train Epoch: 6 [38400/201648 (19%)]\tLoss: 0.424071\n",
      "Train Epoch: 6 [44800/201648 (22%)]\tLoss: 0.464032\n",
      "Train Epoch: 6 [51200/201648 (25%)]\tLoss: 0.512333\n",
      "Train Epoch: 6 [57600/201648 (29%)]\tLoss: 0.406160\n",
      "Train Epoch: 6 [64000/201648 (32%)]\tLoss: 0.432732\n",
      "Train Epoch: 6 [70400/201648 (35%)]\tLoss: 0.557758\n",
      "Train Epoch: 6 [76800/201648 (38%)]\tLoss: 0.427669\n",
      "Train Epoch: 6 [83200/201648 (41%)]\tLoss: 0.593526\n",
      "Train Epoch: 6 [89600/201648 (44%)]\tLoss: 0.425774\n",
      "Train Epoch: 6 [96000/201648 (48%)]\tLoss: 0.432877\n",
      "Train Epoch: 6 [102400/201648 (51%)]\tLoss: 0.393121\n",
      "Train Epoch: 6 [108800/201648 (54%)]\tLoss: 0.490977\n",
      "Train Epoch: 6 [115200/201648 (57%)]\tLoss: 0.396359\n",
      "Train Epoch: 6 [121600/201648 (60%)]\tLoss: 0.597514\n",
      "Train Epoch: 6 [128000/201648 (63%)]\tLoss: 0.480583\n",
      "Train Epoch: 6 [134400/201648 (67%)]\tLoss: 0.594999\n",
      "Train Epoch: 6 [140800/201648 (70%)]\tLoss: 0.528030\n",
      "Train Epoch: 6 [147200/201648 (73%)]\tLoss: 0.577428\n",
      "Train Epoch: 6 [153600/201648 (76%)]\tLoss: 0.545680\n",
      "Train Epoch: 6 [160000/201648 (79%)]\tLoss: 0.478261\n",
      "Train Epoch: 6 [166400/201648 (83%)]\tLoss: 0.389127\n",
      "Train Epoch: 6 [172800/201648 (86%)]\tLoss: 0.467951\n",
      "Train Epoch: 6 [179200/201648 (89%)]\tLoss: 0.538541\n",
      "Train Epoch: 6 [185600/201648 (92%)]\tLoss: 0.453008\n",
      "Train Epoch: 6 [192000/201648 (95%)]\tLoss: 0.531928\n",
      "Train Epoch: 6 [198400/201648 (98%)]\tLoss: 0.542352\n",
      "epoch 6 training loss: 0.49248051614997423 acc: 0.7684678\n",
      "epoch 6 validation loss: 0.44570736602899874 acc: 0.76058424\n",
      "saved: H3P2T1_Pytorch_e6.pt\n",
      "Train Epoch: 7 [0/201648 (0%)]\tLoss: 0.491415\n",
      "Train Epoch: 7 [6400/201648 (3%)]\tLoss: 0.530648\n",
      "Train Epoch: 7 [12800/201648 (6%)]\tLoss: 0.437352\n",
      "Train Epoch: 7 [19200/201648 (10%)]\tLoss: 0.553778\n",
      "Train Epoch: 7 [25600/201648 (13%)]\tLoss: 0.470903\n",
      "Train Epoch: 7 [32000/201648 (16%)]\tLoss: 0.460772\n",
      "Train Epoch: 7 [38400/201648 (19%)]\tLoss: 0.545391\n",
      "Train Epoch: 7 [44800/201648 (22%)]\tLoss: 0.500976\n",
      "Train Epoch: 7 [51200/201648 (25%)]\tLoss: 0.615717\n",
      "Train Epoch: 7 [57600/201648 (29%)]\tLoss: 0.489981\n",
      "Train Epoch: 7 [64000/201648 (32%)]\tLoss: 0.538754\n",
      "Train Epoch: 7 [70400/201648 (35%)]\tLoss: 0.534475\n",
      "Train Epoch: 7 [76800/201648 (38%)]\tLoss: 0.432007\n",
      "Train Epoch: 7 [83200/201648 (41%)]\tLoss: 0.518782\n",
      "Train Epoch: 7 [89600/201648 (44%)]\tLoss: 0.453628\n",
      "Train Epoch: 7 [96000/201648 (48%)]\tLoss: 0.527732\n",
      "Train Epoch: 7 [102400/201648 (51%)]\tLoss: 0.444670\n",
      "Train Epoch: 7 [108800/201648 (54%)]\tLoss: 0.564971\n",
      "Train Epoch: 7 [115200/201648 (57%)]\tLoss: 0.508905\n",
      "Train Epoch: 7 [121600/201648 (60%)]\tLoss: 0.374438\n",
      "Train Epoch: 7 [128000/201648 (63%)]\tLoss: 0.480776\n",
      "Train Epoch: 7 [134400/201648 (67%)]\tLoss: 0.495182\n",
      "Train Epoch: 7 [140800/201648 (70%)]\tLoss: 0.524201\n",
      "Train Epoch: 7 [147200/201648 (73%)]\tLoss: 0.538602\n",
      "Train Epoch: 7 [153600/201648 (76%)]\tLoss: 0.464132\n",
      "Train Epoch: 7 [160000/201648 (79%)]\tLoss: 0.452011\n",
      "Train Epoch: 7 [166400/201648 (83%)]\tLoss: 0.612410\n",
      "Train Epoch: 7 [172800/201648 (86%)]\tLoss: 0.407889\n",
      "Train Epoch: 7 [179200/201648 (89%)]\tLoss: 0.480890\n",
      "Train Epoch: 7 [185600/201648 (92%)]\tLoss: 0.543901\n",
      "Train Epoch: 7 [192000/201648 (95%)]\tLoss: 0.432297\n",
      "Train Epoch: 7 [198400/201648 (98%)]\tLoss: 0.638838\n",
      "epoch 7 training loss: 0.4909669884100145 acc: 0.76904804\n",
      "epoch 7 validation loss: 0.484914648564572 acc: 0.7609924\n",
      "saved: H3P2T1_Pytorch_e7.pt\n",
      "Train Epoch: 8 [0/201648 (0%)]\tLoss: 0.436296\n",
      "Train Epoch: 8 [6400/201648 (3%)]\tLoss: 0.522765\n",
      "Train Epoch: 8 [12800/201648 (6%)]\tLoss: 0.483704\n",
      "Train Epoch: 8 [19200/201648 (10%)]\tLoss: 0.484343\n",
      "Train Epoch: 8 [25600/201648 (13%)]\tLoss: 0.414822\n",
      "Train Epoch: 8 [32000/201648 (16%)]\tLoss: 0.453875\n",
      "Train Epoch: 8 [38400/201648 (19%)]\tLoss: 0.473815\n",
      "Train Epoch: 8 [44800/201648 (22%)]\tLoss: 0.591931\n",
      "Train Epoch: 8 [51200/201648 (25%)]\tLoss: 0.461955\n",
      "Train Epoch: 8 [57600/201648 (29%)]\tLoss: 0.509169\n",
      "Train Epoch: 8 [64000/201648 (32%)]\tLoss: 0.544673\n",
      "Train Epoch: 8 [70400/201648 (35%)]\tLoss: 0.486322\n",
      "Train Epoch: 8 [76800/201648 (38%)]\tLoss: 0.601009\n",
      "Train Epoch: 8 [83200/201648 (41%)]\tLoss: 0.410956\n",
      "Train Epoch: 8 [89600/201648 (44%)]\tLoss: 0.521257\n",
      "Train Epoch: 8 [96000/201648 (48%)]\tLoss: 0.477860\n",
      "Train Epoch: 8 [102400/201648 (51%)]\tLoss: 0.584928\n",
      "Train Epoch: 8 [108800/201648 (54%)]\tLoss: 0.503778\n",
      "Train Epoch: 8 [115200/201648 (57%)]\tLoss: 0.537710\n",
      "Train Epoch: 8 [121600/201648 (60%)]\tLoss: 0.458566\n",
      "Train Epoch: 8 [128000/201648 (63%)]\tLoss: 0.548312\n",
      "Train Epoch: 8 [134400/201648 (67%)]\tLoss: 0.512487\n",
      "Train Epoch: 8 [140800/201648 (70%)]\tLoss: 0.555713\n",
      "Train Epoch: 8 [147200/201648 (73%)]\tLoss: 0.578211\n",
      "Train Epoch: 8 [153600/201648 (76%)]\tLoss: 0.557453\n",
      "Train Epoch: 8 [160000/201648 (79%)]\tLoss: 0.444790\n",
      "Train Epoch: 8 [166400/201648 (83%)]\tLoss: 0.546634\n",
      "Train Epoch: 8 [172800/201648 (86%)]\tLoss: 0.393447\n",
      "Train Epoch: 8 [179200/201648 (89%)]\tLoss: 0.451739\n",
      "Train Epoch: 8 [185600/201648 (92%)]\tLoss: 0.516274\n",
      "Train Epoch: 8 [192000/201648 (95%)]\tLoss: 0.385729\n",
      "Train Epoch: 8 [198400/201648 (98%)]\tLoss: 0.455084\n",
      "epoch 8 training loss: 0.4898857259440142 acc: 0.7699704\n",
      "epoch 8 validation loss: 0.4928155243396759 acc: 0.75915325\n",
      "saved: H3P2T1_Pytorch_e8.pt\n",
      "Train Epoch: 9 [0/201648 (0%)]\tLoss: 0.421629\n",
      "Train Epoch: 9 [6400/201648 (3%)]\tLoss: 0.484603\n",
      "Train Epoch: 9 [12800/201648 (6%)]\tLoss: 0.511412\n",
      "Train Epoch: 9 [19200/201648 (10%)]\tLoss: 0.490574\n",
      "Train Epoch: 9 [25600/201648 (13%)]\tLoss: 0.641887\n",
      "Train Epoch: 9 [32000/201648 (16%)]\tLoss: 0.589458\n",
      "Train Epoch: 9 [38400/201648 (19%)]\tLoss: 0.340955\n"
     ]
    },
    {
     "name": "stdout",
     "output_type": "stream",
     "text": [
      "Train Epoch: 9 [44800/201648 (22%)]\tLoss: 0.663444\n",
      "Train Epoch: 9 [51200/201648 (25%)]\tLoss: 0.481792\n",
      "Train Epoch: 9 [57600/201648 (29%)]\tLoss: 0.488393\n",
      "Train Epoch: 9 [64000/201648 (32%)]\tLoss: 0.496797\n",
      "Train Epoch: 9 [70400/201648 (35%)]\tLoss: 0.427543\n",
      "Train Epoch: 9 [76800/201648 (38%)]\tLoss: 0.413129\n",
      "Train Epoch: 9 [83200/201648 (41%)]\tLoss: 0.496185\n",
      "Train Epoch: 9 [89600/201648 (44%)]\tLoss: 0.397985\n",
      "Train Epoch: 9 [96000/201648 (48%)]\tLoss: 0.550525\n",
      "Train Epoch: 9 [102400/201648 (51%)]\tLoss: 0.432410\n",
      "Train Epoch: 9 [108800/201648 (54%)]\tLoss: 0.598409\n",
      "Train Epoch: 9 [115200/201648 (57%)]\tLoss: 0.449757\n",
      "Train Epoch: 9 [121600/201648 (60%)]\tLoss: 0.483331\n",
      "Train Epoch: 9 [128000/201648 (63%)]\tLoss: 0.586052\n",
      "Train Epoch: 9 [134400/201648 (67%)]\tLoss: 0.464013\n",
      "Train Epoch: 9 [140800/201648 (70%)]\tLoss: 0.560022\n",
      "Train Epoch: 9 [147200/201648 (73%)]\tLoss: 0.565861\n",
      "Train Epoch: 9 [153600/201648 (76%)]\tLoss: 0.431315\n",
      "Train Epoch: 9 [160000/201648 (79%)]\tLoss: 0.536873\n",
      "Train Epoch: 9 [166400/201648 (83%)]\tLoss: 0.442621\n",
      "Train Epoch: 9 [172800/201648 (86%)]\tLoss: 0.472322\n",
      "Train Epoch: 9 [179200/201648 (89%)]\tLoss: 0.601400\n",
      "Train Epoch: 9 [185600/201648 (92%)]\tLoss: 0.595114\n",
      "Train Epoch: 9 [192000/201648 (95%)]\tLoss: 0.572048\n",
      "Train Epoch: 9 [198400/201648 (98%)]\tLoss: 0.446685\n",
      "epoch 9 training loss: 0.4892138837916781 acc: 0.7705308\n",
      "epoch 9 validation loss: 0.5044283180477771 acc: 0.76111877\n",
      "saved: H3P2T1_Pytorch_e9.pt\n"
     ]
    }
   ],
   "source": []
  },
  {
   "cell_type": "markdown",
   "metadata": {},
   "source": [
    "draw the curves of loss vs epoch"
   ]
  },
  {
   "cell_type": "code",
   "execution_count": 31,
   "metadata": {},
   "outputs": [
    {
     "data": {
      "image/png": "[encoded data removed]",
      "text/plain": [
       "<Figure size 864x432 with 2 Axes>"
      ]
     },
     "metadata": {
      "needs_background": "light"
     },
     "output_type": "display_data"
    }
   ],
   "source": []
  },
  {
   "cell_type": "markdown",
   "metadata": {},
   "source": [
    "You can train the model for more than 10 epochs and see if you can get a better result"
   ]
  },
  {
   "cell_type": "code",
   "execution_count": 32,
   "metadata": {},
   "outputs": [],
   "source": [
    "#to change the learning rate during traning, we may do this\n",
    "for g in optimizer.param_groups:\n",
    "    g['lr']=0.001"
   ]
  },
  {
   "cell_type": "markdown",
   "metadata": {},
   "source": [
    "### after training, we load the best model from the harddrive and evaluate the model on the test set\n",
    "You may get a different result because of random initialization of network parameters"
   ]
  },
  {
   "cell_type": "code",
   "execution_count": 33,
   "metadata": {},
   "outputs": [],
   "source": [
    "# load the best model\n"
   ]
  },
  {
   "cell_type": "code",
   "execution_count": 34,
   "metadata": {},
   "outputs": [
    {
     "name": "stdout",
     "output_type": "stream",
     "text": [
      "test loss: 0.44629325814592813\n",
      "test accuracy 0.7520073\n"
     ]
    }
   ],
   "source": [
    "#get the loss and accuracy on the test set\n"
   ]
  }
 ],
 "metadata": {
  "kernelspec": {
   "display_name": "Python 3",
   "language": "python",
   "name": "python3"
  },
  "language_info": {
   "codemirror_mode": {
    "name": "ipython",
    "version": 3
   },
   "file_extension": ".py",
   "mimetype": "text/x-python",
   "name": "python",
   "nbconvert_exporter": "python",
   "pygments_lexer": "ipython3",
   "version": "3.7.6"
  }
 },
 "nbformat": 4,
 "nbformat_minor": 2
}
